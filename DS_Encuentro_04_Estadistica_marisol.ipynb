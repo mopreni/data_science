{
  "nbformat": 4,
  "nbformat_minor": 0,
  "metadata": {
    "kernelspec": {
      "display_name": "Python 3",
      "language": "python",
      "name": "python3"
    },
    "language_info": {
      "codemirror_mode": {
        "name": "ipython",
        "version": 3
      },
      "file_extension": ".py",
      "mimetype": "text/x-python",
      "name": "python",
      "nbconvert_exporter": "python",
      "pygments_lexer": "ipython3",
      "version": "3.7.0"
    },
    "colab": {
      "name": "DS_Encuentro_04_Estadistica_marisol.ipynb",
      "provenance": [],
      "collapsed_sections": [],
      "include_colab_link": true
    }
  },
  "cells": [
    {
      "cell_type": "markdown",
      "metadata": {
        "id": "view-in-github",
        "colab_type": "text"
      },
      "source": [
        "<a href=\"https://colab.research.google.com/github/mopreni/data_science/blob/master/DS_Encuentro_04_Estadistica_marisol.ipynb\" target=\"_parent\"><img src=\"https://colab.research.google.com/assets/colab-badge.svg\" alt=\"Open In Colab\"/></a>"
      ]
    },
    {
      "cell_type": "markdown",
      "metadata": {
        "id": "RnwLUgBNshQi",
        "colab_type": "text"
      },
      "source": [
        "# Estadística\n",
        "\n",
        "El objetivo del siguiente notebook es, además de repasar conceptos de estadística, que presten atención a cómo se calculan algunas cosas con Numpy y se hacen gráficos con Matplotlib (¿qué?¿qué es eso? Lo veremos más adelante. Por ahora, solamente tienen que instalar la librería Matplotlib y correr las celdas).\n"
      ]
    },
    {
      "cell_type": "markdown",
      "metadata": {
        "id": "trEPlmAMshQl",
        "colab_type": "text"
      },
      "source": [
        "## Distribuciones de probabilidad\n",
        "\n",
        "El concepto de distribución de probabilidad es un concepto central en probabilidad y estadística y, por lo tanto, hay mucho para decir. Nos limitamos acá a los puntos más importantes.\n",
        "\n",
        "Comencemos por un ejemplo: un dado de seis caras. La probabilidad de que al tirar el dado *salga* una cara es $1/6$. Si graficamos la probabilidad para cada resultado posible de tirar un dado, obtendríamos un gráfico como el siguiente:"
      ]
    },
    {
      "cell_type": "code",
      "metadata": {
        "id": "DyjFCAz8shQn",
        "colab_type": "code",
        "colab": {}
      },
      "source": [
        "import numpy as np\n",
        "import matplotlib.pyplot as plt"
      ],
      "execution_count": 0,
      "outputs": []
    },
    {
      "cell_type": "code",
      "metadata": {
        "id": "xfV4WjSwshQq",
        "colab_type": "code",
        "outputId": "9ebd1a10-bb7a-4bda-c4b1-cccd57b76177",
        "colab": {
          "base_uri": "https://localhost:8080/",
          "height": 281
        }
      },
      "source": [
        "valores = np.arange(1,7)\n",
        "probas = np.zeros(6) + 1/6\n",
        "plt.bar(valores, probas)\n",
        "plt.title('Distribución de probabilidad uniforme: lanzamiento de un dado')\n",
        "# plt.savefig('distribucion_dado.png', dpi = 400)\n",
        "plt.show()"
      ],
      "execution_count": 5,
      "outputs": [
        {
          "output_type": "display_data",
          "data": {
            "image/png": "[encoded data removed]",
            "text/plain": [
              "<Figure size 432x288 with 1 Axes>"
            ]
          },
          "metadata": {
            "tags": []
          }
        }
      ]
    },
    {
      "cell_type": "markdown",
      "metadata": {
        "id": "bdWtgy8nshQt",
        "colab_type": "text"
      },
      "source": [
        "En este caso, decimos que la distribución de probabilidad es *uniforme discreta*, ya que le asigna la misma probabilidad a los seis valores que pueden salir al tirar el dado. Si el dado estuviera cargado, ya no sería uniforme.\n",
        "\n",
        "**Algunos detalles**:\n",
        "1. El resultado de tirar un dado es un ejemplo de una *variable aleatoria*.\n",
        "2. En el caso del dado, la variable aleatoria puede tomar valores *discretos* y *acotados* (limitados): 1, 2, 3, 4, 5 y 6\n",
        "3. Existen variables aleatorias donde los posibles valores que puede tomar son continuos y no acotados. Veremos la distribución más famosa de ellas a continuación."
      ]
    },
    {
      "cell_type": "markdown",
      "metadata": {
        "id": "eDio3bPXshQu",
        "colab_type": "text"
      },
      "source": [
        "### Distribución Normal o Gaussiana\n",
        "\n",
        "La distribución normal o gaussiana debe ser la distribución más famosa dentro de las distribuciones. Es una distribución de variable continua y aparece en una infinidad de ámbitos de la ciencia. Muchas variables asociadas a fenómenos naturales siguen una distribución gaussiana; un ejemplo típico es la estatura de las personas. Recomendamos entrar en la página de Wikipedia y prestar atención a la sección \"Propiedades\":\n",
        "https://es.wikipedia.org/wiki/Distribuci%C3%B3n_normal\n",
        "\n",
        "Los dos parámetros de una distribución Gaussiana son: su valor medio $\\mu$ y su desviacíon estándar $\\sigma$. Estos valores son *teóricos*, es decir, son propios de la distribución de probabilidad. Numpy nos provee de herramientas para generar valores aleatorios de distribuciones normales. A continuación generamos, usando `np.random.normal()`, muestras de dos distribuciones normales, con el mismo valor medio pero distinta desviación estándar. **Consultar** la ayuda de la función para entender bien qué hace."
      ]
    },
    {
      "cell_type": "code",
      "metadata": {
        "scrolled": true,
        "id": "XvQRwR3WshQv",
        "colab_type": "code",
        "outputId": "89a6dc75-711a-4420-ffc9-eb908d15f090",
        "colab": {
          "base_uri": "https://localhost:8080/",
          "height": 1000
        }
      },
      "source": [
        "mu = 2.0\n",
        "sigma_1 = 5.0\n",
        "sigma_2 = 2.0\n",
        "muestras_1 = np.random.normal(loc = mu, scale = sigma_1, size = 400)\n",
        "muestras_2 = np.random.normal(loc = mu, scale = sigma_2, size = 400)\n",
        "print(muestras_1, muestras_2)"
      ],
      "execution_count": 6,
      "outputs": [
        {
          "output_type": "stream",
          "text": [
            "[ 1.05445533e+00  7.25773935e+00  5.89218935e+00  7.43143086e+00\n",
            " -1.13267966e+01 -5.42342476e-01 -1.43725590e+00  5.63468689e+00\n",
            "  5.99431370e+00  6.97077238e+00  5.18321224e+00 -2.46712779e+00\n",
            "  5.32786594e+00  9.04513757e+00  5.03127881e+00  5.36093039e+00\n",
            "  3.72729275e+00 -6.36175796e-01  9.20559168e+00  1.30554259e+01\n",
            " -8.21749102e+00  3.02769241e+00  3.34110278e+00  5.89415960e+00\n",
            "  2.89765119e+00 -7.63305917e-01  7.27889346e+00  4.17400530e+00\n",
            "  2.81898213e+00 -1.60725766e+00  3.23286709e+00  6.66189914e+00\n",
            "  7.12145447e+00 -1.20927005e+00 -4.44053044e-01 -2.10554414e+00\n",
            " -4.32368437e+00  9.85474933e+00 -5.06825852e+00  3.14527621e+00\n",
            " -7.29269618e-01  3.85177647e+00  1.17828979e+00 -3.30645361e+00\n",
            "  6.93267077e+00 -2.77121087e+00  4.52069894e+00 -1.19066256e-01\n",
            "  5.44928685e+00 -1.88920730e+00  9.70053756e-01  4.27236532e+00\n",
            " -1.10203425e+01 -3.78095135e+00 -6.21641717e+00  4.05958170e+00\n",
            "  9.82948195e+00  2.67158344e+00  6.33537382e+00 -2.51307112e+00\n",
            "  9.04613143e+00 -8.66527100e+00 -4.73229439e+00  5.95925540e+00\n",
            "  1.51515363e+00  3.28388229e-02 -5.23779035e-01  1.42283229e+00\n",
            "  1.06998420e+01 -5.56524083e-01 -4.53239070e-01 -2.36432050e+00\n",
            "  1.40837802e+00  4.55045901e+00 -3.26411081e-01 -9.34986311e-01\n",
            "  5.02210982e+00  1.69048733e+00  4.57876380e+00  4.88642173e+00\n",
            " -9.11347859e-01  6.09799922e+00  1.07552005e+00 -7.20036573e-01\n",
            "  2.39787707e+00  3.17627851e+00 -5.86192636e+00  1.27234358e+01\n",
            " -1.62051746e+00  2.05424800e+00  3.03436234e+00  5.45675219e+00\n",
            "  1.67425140e+00  5.12358651e+00 -5.87234125e+00  3.36402174e+00\n",
            " -1.19938552e+01 -6.03260457e-01  3.39446199e+00 -2.17351551e-01\n",
            "  3.09516671e+00  3.39170376e-01  4.85051694e+00  1.65380197e+00\n",
            "  7.10806186e+00  1.84145147e+00  4.89249595e+00  5.17126363e+00\n",
            "  1.99703098e+00  1.87282104e+00  4.49664193e-01  5.83014412e+00\n",
            " -1.35037628e+00 -2.61973865e-01 -1.94270953e+00 -2.51639522e+00\n",
            "  4.75860539e+00  6.96521206e+00  9.79166150e+00  3.16115928e+00\n",
            " -3.17871411e-01 -7.38530316e+00  3.21482510e+00  1.34580123e+00\n",
            "  1.08819896e+01  2.22240219e+00  2.30720961e+00 -3.18290342e+00\n",
            " -8.67910660e-01  8.24022740e+00  1.34971048e+00  1.55827630e+01\n",
            " -2.36566384e+00  2.68970207e+00  4.73650257e+00 -2.50312835e+00\n",
            "  4.85482763e+00 -2.65062736e-01  5.77320639e+00  1.11352586e+01\n",
            "  4.33575610e+00  5.36122525e-01  3.90854325e+00  3.99320675e+00\n",
            "  4.43672482e+00  1.29351585e-01  6.06554251e+00  1.42351923e+00\n",
            "  1.73211430e+00  1.28237239e+00 -2.18210506e+00  6.00376580e-01\n",
            "  1.83082365e+00  2.60770770e-01  5.30021673e+00 -8.85684389e-03\n",
            " -2.11657156e+00  7.60444426e+00 -4.76706944e-01  6.17848635e+00\n",
            "  2.88027782e+00  5.15247538e+00 -3.72056498e+00  1.12115584e+01\n",
            "  1.77642029e+00 -2.66005370e+00 -2.53855380e+00  1.00579496e+01\n",
            "  3.68965240e+00  4.20659415e+00 -2.36903717e+00 -6.33236494e-01\n",
            "  9.87666785e-01  4.51107841e+00  2.43143059e+00  3.74720427e+00\n",
            "  1.37490425e+00 -4.16399293e+00  4.56637927e-01  4.40578832e+00\n",
            "  1.02527688e+00  6.20876596e+00  4.23490477e+00  6.69566198e+00\n",
            " -2.44351823e+00  3.50191709e+00  4.56064895e-02 -6.19744806e-01\n",
            "  5.95440128e+00  2.52433093e+00  4.73831793e+00  1.26532667e-01\n",
            "  1.14277260e+01  8.20306149e+00  3.20431042e+00  8.21583463e-01\n",
            "  2.78852902e+00  8.24000390e-01 -2.85607578e+00  7.67255666e+00\n",
            "  4.49327096e+00  5.43039263e+00 -3.93923883e+00  7.49081503e+00\n",
            " -3.45279903e+00 -1.76286735e+00  7.04047360e+00  4.45923300e+00\n",
            " -6.18009492e+00  4.75331289e+00 -5.49712087e+00  7.22039297e+00\n",
            "  4.40729747e+00  7.31565192e-01  1.42442398e+00 -7.17082651e-01\n",
            "  1.35512545e+00  1.11683622e+01  1.10235509e+01 -3.43847909e+00\n",
            " -3.29639429e+00 -1.11138606e+00  3.68301807e-01 -5.46911573e+00\n",
            "  7.26062721e+00 -1.27417928e+00  1.95124456e+00 -7.89140496e+00\n",
            " -7.14280587e+00 -1.09190815e+00  1.89573857e+00  1.97632450e+00\n",
            "  5.24166699e+00  5.69263718e-01  3.85692100e+00  7.29081666e+00\n",
            "  3.27498906e+00  3.06564283e+00  1.62207510e-01  3.93042740e+00\n",
            "  4.42713653e+00  4.15519601e+00 -4.57188730e+00  1.69501202e+00\n",
            "  9.31670872e-01  2.30479159e+00 -3.65157867e+00  8.99314234e+00\n",
            " -3.64188396e+00  6.13911596e+00 -7.71290195e-01  1.90612772e+00\n",
            "  5.77978033e+00  5.81307996e+00  1.78562709e+00  1.25958476e+01\n",
            "  3.84428706e+00  6.77368995e+00  4.59246924e+00  1.51227914e+00\n",
            "  9.00603162e-01  2.26886515e+00  3.04781791e+00  4.53210468e+00\n",
            " -7.11478210e+00 -2.03653138e+00 -5.40671820e+00  2.66563556e+00\n",
            " -4.06291868e+00  1.66581826e+00  5.86165354e+00  7.33175219e-01\n",
            "  4.83011293e+00  5.44652680e+00  2.03978312e-01 -1.51242930e+00\n",
            " -5.11999973e-01  3.31004053e+00  2.11830267e+00  1.11223588e+00\n",
            "  5.82013974e+00  5.06402129e+00 -6.05334692e+00  3.70144292e+00\n",
            "  5.02834484e+00 -2.66933759e+00 -5.52251331e-01 -1.18868463e+00\n",
            "  6.43086501e+00 -3.88184716e+00  4.73425251e+00 -6.22253219e+00\n",
            "  6.41137311e+00 -5.98086930e+00 -7.79083540e+00 -4.60515294e+00\n",
            " -4.51011750e+00  7.06734646e+00  3.96406507e+00  2.64261283e+00\n",
            "  6.37092761e+00 -2.45472120e-02 -2.95955273e+00  4.26552411e+00\n",
            " -3.52605200e+00  3.39385849e+00 -3.43152426e+00 -3.69876916e+00\n",
            " -2.99184437e+00  5.04546763e+00  4.67598824e+00  4.08776179e+00\n",
            "  1.97284224e+00  3.54739261e+00 -6.63689985e+00  7.08168592e+00\n",
            "  4.78162716e-01  5.52183020e-01  7.35451089e+00 -2.44851811e+00\n",
            "  1.53310271e+00  1.55510742e+00  2.85654753e+00  5.24101248e+00\n",
            " -1.09845185e+00 -1.72583459e+00 -8.87760186e-01  8.99212055e+00\n",
            " -1.34990346e+00  3.99238188e+00 -4.31948905e+00  2.10014197e+00\n",
            "  3.96030935e-01 -9.11177820e-01  4.69999313e-02  1.09096444e+01\n",
            "  4.69339055e+00  9.80759604e+00  9.01415174e+00  5.78487453e+00\n",
            " -2.92362066e+00  3.44673207e+00  4.66220875e+00 -2.86286786e+00\n",
            "  4.49789619e+00 -7.15201053e+00  1.39279579e+01  2.35162974e+00\n",
            "  1.53556624e-01  1.78336451e+00 -1.45973453e+00 -1.27748309e+00\n",
            "  4.25864271e+00  2.41830647e+00 -9.70674574e-01  4.59660805e+00\n",
            "  2.42580863e+00 -2.35497149e+00 -1.16733166e+00 -9.17068249e-01\n",
            "  1.12184480e+01  2.95625004e+00  3.43093726e+00 -2.75790179e+00\n",
            "  5.84656874e+00  8.51905895e+00  4.54322920e+00  5.72996220e+00\n",
            "  7.21623224e+00 -7.77877294e+00 -7.28866776e-01 -1.10187061e+00\n",
            " -4.16675535e+00  5.11017162e-01 -9.41824519e+00  4.68965119e+00\n",
            "  2.38176963e+00  6.96907887e+00 -3.61495569e-01  5.60495332e+00\n",
            " -6.10912758e+00  2.24128498e+00  8.03568126e+00 -8.77716779e-01\n",
            "  7.15145213e+00  4.32188068e+00 -2.67265477e+00  2.02877208e-02\n",
            " -3.90053048e+00  2.83119902e+00 -5.66266802e+00  2.95963251e+00\n",
            "  7.75107908e-01  2.40830393e-01  4.99590327e+00  3.36591327e+00\n",
            "  1.27624029e+00  5.31980153e+00 -3.35743137e+00 -4.39859758e+00] [ 0.16335527 -1.63061379  5.24130734  3.5645793   2.68839701 -1.14027082\n",
            " -3.42126174  2.79357867 -2.37953822  0.93186384  2.4103099   0.7720795\n",
            "  1.68135022  1.34175968  2.90648813 -0.23439302  5.98604442  3.69324089\n",
            " -0.97302431  4.56419411 -0.94131972  0.92416509  1.83161563  0.88419307\n",
            "  4.3382072   0.15983591  2.76245036 -0.21226379  1.00464828 -0.05244244\n",
            " -1.87655134  1.94186766  0.99290704  2.79890414  0.95167622  2.96302518\n",
            "  2.8170518   5.58876649  5.57545031  1.35502064  1.8180416   0.82037913\n",
            "  2.18038689 -1.13940088  0.62240667  4.35712269  0.6981206   3.87833074\n",
            "  0.1779838  -1.11157545  5.554989    3.09740443  1.80093776  3.53652708\n",
            "  0.7662332   1.59426769 -0.07977865 -0.43055675  4.26909917  2.15177577\n",
            "  0.07668567  0.35609184  3.73721335  2.04742252  3.3279203   4.17449971\n",
            "  2.56999943 -0.63923279  3.81710809  1.88805174  2.81782142  6.97180326\n",
            "  3.54609225  1.13275716  0.3439965   1.68647048  1.66551951 -0.77762521\n",
            "  3.5340501   2.8635788   4.19132008  5.05865151 -0.3611136   3.11720059\n",
            "  1.01561526  2.48702654 -1.54789598  2.3166457   2.65222636  1.341152\n",
            "  4.31194301 -0.1225844   2.38398839  5.54469345  5.40111801  1.33046402\n",
            "  1.21674484 -0.54902129  0.628791    2.90281459  5.1772838  -0.75940264\n",
            "  3.65613267  4.75634947  0.15493218  4.39864981  5.80048622  3.56994184\n",
            "  0.72118356  2.98013128 -0.06857577  6.15968992  2.82201757  3.548137\n",
            "  4.33198578  0.56845086  1.85304906  3.96817814  2.38962914  1.39601038\n",
            "  3.95362094 -0.68937911  3.25045013  1.16367025  5.43880678 -0.33465084\n",
            "  3.05665058  1.0385332   1.97253343 -1.76076858 -1.75043285  1.34905566\n",
            " -1.34110117  3.97624264  2.90047871  0.90345087  4.21232318  0.56789755\n",
            "  2.11961338  0.85440987  1.46284426  1.49749823  0.44429809  1.79618676\n",
            "  0.15300221 -1.19829668  1.45307259  4.6645052   3.78642867  3.43572871\n",
            "  2.02937671  3.62865968  2.0020901   2.8917244   4.73008862  1.07687519\n",
            "  1.7001189  -0.48614953  2.16741359  0.45082455 -0.21209161  3.59224158\n",
            "  0.95530634  1.85365959  2.72323082  0.78116682  3.10539924  1.34080398\n",
            "  0.04231079 -1.6367849   1.66211655  2.303879    1.37211734  0.32246695\n",
            "  2.07826369  0.57941466  3.64031925 -0.65133525  2.28909496  4.43885553\n",
            "  0.78140034  0.89770756  0.7501477  -1.62238476  0.99381633  1.76552182\n",
            "  4.35098015  0.38963907 -0.73761128 -0.37521223  1.44508594 -1.00031064\n",
            "  0.14092957  0.23329209  3.01213668  1.798139    0.6061062   2.44399184\n",
            "  3.39620965  1.60429709  5.42367396  2.95659057  3.3016552   3.5531934\n",
            "  3.76689081  2.55451592  2.31606164  4.79037795  2.19069888  2.26205137\n",
            "  1.79058566  0.05791595  2.93907656  2.40767708 -0.74835545 -1.9436962\n",
            "  2.75314237  4.51143477  1.08868835  7.2414054   2.52907595 -0.18947329\n",
            "  3.55728769  0.24987163  3.03522965  3.03372455  4.49546557  0.69801237\n",
            "  4.07572791  4.53513919  3.32877741  0.85191172  4.24735497  2.01774534\n",
            "  1.46714971  1.32573775  3.77142218 -0.08485098  1.64488958  1.60355553\n",
            " -1.94938558  1.66636346  0.47846068  1.66994591  3.30813028  1.75620649\n",
            " -0.04486876 -1.56211857  2.83063954  0.26700165  1.58181816  3.94105917\n",
            "  0.2799911   3.01115792  2.89207998  2.13505578  4.7606047   0.67386491\n",
            "  1.30722845  1.59700959  2.48820587  1.9984136   1.40951113  0.28334528\n",
            "  0.55310073  0.09318242  1.8496725   1.42448948  0.18836576  0.33110538\n",
            "  3.43817467  2.1044951   1.25901231  2.68699933  2.32119676 -0.14934955\n",
            " -0.7399906   1.9400516   1.38390988  0.60510172  5.19129174  2.81123878\n",
            "  4.39744887  0.44332411  5.61643354  6.02536347  2.54672754  3.60959058\n",
            "  0.55789243  2.73596015  2.55446102  2.7817785   1.93799934  2.04950778\n",
            "  2.54982607  1.89889122  1.25767852  0.60754751  3.31381753  4.36245185\n",
            "  4.54585106 -0.05526597  1.48916556  5.42156138 -0.29088623 -0.70833464\n",
            "  1.49427362  0.92657229  3.59361348  2.04358708  0.35044073  3.90772731\n",
            " -0.95357671  4.77180489  2.06701315  1.75121806  6.58412702  5.2658213\n",
            "  1.58031742 -2.28449983  2.5343191   0.95612052  2.05686136  1.01093843\n",
            "  1.14712584  3.2514823   5.41940264  1.17551481  4.71978237  2.89403379\n",
            "  3.21967848  3.37373536  1.88115787  1.59084651 -0.89615031  1.25310503\n",
            "  4.24852923  5.1124422   2.66651383  1.202953    1.8499909  -0.40877651\n",
            "  1.92281122  1.24186347  1.89167622  1.20430511  3.9144426   2.91721954\n",
            "  1.12477068  1.30540876  3.57039359  0.14131133  2.73485088  2.84955439\n",
            "  4.35035349  3.86455762  3.17063485  1.48013181  1.6670515   0.1819652\n",
            "  1.56167213  3.45163551  1.31420708 -0.19278147 -3.3406023   2.38606881\n",
            "  2.74014435  2.69664758  2.01280247 -1.10469333  1.12228049  1.07698009\n",
            "  4.12818212  3.21979402  1.87915544  0.74511425  1.73780877  2.5678355\n",
            " -0.59667891  2.73858432  2.65053941  4.57147885  1.15108081  1.23091796\n",
            "  0.16368023  4.06142764  1.84666756  1.18808863  0.48822788  4.3412171\n",
            " -0.35166901 -1.04539035  5.19372815  2.11085969  1.41757763  1.62455065\n",
            "  4.48649699  0.16892974  3.94325103  0.55984562]\n"
          ],
          "name": "stdout"
        }
      ]
    },
    {
      "cell_type": "markdown",
      "metadata": {
        "id": "DcT_QICJshQy",
        "colab_type": "text"
      },
      "source": [
        "Notar que son dos \"tiras\" de números, bastante largas y que a simple vista no nos dicen mucho. Mejor, podemos graficar su histograma (¿Qué es eso? Nuevamente, lo veremos durante las próximas clases, pero se pueden ir familiarizando)."
      ]
    },
    {
      "cell_type": "code",
      "metadata": {
        "id": "JWVXJKN1shQz",
        "colab_type": "code",
        "outputId": "108e2326-22c1-4f75-f40d-22868111c985",
        "colab": {
          "base_uri": "https://localhost:8080/",
          "height": 483
        }
      },
      "source": [
        "plt.figure(figsize = (10,8))\n",
        "plt.hist(muestras_1, bins = 20, alpha = 0.5, label = 'Histrograma Muestra 1')\n",
        "plt.hist(muestras_2, bins = 20, alpha = 0.5, label = 'Histrograma Muestra 2')\n",
        "plt.legend()\n",
        "plt.grid()\n",
        "plt.show()"
      ],
      "execution_count": 7,
      "outputs": [
        {
          "output_type": "display_data",
          "data": {
            "image/png": "[encoded data removed]",
            "text/plain": [
              "<Figure size 720x576 with 1 Axes>"
            ]
          },
          "metadata": {
            "tags": []
          }
        }
      ]
    },
    {
      "cell_type": "markdown",
      "metadata": {
        "id": "YInq6P9gshQ2",
        "colab_type": "text"
      },
      "source": [
        "Volver a \"generar\" las muestas y hacer sus histogramas. ¿Cambió?¿Por qué?"
      ]
    },
    {
      "cell_type": "markdown",
      "metadata": {
        "id": "lLR_yKkhshQ3",
        "colab_type": "text"
      },
      "source": [
        "### Promedio\n",
        "\n",
        "Dados $n$ números $x_1,x_2,...,x_n$, el promedio o media es \n",
        "\n",
        "$$\\overline{x} = \\frac{1}{n}\\sum_{i=1}^{n} x_i = \\frac{x_1 + x_2 + ... + x_n}{n}$$"
      ]
    },
    {
      "cell_type": "markdown",
      "metadata": {
        "id": "uhOnw9-MshQ4",
        "colab_type": "text"
      },
      "source": [
        "y lo podemos calcular *a mano* con Python"
      ]
    },
    {
      "cell_type": "code",
      "metadata": {
        "id": "hLkZz-3XshQ5",
        "colab_type": "code",
        "outputId": "092ba11e-6ebe-4151-9c1c-8bfd77e3d17d",
        "colab": {
          "base_uri": "https://localhost:8080/",
          "height": 33
        }
      },
      "source": [
        "x_s = np.array([1,2,3,1,2,2,3,4,1,2,3,4,1,2,4])\n",
        "n = len(x_s)\n",
        "\n",
        "#forma lenta\n",
        "x_mean = 0\n",
        "for x in x_s:\n",
        "    x_mean +=x\n",
        "x_mean/=n\n",
        "print(x_mean)"
      ],
      "execution_count": 8,
      "outputs": [
        {
          "output_type": "stream",
          "text": [
            "2.3333333333333335\n"
          ],
          "name": "stdout"
        }
      ]
    },
    {
      "cell_type": "markdown",
      "metadata": {
        "id": "9AQBueMXshQ9",
        "colab_type": "text"
      },
      "source": [
        "o, mejor, usando Numpy"
      ]
    },
    {
      "cell_type": "code",
      "metadata": {
        "id": "f8TEqAGPshQ-",
        "colab_type": "code",
        "outputId": "2f299340-96d9-40a6-b814-c323b8b928d5",
        "colab": {
          "base_uri": "https://localhost:8080/",
          "height": 33
        }
      },
      "source": [
        "x_mean = np.mean(x_s)\n",
        "print(x_mean)"
      ],
      "execution_count": 9,
      "outputs": [
        {
          "output_type": "stream",
          "text": [
            "2.3333333333333335\n"
          ],
          "name": "stdout"
        }
      ]
    },
    {
      "cell_type": "markdown",
      "metadata": {
        "id": "8ZkJln8YshRB",
        "colab_type": "text"
      },
      "source": [
        "**Comentarios**:\n",
        "1. Dado un conjunto de números, el promedio suele ser considerado el número más representativo de ese conjunto. Esto no siempre es así. Pensar por qué.\n",
        "2. Al conjunto de números $x_1,...,x_n$ los pueden encontrar por el nombre de *población* o *muestra* (¡Ojo que no estamos diciendo que *población* y *muestra* sean lo mismo!).\n"
      ]
    },
    {
      "cell_type": "markdown",
      "metadata": {
        "id": "vNpbslLJshRC",
        "colab_type": "text"
      },
      "source": [
        "### Desviación Estándar\n",
        "\n",
        "La desviación estándar nos da una idea de cuán \"dispersos\" están los valores con respecto a su promedio. En general se usa la letra griega $\\sigma$ para representarla (igual que el parámetro $\\sigma$ de la distribución normal, ¡pero refieren a cosas distintas - aunque relacionadas!) o las siglas $SD$. Como no queremos que se confundan, preferimos la segunda opción.\n",
        "\n",
        "$$ SD = \\sqrt{\\frac{\\sum_{i=1}^{n} (x_i -\\overline{x})^2}{n - 1}}$$\n",
        "\n",
        "Numpy, nuevamente, tiene funciones ya incorporadas que calculan la desviación estándar de un arreglo:"
      ]
    },
    {
      "cell_type": "code",
      "metadata": {
        "id": "QBVGPoioshRD",
        "colab_type": "code",
        "outputId": "0edc4527-8900-471b-bfde-00843439009d",
        "colab": {
          "base_uri": "https://localhost:8080/",
          "height": 33
        }
      },
      "source": [
        "x_std = np.std(x_s)\n",
        "print(x_std)"
      ],
      "execution_count": 10,
      "outputs": [
        {
          "output_type": "stream",
          "text": [
            "1.0749676997731399\n"
          ],
          "name": "stdout"
        }
      ]
    },
    {
      "cell_type": "markdown",
      "metadata": {
        "id": "kSUsca0tshRG",
        "colab_type": "text"
      },
      "source": [
        "**Para investigar**: ¿qué es el parámetro `ddof` de esa función?\n",
        "\n",
        "**ddof** : int, optional\n",
        "Means Delta Degrees of Freedom. The divisor used in calculations is N - ddof, where N represents the number of elements. By default ddof is zero."
      ]
    },
    {
      "cell_type": "markdown",
      "metadata": {
        "id": "DN4PV4MEshRH",
        "colab_type": "text"
      },
      "source": [
        "### Promedio y desviación estándar en una distribución Normal\n",
        "\n",
        "En una distribución normal, el promedio de las muestras obtenidas *tiende* al valor medio $\\mu$ de la distribución, y la desviación estándar *tiende* a la desviacíon estándar $\\sigma$ de la distribución. Notar, entonces, que existen valores calculados (promedio, desviación estándar) y valores teóricos ($\\mu$ y $\\sigma$). Confundirlos entre sí es un error común."
      ]
    },
    {
      "cell_type": "code",
      "metadata": {
        "id": "bUvq6voMshRI",
        "colab_type": "code",
        "colab": {}
      },
      "source": [
        "mu = 8.5\n",
        "sigma = 3.0\n",
        "muestras = np.random.normal(loc = mu, scale = sigma, size = 400)"
      ],
      "execution_count": 0,
      "outputs": []
    },
    {
      "cell_type": "code",
      "metadata": {
        "id": "61iud6JjshRK",
        "colab_type": "code",
        "colab": {
          "base_uri": "https://localhost:8080/",
          "height": 50
        },
        "outputId": "b06e036b-dc83-4b3b-d219-44b516b4fbf8"
      },
      "source": [
        "print('Valor medio teorico:', mu, '. Valor medio calculado:', muestras.mean())\n",
        "print('Desviacion estandar teorica:', sigma, '. Desviacion estandar calculada:', muestras.std())"
      ],
      "execution_count": 12,
      "outputs": [
        {
          "output_type": "stream",
          "text": [
            "Valor medio teorico: 8.5 . Valor medio calculado: 8.395783277438461\n",
            "Desviacion estandar teorica: 3.0 . Desviacion estandar calculada: 2.9789205711346334\n"
          ],
          "name": "stdout"
        }
      ]
    },
    {
      "cell_type": "markdown",
      "metadata": {
        "id": "N-zj2IYJshRN",
        "colab_type": "text"
      },
      "source": [
        "¿Por qué no coinciden?¿Qué podemos hacer para que se parezcan cada vez más?"
      ]
    },
    {
      "cell_type": "markdown",
      "metadata": {
        "id": "W3T5-A5ushRO",
        "colab_type": "text"
      },
      "source": [
        "## Repaso: Estadística con Python/Numpy\n",
        "\n",
        "Como vimos, en la librería Numpy ya hay funciones que calculan varios *estadísticos* dada una muestra\n"
      ]
    },
    {
      "cell_type": "code",
      "metadata": {
        "id": "x9VzU-bVshRP",
        "colab_type": "code",
        "colab": {
          "base_uri": "https://localhost:8080/",
          "height": 33
        },
        "outputId": "5028db24-5e12-47a9-fd1a-f1a44ff0c4a1"
      },
      "source": [
        "x_s = np.array([1,2,3,1,2,2,3,4,1,2,3,4,1,2,4])\n",
        "x_mean = np.mean(x_s) #alternativamente, x_s.mean()\n",
        "std = np.std(x_s) #alternativamente, x_s.std()\n",
        "print(x_mean, std)"
      ],
      "execution_count": 13,
      "outputs": [
        {
          "output_type": "stream",
          "text": [
            "2.3333333333333335 1.0749676997731399\n"
          ],
          "name": "stdout"
        }
      ]
    },
    {
      "cell_type": "markdown",
      "metadata": {
        "id": "EjP2q1nQshRS",
        "colab_type": "text"
      },
      "source": [
        "También hay funciones que generan muestras al azar de una distribución"
      ]
    },
    {
      "cell_type": "code",
      "metadata": {
        "id": "7OmVHPM2shRT",
        "colab_type": "code",
        "colab": {
          "base_uri": "https://localhost:8080/",
          "height": 50
        },
        "outputId": "6887a17d-ec63-42ad-ec22-5b45655f94d7"
      },
      "source": [
        "promedio = 2.0\n",
        "std = 5.0\n",
        "muestras_normal = np.random.normal(loc = promedio, scale = std, size = 400)\n",
        "print(muestras_normal[:10])"
      ],
      "execution_count": 14,
      "outputs": [
        {
          "output_type": "stream",
          "text": [
            "[ 0.50741181 -8.91273191  2.80661034  3.92824642  0.47043273 -0.15084893\n",
            " -7.79463264 -1.02181383  0.68914341  7.05548095]\n"
          ],
          "name": "stdout"
        }
      ]
    },
    {
      "cell_type": "markdown",
      "metadata": {
        "id": "YT27ka3AshRW",
        "colab_type": "text"
      },
      "source": [
        "Y con Matplotlib podemos hacer histogramas"
      ]
    },
    {
      "cell_type": "code",
      "metadata": {
        "id": "fuXHjmEEshRX",
        "colab_type": "code",
        "colab": {
          "base_uri": "https://localhost:8080/",
          "height": 265
        },
        "outputId": "b5cfbf41-2a7b-49e0-84f7-9a5f22707e31"
      },
      "source": [
        "plt.hist(muestras_normal, bins = 20)\n",
        "plt.grid()\n",
        "plt.show()"
      ],
      "execution_count": 15,
      "outputs": [
        {
          "output_type": "display_data",
          "data": {
            "image/png": "[encoded data removed]",
            "text/plain": [
              "<Figure size 432x288 with 1 Axes>"
            ]
          },
          "metadata": {
            "tags": []
          }
        }
      ]
    },
    {
      "cell_type": "markdown",
      "metadata": {
        "id": "_XwZ3JI7shRa",
        "colab_type": "text"
      },
      "source": [
        "## Ejercicio\n",
        "\n",
        "¿Cuál será el promedio de los valores obtenidos de tirar muchas veces un dado? Vamos a tratar de responder esta pregunta *simulando* un dado y luego comparar con el valor teórico.\n",
        "\n",
        "1. Obtener 30 muestras al azar de un dado. No hay una única forma de hacerlo. Pueden googlear o mirar la documentación del módulo *random* de Numpy (https://docs.scipy.org/doc/numpy-1.15.1/reference/routines.random.html). Pista: choice o randint."
      ]
    },
    {
      "cell_type": "code",
      "metadata": {
        "scrolled": true,
        "id": "dut49GWOshRc",
        "colab_type": "code",
        "colab": {
          "base_uri": "https://localhost:8080/",
          "height": 50
        },
        "outputId": "5ade3a8e-1a96-4998-ce2c-72df88fd4ab1"
      },
      "source": [
        "muestras_randint = np.random.randint(1, high=6, size=30)\n",
        "muestras_randint"
      ],
      "execution_count": 40,
      "outputs": [
        {
          "output_type": "execute_result",
          "data": {
            "text/plain": [
              "array([5, 3, 2, 5, 3, 1, 3, 4, 1, 4, 2, 3, 1, 3, 5, 5, 4, 3, 3, 3, 1, 3,\n",
              "       3, 1, 4, 3, 2, 5, 1, 1])"
            ]
          },
          "metadata": {
            "tags": []
          },
          "execution_count": 40
        }
      ]
    },
    {
      "cell_type": "code",
      "metadata": {
        "id": "ZGwJVmwoDqxt",
        "colab_type": "code",
        "colab": {
          "base_uri": "https://localhost:8080/",
          "height": 50
        },
        "outputId": "d745fae0-ccd9-4c70-8502-ac0c4c7efb55"
      },
      "source": [
        "muestras_choice = np.random.choice(6, size=30)\n",
        "muestras_choice"
      ],
      "execution_count": 38,
      "outputs": [
        {
          "output_type": "execute_result",
          "data": {
            "text/plain": [
              "array([5, 5, 1, 5, 1, 4, 3, 4, 1, 4, 4, 1, 5, 2, 1, 1, 3, 5, 0, 2, 2, 4,\n",
              "       1, 5, 1, 0, 5, 4, 5, 1])"
            ]
          },
          "metadata": {
            "tags": []
          },
          "execution_count": 38
        }
      ]
    },
    {
      "cell_type": "markdown",
      "metadata": {
        "id": "kGx1uc82shRf",
        "colab_type": "text"
      },
      "source": [
        "2. Hacer el histograma. ¿Se parece a lo que esperaban? Volver esta celda y la anterior, pero obteniendo 1000 muestras."
      ]
    },
    {
      "cell_type": "code",
      "metadata": {
        "id": "lCpCPLUZshRg",
        "colab_type": "code",
        "colab": {
          "base_uri": "https://localhost:8080/",
          "height": 265
        },
        "outputId": "a67814dd-70d7-4362-c1e7-bfbee2fd7897"
      },
      "source": [
        "plt.hist(muestras_randint, bins = 6)\n",
        "plt.grid()\n",
        "plt.show() #consultar qué pasa con ese intervalo"
      ],
      "execution_count": 41,
      "outputs": [
        {
          "output_type": "display_data",
          "data": {
            "image/png": "[encoded data removed]",
            "text/plain": [
              "<Figure size 432x288 with 1 Axes>"
            ]
          },
          "metadata": {
            "tags": []
          }
        }
      ]
    },
    {
      "cell_type": "code",
      "metadata": {
        "id": "85I_YcG9EGR9",
        "colab_type": "code",
        "colab": {
          "base_uri": "https://localhost:8080/",
          "height": 265
        },
        "outputId": "cac5190e-cc25-471c-830d-fe271127acc5"
      },
      "source": [
        "plt.hist(muestras_choice, bins = 6)\n",
        "plt.grid()\n",
        "plt.show()"
      ],
      "execution_count": 39,
      "outputs": [
        {
          "output_type": "display_data",
          "data": {
            "image/png": "[encoded data removed]",
            "text/plain": [
              "<Figure size 432x288 with 1 Axes>"
            ]
          },
          "metadata": {
            "tags": []
          }
        }
      ]
    },
    {
      "cell_type": "markdown",
      "metadata": {
        "id": "BnCSrgdsshRj",
        "colab_type": "text"
      },
      "source": [
        "3. Obtener el valor medio y la desviación estándar de la distribución."
      ]
    },
    {
      "cell_type": "code",
      "metadata": {
        "id": "lGPxHqM4shRk",
        "colab_type": "code",
        "colab": {}
      },
      "source": [
        "COMPLETAR"
      ],
      "execution_count": 0,
      "outputs": []
    },
    {
      "cell_type": "markdown",
      "metadata": {
        "id": "zZyQ_ICjshRn",
        "colab_type": "text"
      },
      "source": [
        "4. Averiguar cuales son los valores *esperados*. ¿Están cerca de los valores que obtuvieron ustedes? Pista: mirar en Wikipedia (en inglés) las propiedades de la distribución uniforme discreta."
      ]
    },
    {
      "cell_type": "markdown",
      "metadata": {
        "id": "Vbd-dnlQshRn",
        "colab_type": "text"
      },
      "source": [
        "5. ¿Cómo se modifica si el dado está *cargado*?. Simular un dado cargado (pueden *cargar* el número que quieran). Pista: choice"
      ]
    },
    {
      "cell_type": "code",
      "metadata": {
        "id": "guul6hjVshRo",
        "colab_type": "code",
        "colab": {}
      },
      "source": [
        "# a. Crear un arreglo que asigne probabilidades a cada valor del dado. Recordar que las probabilidades deben sumar 1\n",
        "probabilidades = COMPLETAR\n",
        "# probabilidades = probabilidades/probabilidades.sum() # puede ser util"
      ],
      "execution_count": 0,
      "outputs": []
    },
    {
      "cell_type": "code",
      "metadata": {
        "id": "QODI-NAQshRr",
        "colab_type": "code",
        "colab": {}
      },
      "source": [
        "# b. Generar las muestras\n",
        "COMPLETAR"
      ],
      "execution_count": 0,
      "outputs": []
    },
    {
      "cell_type": "code",
      "metadata": {
        "id": "hWz7pTxvshRt",
        "colab_type": "code",
        "colab": {}
      },
      "source": [
        "COMPLETAR"
      ],
      "execution_count": 0,
      "outputs": []
    }
  ]
}