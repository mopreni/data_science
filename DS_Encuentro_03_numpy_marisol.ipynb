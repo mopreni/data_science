{
  "nbformat": 4,
  "nbformat_minor": 0,
  "metadata": {
    "kernelspec": {
      "display_name": "Python 3",
      "language": "python",
      "name": "python3"
    },
    "language_info": {
      "codemirror_mode": {
        "name": "ipython",
        "version": 3
      },
      "file_extension": ".py",
      "mimetype": "text/x-python",
      "name": "python",
      "nbconvert_exporter": "python",
      "pygments_lexer": "ipython3",
      "version": "3.7.3"
    },
    "colab": {
      "name": "DS_Encuentro_03_numpy_marisol.ipynb",
      "provenance": [],
      "include_colab_link": true
    }
  },
  "cells": [
    {
      "cell_type": "markdown",
      "metadata": {
        "id": "view-in-github",
        "colab_type": "text"
      },
      "source": [
        "<a href=\"https://colab.research.google.com/github/mopreni/data_science/blob/master/DS_Encuentro_03_numpy_marisol.ipynb\" target=\"_parent\"><img src=\"https://colab.research.google.com/assets/colab-badge.svg\" alt=\"Open In Colab\"/></a>"
      ]
    },
    {
      "cell_type": "markdown",
      "metadata": {
        "id": "7qFTIoMM_JvO",
        "colab_type": "text"
      },
      "source": [
        "## Numpy\n",
        "\n",
        "Mirar los videos que están en la plataforma de Acámica y tratar de resolver los siguientes ejercicios y preguntas. La documentación de Numpy es muy buena, recomendamos ir familiarizándose con ella.\n",
        "\n",
        "### Repaso\n",
        "\n",
        "Importamos la librería"
      ]
    },
    {
      "cell_type": "code",
      "metadata": {
        "id": "Gj7Qh1Go_JvR",
        "colab_type": "code",
        "colab": {}
      },
      "source": [
        "import numpy as np"
      ],
      "execution_count": 0,
      "outputs": []
    },
    {
      "cell_type": "markdown",
      "metadata": {
        "id": "tV6KFjG3_JvW",
        "colab_type": "text"
      },
      "source": [
        "A partir de una lista podemos crear un arreglo de numpy"
      ]
    },
    {
      "cell_type": "code",
      "metadata": {
        "id": "7N8HJCv0_JvX",
        "colab_type": "code",
        "colab": {}
      },
      "source": [
        "lista = [0,1,2,3,4,5]\n",
        "arreglo = np.array(lista)\n",
        "print(lista)\n",
        "print(arreglo)"
      ],
      "execution_count": 0,
      "outputs": []
    },
    {
      "cell_type": "markdown",
      "metadata": {
        "id": "6opsMhx5_Jvb",
        "colab_type": "text"
      },
      "source": [
        "Pero para algunos casos numpy tiene funciones que crean listas más rápidamente."
      ]
    },
    {
      "cell_type": "code",
      "metadata": {
        "id": "thJlSwQf_Jvc",
        "colab_type": "code",
        "colab": {}
      },
      "source": [
        "arreglo = np.arange(6)\n",
        "print(arreglo)"
      ],
      "execution_count": 0,
      "outputs": []
    },
    {
      "cell_type": "markdown",
      "metadata": {
        "id": "7fy1p9Qp_Jvg",
        "colab_type": "text"
      },
      "source": [
        "Algunas cosas que no se podían hacer con las listas ahora sí se pueden:\n",
        "\n",
        "1. Sumarle un mismo elemento a toda la lista"
      ]
    },
    {
      "cell_type": "code",
      "metadata": {
        "id": "4zmAGOve_Jvh",
        "colab_type": "code",
        "colab": {}
      },
      "source": [
        "lista + 1"
      ],
      "execution_count": 0,
      "outputs": []
    },
    {
      "cell_type": "code",
      "metadata": {
        "id": "nZyw8-RB_Jvj",
        "colab_type": "code",
        "colab": {}
      },
      "source": [
        "arreglo + 2"
      ],
      "execution_count": 0,
      "outputs": []
    },
    {
      "cell_type": "markdown",
      "metadata": {
        "id": "xPU_E-kz_Jvn",
        "colab_type": "text"
      },
      "source": [
        "2. Elevar al cuadrado todos los elementos de una lista"
      ]
    },
    {
      "cell_type": "code",
      "metadata": {
        "id": "TGMkVFVo_Jvp",
        "colab_type": "code",
        "colab": {}
      },
      "source": [
        "lista**2"
      ],
      "execution_count": 0,
      "outputs": []
    },
    {
      "cell_type": "code",
      "metadata": {
        "id": "wigJPkTI_Jvs",
        "colab_type": "code",
        "colab": {}
      },
      "source": [
        "arreglo**2"
      ],
      "execution_count": 0,
      "outputs": []
    },
    {
      "cell_type": "markdown",
      "metadata": {
        "id": "J4jKYP2y_Jvv",
        "colab_type": "text"
      },
      "source": [
        "**Ejercicio 1**: Responder las siguientes preguntas:\n",
        "* ¿Qué operaciones se pueden hacer tanto en un arreglo de Numpy como en una lista? Dar un ejemplo en una celda.\n",
        "* ¿Qué operaciones se pueden hacer en un arreglo de Numpy pero NO en una lista? Explorar algunas opciones y dar un ejemplo en una celda.\n",
        "* ¿Cuál es la diferencia entre un arreglo de forma -shape- (n,), (n,1) y (1,n)? Pueden crear arreglos para intentar responder esa pregunta."
      ]
    },
    {
      "cell_type": "code",
      "metadata": {
        "id": "Yp4HKrP3_Jvw",
        "colab_type": "code",
        "colab": {}
      },
      "source": [
        "COMPLETAR"
      ],
      "execution_count": 0,
      "outputs": []
    },
    {
      "cell_type": "code",
      "metadata": {
        "id": "J_Ooqi64_Jvz",
        "colab_type": "code",
        "colab": {}
      },
      "source": [
        "COMPLETAR"
      ],
      "execution_count": 0,
      "outputs": []
    },
    {
      "cell_type": "code",
      "metadata": {
        "id": "lEELV9BS_Jv1",
        "colab_type": "code",
        "colab": {}
      },
      "source": [
        "COMPLETAR"
      ],
      "execution_count": 0,
      "outputs": []
    },
    {
      "cell_type": "markdown",
      "metadata": {
        "id": "8nSBmkPN_Jv4",
        "colab_type": "text"
      },
      "source": [
        "**Ejercicio 2**:\n",
        "* Escribir un arreglo con números enteros del 0 al 9. Pista: arange\n",
        "* Escribir un arreglo con 100 números equiespaciados del 0 al 9. Pista: linspace"
      ]
    },
    {
      "cell_type": "code",
      "metadata": {
        "id": "5dZLycYR_Jv5",
        "colab_type": "code",
        "colab": {}
      },
      "source": [
        "COMPLETAR"
      ],
      "execution_count": 0,
      "outputs": []
    },
    {
      "cell_type": "code",
      "metadata": {
        "id": "Bng6D571_Jv7",
        "colab_type": "code",
        "colab": {}
      },
      "source": [
        "COMPLETAR"
      ],
      "execution_count": 0,
      "outputs": []
    },
    {
      "cell_type": "markdown",
      "metadata": {
        "id": "75neiqOZ_Jv-",
        "colab_type": "text"
      },
      "source": [
        "**Ejercicio 3**:\n",
        "* Escribir un arreglo con números enteros del 10 al 100 y seleccionar aquellos que son menores que 50."
      ]
    },
    {
      "cell_type": "code",
      "metadata": {
        "id": "xPl3S4hV_Jv_",
        "colab_type": "code",
        "colab": {}
      },
      "source": [
        "a = np.arange(0,4)\n",
        "'''Pista'''\n",
        "print(a<2)\n",
        "mask = [True, False, True, False]\n",
        "print(a[mask])"
      ],
      "execution_count": 0,
      "outputs": []
    },
    {
      "cell_type": "code",
      "metadata": {
        "id": "98OTBey2_JwD",
        "colab_type": "code",
        "colab": {}
      },
      "source": [
        "COMPLETAR"
      ],
      "execution_count": 0,
      "outputs": []
    },
    {
      "cell_type": "markdown",
      "metadata": {
        "id": "DxSkfqRI_JwG",
        "colab_type": "text"
      },
      "source": [
        "**Ejercicio 4**:\n",
        "* Crear un arreglo de ceros de `shape` (5,10).\n",
        "* Reemplazar la segunda y cuarta fila con unos\n",
        "* Reemplazar la tercera y octava columna con dos (2)."
      ]
    },
    {
      "cell_type": "code",
      "metadata": {
        "id": "s0ZvkmaE_JwH",
        "colab_type": "code",
        "colab": {}
      },
      "source": [
        "COMPLETAR"
      ],
      "execution_count": 0,
      "outputs": []
    },
    {
      "cell_type": "code",
      "metadata": {
        "id": "m8MbeLmO_JwJ",
        "colab_type": "code",
        "colab": {}
      },
      "source": [
        "COMPLETAR"
      ],
      "execution_count": 0,
      "outputs": []
    },
    {
      "cell_type": "code",
      "metadata": {
        "id": "zPZirvBa_JwM",
        "colab_type": "code",
        "colab": {}
      },
      "source": [
        "COMPLETAR"
      ],
      "execution_count": 0,
      "outputs": []
    },
    {
      "cell_type": "markdown",
      "metadata": {
        "id": "1cPO2qCX_JwO",
        "colab_type": "text"
      },
      "source": [
        "**Ejercicio $\\infty$**:\n",
        "Hacer todos los ejercicios que puedan del siguiente link https://www.machinelearningplus.com/python/101-numpy-exercises-python/\n",
        "\n",
        "O de https://github.com/rougier/numpy-100"
      ]
    }
  ]
}