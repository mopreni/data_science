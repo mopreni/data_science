{
  "nbformat": 4,
  "nbformat_minor": 0,
  "metadata": {
    "kernelspec": {
      "display_name": "Python 3",
      "language": "python",
      "name": "python3"
    },
    "language_info": {
      "codemirror_mode": {
        "name": "ipython",
        "version": 3
      },
      "file_extension": ".py",
      "mimetype": "text/x-python",
      "name": "python",
      "nbconvert_exporter": "python",
      "pygments_lexer": "ipython3",
      "version": "3.7.3"
    },
    "colab": {
      "name": "DS_Encuentro_03_numpy_marisol.ipynb",
      "provenance": [],
      "collapsed_sections": [],
      "include_colab_link": true
    }
  },
  "cells": [
    {
      "cell_type": "markdown",
      "metadata": {
        "id": "view-in-github",
        "colab_type": "text"
      },
      "source": [
        "<a href=\"https://colab.research.google.com/github/mopreni/data_science/blob/master/DS_Encuentro_03_numpy_marisol.ipynb\" target=\"_parent\"><img src=\"https://colab.research.google.com/assets/colab-badge.svg\" alt=\"Open In Colab\"/></a>"
      ]
    },
    {
      "cell_type": "markdown",
      "metadata": {
        "id": "7qFTIoMM_JvO",
        "colab_type": "text"
      },
      "source": [
        "## Numpy\n",
        "\n",
        "Mirar los videos que están en la plataforma de Acámica y tratar de resolver los siguientes ejercicios y preguntas. La documentación de Numpy es muy buena, recomendamos ir familiarizándose con ella.\n",
        "\n",
        "### Repaso\n",
        "\n",
        "Importamos la librería"
      ]
    },
    {
      "cell_type": "code",
      "metadata": {
        "id": "Gj7Qh1Go_JvR",
        "colab_type": "code",
        "colab": {}
      },
      "source": [
        "import numpy as np"
      ],
      "execution_count": 0,
      "outputs": []
    },
    {
      "cell_type": "markdown",
      "metadata": {
        "id": "tV6KFjG3_JvW",
        "colab_type": "text"
      },
      "source": [
        "A partir de una lista podemos crear un arreglo de numpy"
      ]
    },
    {
      "cell_type": "code",
      "metadata": {
        "id": "7N8HJCv0_JvX",
        "colab_type": "code",
        "outputId": "e011c5a0-b285-457a-b653-620a4a57842a",
        "colab": {
          "base_uri": "https://localhost:8080/",
          "height": 50
        }
      },
      "source": [
        "lista = [0,1,2,3,4,5]\n",
        "arreglo = np.array(lista)\n",
        "print(lista)\n",
        "print(arreglo)"
      ],
      "execution_count": 0,
      "outputs": [
        {
          "output_type": "stream",
          "text": [
            "[0, 1, 2, 3, 4, 5]\n",
            "[0 1 2 3 4 5]\n"
          ],
          "name": "stdout"
        }
      ]
    },
    {
      "cell_type": "markdown",
      "metadata": {
        "id": "6opsMhx5_Jvb",
        "colab_type": "text"
      },
      "source": [
        "Pero para algunos casos numpy tiene funciones que crean listas más rápidamente."
      ]
    },
    {
      "cell_type": "code",
      "metadata": {
        "id": "thJlSwQf_Jvc",
        "colab_type": "code",
        "outputId": "a1edf2d7-c3a1-4709-d1fb-5bdee80d6a5f",
        "colab": {
          "base_uri": "https://localhost:8080/",
          "height": 34
        }
      },
      "source": [
        "arreglo = np.arange(6)\n",
        "print(arreglo)"
      ],
      "execution_count": 0,
      "outputs": [
        {
          "output_type": "stream",
          "text": [
            "[0 1 2 3 4 5]\n"
          ],
          "name": "stdout"
        }
      ]
    },
    {
      "cell_type": "markdown",
      "metadata": {
        "id": "7fy1p9Qp_Jvg",
        "colab_type": "text"
      },
      "source": [
        "Algunas cosas que no se podían hacer con las listas ahora sí se pueden:\n",
        "\n",
        "1. Sumarle un mismo elemento a toda la lista"
      ]
    },
    {
      "cell_type": "code",
      "metadata": {
        "id": "4zmAGOve_Jvh",
        "colab_type": "code",
        "outputId": "3012e7ac-122d-4899-aadd-cf9b166e54f9",
        "colab": {
          "base_uri": "https://localhost:8080/",
          "height": 162
        }
      },
      "source": [
        "lista + 1"
      ],
      "execution_count": 0,
      "outputs": [
        {
          "output_type": "error",
          "ename": "TypeError",
          "evalue": "ignored",
          "traceback": [
            "\u001b[0;31m---------------------------------------------------------------------------\u001b[0m",
            "\u001b[0;31mTypeError\u001b[0m                                 Traceback (most recent call last)",
            "\u001b[0;32m<ipython-input-4-0d87e2469f45>\u001b[0m in \u001b[0;36m<module>\u001b[0;34m()\u001b[0m\n\u001b[0;32m----> 1\u001b[0;31m \u001b[0mlista\u001b[0m \u001b[0;34m+\u001b[0m \u001b[0;36m1\u001b[0m\u001b[0;34m\u001b[0m\u001b[0;34m\u001b[0m\u001b[0m\n\u001b[0m",
            "\u001b[0;31mTypeError\u001b[0m: can only concatenate list (not \"int\") to list"
          ]
        }
      ]
    },
    {
      "cell_type": "code",
      "metadata": {
        "id": "nZyw8-RB_Jvj",
        "colab_type": "code",
        "outputId": "81c7eb7a-d25c-44e1-a357-0e57d765ccc1",
        "colab": {
          "base_uri": "https://localhost:8080/",
          "height": 34
        }
      },
      "source": [
        "arreglo + 2"
      ],
      "execution_count": 0,
      "outputs": [
        {
          "output_type": "execute_result",
          "data": {
            "text/plain": [
              "array([2, 3, 4, 5, 6, 7])"
            ]
          },
          "metadata": {
            "tags": []
          },
          "execution_count": 5
        }
      ]
    },
    {
      "cell_type": "markdown",
      "metadata": {
        "id": "xPU_E-kz_Jvn",
        "colab_type": "text"
      },
      "source": [
        "2. Elevar al cuadrado todos los elementos de una lista"
      ]
    },
    {
      "cell_type": "code",
      "metadata": {
        "id": "TGMkVFVo_Jvp",
        "colab_type": "code",
        "outputId": "d9599580-a073-47dd-add5-cc9fafeafba8",
        "colab": {
          "base_uri": "https://localhost:8080/",
          "height": 162
        }
      },
      "source": [
        "lista**2"
      ],
      "execution_count": 0,
      "outputs": [
        {
          "output_type": "error",
          "ename": "TypeError",
          "evalue": "ignored",
          "traceback": [
            "\u001b[0;31m---------------------------------------------------------------------------\u001b[0m",
            "\u001b[0;31mTypeError\u001b[0m                                 Traceback (most recent call last)",
            "\u001b[0;32m<ipython-input-6-6a1257d65d62>\u001b[0m in \u001b[0;36m<module>\u001b[0;34m()\u001b[0m\n\u001b[0;32m----> 1\u001b[0;31m \u001b[0mlista\u001b[0m\u001b[0;34m**\u001b[0m\u001b[0;36m2\u001b[0m\u001b[0;34m\u001b[0m\u001b[0;34m\u001b[0m\u001b[0m\n\u001b[0m",
            "\u001b[0;31mTypeError\u001b[0m: unsupported operand type(s) for ** or pow(): 'list' and 'int'"
          ]
        }
      ]
    },
    {
      "cell_type": "code",
      "metadata": {
        "id": "wigJPkTI_Jvs",
        "colab_type": "code",
        "outputId": "9471f9da-d5be-45ce-e77a-274107bbf3f9",
        "colab": {
          "base_uri": "https://localhost:8080/",
          "height": 34
        }
      },
      "source": [
        "arreglo**2"
      ],
      "execution_count": 0,
      "outputs": [
        {
          "output_type": "execute_result",
          "data": {
            "text/plain": [
              "array([ 0,  1,  4,  9, 16, 25])"
            ]
          },
          "metadata": {
            "tags": []
          },
          "execution_count": 7
        }
      ]
    },
    {
      "cell_type": "markdown",
      "metadata": {
        "id": "J4jKYP2y_Jvv",
        "colab_type": "text"
      },
      "source": [
        "**Ejercicio 1**: Responder las siguientes preguntas:\n",
        "* ¿Qué operaciones se pueden hacer tanto en un arreglo de Numpy como en una lista? Dar un ejemplo en una celda.\n",
        "* ¿Qué operaciones se pueden hacer en un arreglo de Numpy pero NO en una lista? Explorar algunas opciones y dar un ejemplo en una celda.\n",
        "* ¿Cuál es la diferencia entre un arreglo de forma -shape- (n,), (n,1) y (1,n)? Pueden crear arreglos para intentar responder esa pregunta."
      ]
    },
    {
      "cell_type": "code",
      "metadata": {
        "id": "Yp4HKrP3_Jvw",
        "colab_type": "code",
        "colab": {}
      },
      "source": [
        "COMPLETAR"
      ],
      "execution_count": 0,
      "outputs": []
    },
    {
      "cell_type": "code",
      "metadata": {
        "id": "J_Ooqi64_Jvz",
        "colab_type": "code",
        "colab": {}
      },
      "source": [
        "COMPLETAR"
      ],
      "execution_count": 0,
      "outputs": []
    },
    {
      "cell_type": "code",
      "metadata": {
        "id": "lEELV9BS_Jv1",
        "colab_type": "code",
        "colab": {}
      },
      "source": [
        "COMPLETAR"
      ],
      "execution_count": 0,
      "outputs": []
    },
    {
      "cell_type": "markdown",
      "metadata": {
        "id": "8nSBmkPN_Jv4",
        "colab_type": "text"
      },
      "source": [
        "**Ejercicio 2**:\n",
        "* Escribir un arreglo con números enteros del 0 al 9. Pista: arange\n",
        "* Escribir un arreglo con 100 números equiespaciados del 0 al 9. Pista: linspace"
      ]
    },
    {
      "cell_type": "code",
      "metadata": {
        "id": "P8J37KAUC-V7",
        "colab_type": "code",
        "outputId": "99ed94c4-891b-4548-89ce-5d5e7af30b47",
        "colab": {
          "base_uri": "https://localhost:8080/",
          "height": 34
        }
      },
      "source": [
        "b = np.arange(0,9)\n",
        "b"
      ],
      "execution_count": 0,
      "outputs": [
        {
          "output_type": "execute_result",
          "data": {
            "text/plain": [
              "array([0, 1, 2, 3, 4, 5, 6, 7, 8])"
            ]
          },
          "metadata": {
            "tags": []
          },
          "execution_count": 10
        }
      ]
    },
    {
      "cell_type": "code",
      "metadata": {
        "id": "5dZLycYR_Jv5",
        "colab_type": "code",
        "outputId": "6b759fd3-15c6-44d0-ced8-91963685cc25",
        "colab": {
          "base_uri": "https://localhost:8080/",
          "height": 353
        }
      },
      "source": [
        "a = np.linspace(0,9,100)\n",
        "a"
      ],
      "execution_count": 0,
      "outputs": [
        {
          "output_type": "execute_result",
          "data": {
            "text/plain": [
              "array([0.        , 0.09090909, 0.18181818, 0.27272727, 0.36363636,\n",
              "       0.45454545, 0.54545455, 0.63636364, 0.72727273, 0.81818182,\n",
              "       0.90909091, 1.        , 1.09090909, 1.18181818, 1.27272727,\n",
              "       1.36363636, 1.45454545, 1.54545455, 1.63636364, 1.72727273,\n",
              "       1.81818182, 1.90909091, 2.        , 2.09090909, 2.18181818,\n",
              "       2.27272727, 2.36363636, 2.45454545, 2.54545455, 2.63636364,\n",
              "       2.72727273, 2.81818182, 2.90909091, 3.        , 3.09090909,\n",
              "       3.18181818, 3.27272727, 3.36363636, 3.45454545, 3.54545455,\n",
              "       3.63636364, 3.72727273, 3.81818182, 3.90909091, 4.        ,\n",
              "       4.09090909, 4.18181818, 4.27272727, 4.36363636, 4.45454545,\n",
              "       4.54545455, 4.63636364, 4.72727273, 4.81818182, 4.90909091,\n",
              "       5.        , 5.09090909, 5.18181818, 5.27272727, 5.36363636,\n",
              "       5.45454545, 5.54545455, 5.63636364, 5.72727273, 5.81818182,\n",
              "       5.90909091, 6.        , 6.09090909, 6.18181818, 6.27272727,\n",
              "       6.36363636, 6.45454545, 6.54545455, 6.63636364, 6.72727273,\n",
              "       6.81818182, 6.90909091, 7.        , 7.09090909, 7.18181818,\n",
              "       7.27272727, 7.36363636, 7.45454545, 7.54545455, 7.63636364,\n",
              "       7.72727273, 7.81818182, 7.90909091, 8.        , 8.09090909,\n",
              "       8.18181818, 8.27272727, 8.36363636, 8.45454545, 8.54545455,\n",
              "       8.63636364, 8.72727273, 8.81818182, 8.90909091, 9.        ])"
            ]
          },
          "metadata": {
            "tags": []
          },
          "execution_count": 9
        }
      ]
    },
    {
      "cell_type": "markdown",
      "metadata": {
        "id": "75neiqOZ_Jv-",
        "colab_type": "text"
      },
      "source": [
        "**Ejercicio 3**:\n",
        "* Escribir un arreglo con números enteros del 10 al 100 y seleccionar aquellos que son menores que 50."
      ]
    },
    {
      "cell_type": "code",
      "metadata": {
        "id": "xPl3S4hV_Jv_",
        "colab_type": "code",
        "colab": {}
      },
      "source": [
        "a = np.arange(0,4)\n",
        "'''Pista'''\n",
        "print(a<2)\n",
        "mask = [True, False, True, False]\n",
        "print(a[mask])"
      ],
      "execution_count": 0,
      "outputs": []
    },
    {
      "cell_type": "code",
      "metadata": {
        "id": "98OTBey2_JwD",
        "colab_type": "code",
        "colab": {}
      },
      "source": [
        "COMPLETAR"
      ],
      "execution_count": 0,
      "outputs": []
    },
    {
      "cell_type": "markdown",
      "metadata": {
        "id": "DxSkfqRI_JwG",
        "colab_type": "text"
      },
      "source": [
        "**Ejercicio 4**:\n",
        "* Crear un arreglo de ceros de `shape` (5,10).\n",
        "* Reemplazar la segunda y cuarta fila con unos\n",
        "* Reemplazar la tercera y octava columna con dos (2)."
      ]
    },
    {
      "cell_type": "code",
      "metadata": {
        "id": "s0ZvkmaE_JwH",
        "colab_type": "code",
        "outputId": "5c63e8ba-78d6-4e99-bbfe-346ac0e3bf2f",
        "colab": {
          "base_uri": "https://localhost:8080/",
          "height": 100
        }
      },
      "source": [
        "import numpy as np\n",
        "y = np.zeros((5,10))\n",
        "y"
      ],
      "execution_count": 5,
      "outputs": [
        {
          "output_type": "execute_result",
          "data": {
            "text/plain": [
              "array([[0., 0., 0., 0., 0., 0., 0., 0., 0., 0.],\n",
              "       [0., 0., 0., 0., 0., 0., 0., 0., 0., 0.],\n",
              "       [0., 0., 0., 0., 0., 0., 0., 0., 0., 0.],\n",
              "       [0., 0., 0., 0., 0., 0., 0., 0., 0., 0.],\n",
              "       [0., 0., 0., 0., 0., 0., 0., 0., 0., 0.]])"
            ]
          },
          "metadata": {
            "tags": []
          },
          "execution_count": 5
        }
      ]
    },
    {
      "cell_type": "code",
      "metadata": {
        "id": "m8MbeLmO_JwJ",
        "colab_type": "code",
        "colab": {
          "base_uri": "https://localhost:8080/",
          "height": 100
        },
        "outputId": "434a64e0-29ec-4d02-ad81-89a4379fb9b9"
      },
      "source": [
        "y[1]=1\n",
        "y[3]=1  #estas dos líneas se pueden hacer en una?\n",
        "y"
      ],
      "execution_count": 7,
      "outputs": [
        {
          "output_type": "execute_result",
          "data": {
            "text/plain": [
              "array([[0., 0., 0., 0., 0., 0., 0., 0., 0., 0.],\n",
              "       [1., 1., 1., 1., 1., 1., 1., 1., 1., 1.],\n",
              "       [0., 0., 0., 0., 0., 0., 0., 0., 0., 0.],\n",
              "       [1., 1., 1., 1., 1., 1., 1., 1., 1., 1.],\n",
              "       [0., 0., 0., 0., 0., 0., 0., 0., 0., 0.]])"
            ]
          },
          "metadata": {
            "tags": []
          },
          "execution_count": 7
        }
      ]
    },
    {
      "cell_type": "code",
      "metadata": {
        "id": "zPZirvBa_JwM",
        "colab_type": "code",
        "colab": {
          "base_uri": "https://localhost:8080/",
          "height": 100
        },
        "outputId": "27f5796b-2d84-427a-9064-b56e34f623a5"
      },
      "source": [
        "y[:,2]=2  # : significa \"todas las filas\"\n",
        "y[:,7]=2  #estas dos líneas se pueden hacer en una?\n",
        "y"
      ],
      "execution_count": 8,
      "outputs": [
        {
          "output_type": "execute_result",
          "data": {
            "text/plain": [
              "array([[0., 0., 2., 0., 0., 0., 0., 2., 0., 0.],\n",
              "       [1., 1., 2., 1., 1., 1., 1., 2., 1., 1.],\n",
              "       [0., 0., 2., 0., 0., 0., 0., 2., 0., 0.],\n",
              "       [1., 1., 2., 1., 1., 1., 1., 2., 1., 1.],\n",
              "       [0., 0., 2., 0., 0., 0., 0., 2., 0., 0.]])"
            ]
          },
          "metadata": {
            "tags": []
          },
          "execution_count": 8
        }
      ]
    },
    {
      "cell_type": "markdown",
      "metadata": {
        "id": "1cPO2qCX_JwO",
        "colab_type": "text"
      },
      "source": [
        "**Ejercicio $\\infty$**:\n",
        "Hacer todos los ejercicios que puedan del siguiente link https://www.machinelearningplus.com/python/101-numpy-exercises-python/\n",
        "\n",
        "O de https://github.com/rougier/numpy-100"
      ]
    }
  ]
}