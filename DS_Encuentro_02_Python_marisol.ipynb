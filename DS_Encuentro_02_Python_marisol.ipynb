{
  "nbformat": 4,
  "nbformat_minor": 0,
  "metadata": {
    "kernelspec": {
      "display_name": "Python 3",
      "language": "python",
      "name": "python3"
    },
    "language_info": {
      "codemirror_mode": {
        "name": "ipython",
        "version": 3
      },
      "file_extension": ".py",
      "mimetype": "text/x-python",
      "name": "python",
      "nbconvert_exporter": "python",
      "pygments_lexer": "ipython3",
      "version": "3.7.3"
    },
    "colab": {
      "name": "DS_Encuentro_02_Python_marisol.ipynb",
      "provenance": [],
      "collapsed_sections": [
        "Zip2yREWPBN0",
        "Eq2Zw2imPBOQ",
        "tY9du3p-PBOt"
      ],
      "include_colab_link": true
    }
  },
  "cells": [
    {
      "cell_type": "markdown",
      "metadata": {
        "id": "view-in-github",
        "colab_type": "text"
      },
      "source": [
        "<a href=\"https://colab.research.google.com/github/mopreni/data_science/blob/master/DS_Encuentro_02_Python_marisol.ipynb\" target=\"_parent\"><img src=\"https://colab.research.google.com/assets/colab-badge.svg\" alt=\"Open In Colab\"/></a>"
      ]
    },
    {
      "cell_type": "markdown",
      "metadata": {
        "colab_type": "text",
        "id": "aDaMLDnAPBMf"
      },
      "source": [
        "# Introducción a Python\n",
        "\n",
        "En este notebook vamos a recorrer algunos de los conceptos básicos de programación en general y Python en particular. Recomendamos ir haciéndolo con las diapositivas de la clase a mano como guía y con el buscador de Google como su mejor amigo. Existen muchísimos recursos de libre acceso disponibles para ayudarnos, recomendamos https://learnxinyminutes.com/docs/python3/ .\n",
        "\n",
        "\n",
        "## Recomendación:\n",
        "Además de realizar los ejercicios, les sugerimos fuertemente que vayan probando y modificando el código presente en este notebook. La mejor manera de aprender es meter mano, 'romper' el código e intentar entender porque dejó de funcionar. ¡No hay nada irreversible, no tengan miedo!\n",
        "\n",
        "## 1. Variables, Tipos de Datos y Operaciones\n",
        "\n",
        "### 1.1 Variables\n",
        "Son los datos u obejetos que que definimos para trabajar en nuestro programa. Cada variable debe llevar un nombre a través del cual nos referimos a ella, los nombres deben ser únicos y, en lo posible, ser lo mas explícitos posibles para evitar confusiones.\n",
        "\n",
        "Usando el `=` se asigna un valor a una variable. No es un igual matemático/lógico, pueden pensarlo como una flecha (<--) que asigna lo que hay del lado derecho a lo que hay del lado izquierdo."
      ]
    },
    {
      "cell_type": "code",
      "metadata": {
        "colab_type": "code",
        "id": "Ejj7jqb9PBMk",
        "outputId": "d3a8350f-0059-40ae-97aa-b3c94b0ba3ad",
        "colab": {
          "base_uri": "https://localhost:8080/",
          "height": 34
        }
      },
      "source": [
        "# Asignamos el valor 3 a una variable que creamos, de nombre x\n",
        "x = 3\n",
        "\n",
        "# Evaluamos e imprimimos en pantalla el resultado\n",
        "print(x)"
      ],
      "execution_count": 0,
      "outputs": [
        {
          "output_type": "stream",
          "text": [
            "3\n"
          ],
          "name": "stdout"
        }
      ]
    },
    {
      "cell_type": "code",
      "metadata": {
        "colab_type": "code",
        "id": "G0_JnDgrPBMu",
        "outputId": "fa66ed53-3c5f-44da-f724-b8549d1726fa",
        "colab": {
          "base_uri": "https://localhost:8080/",
          "height": 34
        }
      },
      "source": [
        "# Asignamos el valor 15.7 a una nueva variable, de nombre y\n",
        "y = 15.7\n",
        "\n",
        "print(y)"
      ],
      "execution_count": 0,
      "outputs": [
        {
          "output_type": "stream",
          "text": [
            "15.7\n"
          ],
          "name": "stdout"
        }
      ]
    },
    {
      "cell_type": "code",
      "metadata": {
        "colab_type": "code",
        "id": "1sVjKnS8PBM0",
        "outputId": "6d5f505a-b574-4d66-c1ac-66b92ed5297e",
        "colab": {
          "base_uri": "https://localhost:8080/",
          "height": 34
        }
      },
      "source": [
        "# Podemos definir una nueva variable como la suma de dos anteriores\n",
        "z = x + y\n",
        "\n",
        "print(z)"
      ],
      "execution_count": 0,
      "outputs": [
        {
          "output_type": "stream",
          "text": [
            "18.7\n"
          ],
          "name": "stdout"
        }
      ]
    },
    {
      "cell_type": "code",
      "metadata": {
        "colab_type": "code",
        "id": "n-OyQw00PBM6",
        "outputId": "3ce001a0-8ac9-4d3f-cd0b-aa2eb84ff4c5",
        "colab": {
          "base_uri": "https://localhost:8080/",
          "height": 34
        }
      },
      "source": [
        "# Se peude tambier asignar un valor de texto otra variable\n",
        "un_texto = 'HOLA!'\n",
        "\n",
        "print(un_texto)"
      ],
      "execution_count": 0,
      "outputs": [
        {
          "output_type": "stream",
          "text": [
            "HOLA!\n"
          ],
          "name": "stdout"
        }
      ]
    },
    {
      "cell_type": "code",
      "metadata": {
        "colab_type": "code",
        "id": "Dj_DJGDOPBNB",
        "outputId": "78054b56-6ba2-4dd9-abd7-bb248ef24083",
        "colab": {
          "base_uri": "https://localhost:8080/",
          "height": 178
        }
      },
      "source": [
        "# Si queremos, podemos borrar alguna variable que ya no la utilizaremos más\n",
        "del(un_texto)\n",
        "print(un_texto)"
      ],
      "execution_count": 0,
      "outputs": [
        {
          "output_type": "error",
          "ename": "NameError",
          "evalue": "ignored",
          "traceback": [
            "\u001b[0;31m---------------------------------------------------------------------------\u001b[0m",
            "\u001b[0;31mNameError\u001b[0m                                 Traceback (most recent call last)",
            "\u001b[0;32m<ipython-input-7-8fd386dc8d5f>\u001b[0m in \u001b[0;36m<module>\u001b[0;34m()\u001b[0m\n\u001b[1;32m      1\u001b[0m \u001b[0;32mdel\u001b[0m\u001b[0;34m(\u001b[0m\u001b[0mun_texto\u001b[0m\u001b[0;34m)\u001b[0m\u001b[0;34m\u001b[0m\u001b[0;34m\u001b[0m\u001b[0m\n\u001b[0;32m----> 2\u001b[0;31m \u001b[0mprint\u001b[0m\u001b[0;34m(\u001b[0m\u001b[0mun_texto\u001b[0m\u001b[0;34m)\u001b[0m\u001b[0;34m\u001b[0m\u001b[0;34m\u001b[0m\u001b[0m\n\u001b[0m",
            "\u001b[0;31mNameError\u001b[0m: name 'un_texto' is not defined"
          ]
        }
      ]
    },
    {
      "cell_type": "markdown",
      "metadata": {
        "colab_type": "text",
        "id": "x3UOib9UPBNG"
      },
      "source": [
        "### Nota importante:\n",
        "Al correr esta íltima linea, deben ver un mensaje de error. Los mensajes de error son MUY IMPORTANTES. Nos brindan información muy valiosa cuando nuestro código no funciona. En este caso, nos está avisando que no puede imprimir la variable `un_texto`, ya que la eliminamos y no está definida."
      ]
    },
    {
      "cell_type": "markdown",
      "metadata": {
        "colab_type": "text",
        "id": "520n2L18PBNH"
      },
      "source": [
        "### 1.2 Tipos de Datos\n",
        "Cuando definimos una variable, dependiendo el contenido que le asignamos, la misma será de un determinado tipo. Los tipos de datos más comunes de variables son: `int`,`float`,`string` y `boolean`. Veamos algunos ejemplos de cada tipo."
      ]
    },
    {
      "cell_type": "code",
      "metadata": {
        "colab_type": "code",
        "id": "5MQYEBApPBNK",
        "outputId": "7261fcde-8c54-4fa3-925d-7ca555927faf",
        "colab": {
          "base_uri": "https://localhost:8080/",
          "height": 34
        }
      },
      "source": [
        "a = 42\n",
        "print(type(a))"
      ],
      "execution_count": 0,
      "outputs": [
        {
          "output_type": "stream",
          "text": [
            "<class 'int'>\n"
          ],
          "name": "stdout"
        }
      ]
    },
    {
      "cell_type": "code",
      "metadata": {
        "colab_type": "code",
        "id": "E0g87gVfPBNP",
        "outputId": "b00c31e7-12af-4299-9d9d-9c57d04c8260",
        "colab": {
          "base_uri": "https://localhost:8080/",
          "height": 34
        }
      },
      "source": [
        "b = 7.8\n",
        "print(type(b))"
      ],
      "execution_count": 0,
      "outputs": [
        {
          "output_type": "stream",
          "text": [
            "<class 'float'>\n"
          ],
          "name": "stdout"
        }
      ]
    },
    {
      "cell_type": "code",
      "metadata": {
        "colab_type": "code",
        "id": "6SFdLEFIPBNW",
        "outputId": "4f428a35-adba-46f1-a9ab-fdee05ee6d0a",
        "colab": {
          "base_uri": "https://localhost:8080/",
          "height": 34
        }
      },
      "source": [
        "c = True\n",
        "print(type(c))"
      ],
      "execution_count": 0,
      "outputs": [
        {
          "output_type": "stream",
          "text": [
            "<class 'bool'>\n"
          ],
          "name": "stdout"
        }
      ]
    },
    {
      "cell_type": "code",
      "metadata": {
        "colab_type": "code",
        "id": "i_cCG-iYPBNb",
        "outputId": "157c326f-fcd2-411b-9d8c-1cd0eeb3f1d0",
        "colab": {
          "base_uri": "https://localhost:8080/",
          "height": 50
        }
      },
      "source": [
        "t1 = 'hola'\n",
        "print(type(\"hola\"))\n",
        "\n",
        "t2 = '523'\n",
        "print(type('t2'))"
      ],
      "execution_count": 0,
      "outputs": [
        {
          "output_type": "stream",
          "text": [
            "<class 'str'>\n",
            "<class 'str'>\n"
          ],
          "name": "stdout"
        }
      ]
    },
    {
      "cell_type": "markdown",
      "metadata": {
        "colab_type": "text",
        "id": "fAiC3ranPBNh"
      },
      "source": [
        "**Nota**: a pesar de ser un número, la variable `t2` es de tipo `string`. Esto se debe a que lo pusimos entre comillas."
      ]
    },
    {
      "cell_type": "code",
      "metadata": {
        "colab_type": "code",
        "id": "erSdYVqhPBNj",
        "outputId": "14766e4d-f804-44c0-f2a8-c03345ec1c27",
        "colab": {
          "base_uri": "https://localhost:8080/",
          "height": 34
        }
      },
      "source": [
        "# Este es un tipo especial de variable, que se utiliza para simbolizar algo 'vacio'\n",
        "d = None\n",
        "print(type(d))"
      ],
      "execution_count": 0,
      "outputs": [
        {
          "output_type": "stream",
          "text": [
            "<class 'NoneType'>\n"
          ],
          "name": "stdout"
        }
      ]
    },
    {
      "cell_type": "markdown",
      "metadata": {
        "colab_type": "text",
        "id": "WhJ_nLaCPBNo"
      },
      "source": [
        "Si por algun motivo (ya veremos que esto es algo que suele suceder), uno desea explicitar el tipo de variable y no dejar que python lo asuma por si solo, esto también es posible."
      ]
    },
    {
      "cell_type": "code",
      "metadata": {
        "colab_type": "code",
        "id": "AvUDAvtpPBNp",
        "outputId": "907d4f63-0f32-4717-fade-82c66960352c",
        "colab": {
          "base_uri": "https://localhost:8080/",
          "height": 67
        }
      },
      "source": [
        "numero = 45\n",
        "print(type(numero))\n",
        "\n",
        "# Quiero que sea un 'float' y no un int\n",
        "numero = float(45)\n",
        "print(type(numero))\n",
        "\n",
        "# Quiero que sea un 'string' y no un int\n",
        "numero = str(45)\n",
        "print(type(numero))"
      ],
      "execution_count": 0,
      "outputs": [
        {
          "output_type": "stream",
          "text": [
            "<class 'int'>\n",
            "<class 'float'>\n",
            "<class 'str'>\n"
          ],
          "name": "stdout"
        }
      ]
    },
    {
      "cell_type": "code",
      "metadata": {
        "colab_type": "code",
        "id": "r6B6f_oOPBNv",
        "outputId": "cd59bb32-31c1-402d-804f-de6893662785",
        "colab": {
          "base_uri": "https://localhost:8080/",
          "height": 50
        }
      },
      "source": [
        "otro_numero = 45.0\n",
        "print(type(otro_numero))\n",
        "\n",
        "# Quiero que sea un 'int' y no un 'float'\n",
        "otro_numero = int(45.0)\n",
        "print(type(otro_numero))"
      ],
      "execution_count": 0,
      "outputs": [
        {
          "output_type": "stream",
          "text": [
            "<class 'float'>\n",
            "<class 'int'>\n"
          ],
          "name": "stdout"
        }
      ]
    },
    {
      "cell_type": "markdown",
      "metadata": {
        "colab_type": "text",
        "id": "4EMswXwbPjLD"
      },
      "source": [
        "**Ejercicio**: Cambiar el tipo de la variable 'numero' a float."
      ]
    },
    {
      "cell_type": "code",
      "metadata": {
        "colab_type": "code",
        "id": "g6o0UHSbPuZu",
        "outputId": "0f2e3e32-9c7c-4811-9d17-9103478cb1f3",
        "colab": {
          "base_uri": "https://localhost:8080/",
          "height": 34
        }
      },
      "source": [
        "numero = '5'\n",
        "numero = float(numero)\n",
        "\n",
        "if type(numero) is float:\n",
        "    print('Correcto!')\n",
        "else:\n",
        "    print('Convierta la variable a tipo float')"
      ],
      "execution_count": 0,
      "outputs": [
        {
          "output_type": "stream",
          "text": [
            "Correcto!\n"
          ],
          "name": "stdout"
        }
      ]
    },
    {
      "cell_type": "markdown",
      "metadata": {
        "colab_type": "text",
        "id": "Zip2yREWPBN0"
      },
      "source": [
        "### 1.3 Operaciones\n",
        "Con las variables que definimos, podemos realizar distintas operaciones. Dependiendo el tipo de variable, hay diferentes operaciones diponibles.\n",
        "\n",
        "#### 1.3.1 Operaciones con números"
      ]
    },
    {
      "cell_type": "code",
      "metadata": {
        "colab_type": "code",
        "id": "QbeN4rjGPBN2",
        "outputId": "9df811fa-64db-4540-caef-7f67944684f0",
        "colab": {
          "base_uri": "https://localhost:8080/",
          "height": 50
        }
      },
      "source": [
        "# Se pueden realizar las operaciones basicas entre numeros\n",
        "a = 20\n",
        "b = 4\n",
        "print(a+b)\n",
        "print(a-b)"
      ],
      "execution_count": 0,
      "outputs": [
        {
          "output_type": "stream",
          "text": [
            "24\n",
            "16\n"
          ],
          "name": "stdout"
        }
      ]
    },
    {
      "cell_type": "code",
      "metadata": {
        "colab_type": "code",
        "id": "x7NDD_tJPBN6",
        "outputId": "bde0d677-945a-4730-bafe-b65f1d741776",
        "colab": {
          "base_uri": "https://localhost:8080/",
          "height": 50
        }
      },
      "source": [
        "# Se pueden realizar las operaciones incluso entre distintos tipos de variables\n",
        "a = 20\n",
        "b = 4.5\n",
        "\n",
        "c = a+b\n",
        "d = a-b\n",
        "\n",
        "print(c)\n",
        "print(d)"
      ],
      "execution_count": 0,
      "outputs": [
        {
          "output_type": "stream",
          "text": [
            "24.5\n",
            "15.5\n"
          ],
          "name": "stdout"
        }
      ]
    },
    {
      "cell_type": "code",
      "metadata": {
        "colab_type": "code",
        "id": "yZLqW2ZYPBN_",
        "outputId": "971a461f-b914-471f-bbfd-bbcf68537323",
        "colab": {
          "base_uri": "https://localhost:8080/",
          "height": 50
        }
      },
      "source": [
        "# Notemos que estos resultados son de tipo float\n",
        "print(type(c))\n",
        "print(type(d))"
      ],
      "execution_count": 0,
      "outputs": [
        {
          "output_type": "stream",
          "text": [
            "<class 'float'>\n",
            "<class 'float'>\n"
          ],
          "name": "stdout"
        }
      ]
    },
    {
      "cell_type": "code",
      "metadata": {
        "colab_type": "code",
        "id": "z9kq2lEVPBOF",
        "outputId": "6e5df7a3-71af-4b48-9b39-a66487bef4af",
        "colab": {
          "base_uri": "https://localhost:8080/",
          "height": 34
        }
      },
      "source": [
        "# Podemos dividir dos numeros\n",
        "x = 10\n",
        "y = 3\n",
        "z = x/y\n",
        "print(z)"
      ],
      "execution_count": 0,
      "outputs": [
        {
          "output_type": "stream",
          "text": [
            "3.3333333333333335\n"
          ],
          "name": "stdout"
        }
      ]
    },
    {
      "cell_type": "code",
      "metadata": {
        "colab_type": "code",
        "id": "IgJQDZ7MPBOI",
        "outputId": "2f811836-7d3b-43fe-f663-26e5b9915764",
        "colab": {
          "base_uri": "https://localhost:8080/",
          "height": 34
        }
      },
      "source": [
        "# Notemos que, a pesar de venir de una operación entre dos enteros,\n",
        "# z es de tipo float\n",
        "print(type(z))"
      ],
      "execution_count": 0,
      "outputs": [
        {
          "output_type": "stream",
          "text": [
            "<class 'float'>\n"
          ],
          "name": "stdout"
        }
      ]
    },
    {
      "cell_type": "code",
      "metadata": {
        "colab_type": "code",
        "id": "tZWn26P9PBON",
        "outputId": "9ea0f4de-d328-4213-b685-c4bf1261a157",
        "colab": {
          "base_uri": "https://localhost:8080/",
          "height": 50
        }
      },
      "source": [
        "# Esta operación es muy usada en computación, nos devuelve el resto de la división\n",
        "x = 10\n",
        "y = 3\n",
        "print(x%y)\n",
        "print(type(x%y))"
      ],
      "execution_count": 0,
      "outputs": [
        {
          "output_type": "stream",
          "text": [
            "1\n",
            "<class 'int'>\n"
          ],
          "name": "stdout"
        }
      ]
    },
    {
      "cell_type": "markdown",
      "metadata": {
        "colab_type": "text",
        "id": "-5X5DceISQ-O"
      },
      "source": [
        "**Ejercicio**: Calcular el porcentaje que representa el valor 17 sobre un total de 54 y guardarlo en una variable llamada 'porcentaje'."
      ]
    },
    {
      "cell_type": "markdown",
      "metadata": {
        "colab_type": "text",
        "id": "qUnNrBQMTIMb"
      },
      "source": [
        "porcentaje = COMPLETAR\n",
        "print(porcentaje)"
      ]
    },
    {
      "cell_type": "code",
      "metadata": {
        "id": "NeKbPpVi2gbk",
        "colab_type": "code",
        "outputId": "2b64c8a8-210a-473d-cbc3-7c8e0067ad89",
        "colab": {
          "base_uri": "https://localhost:8080/",
          "height": 34
        }
      },
      "source": [
        "porcentaje = (17/54)*100  #COMPLETAR\n",
        "print(porcentaje)"
      ],
      "execution_count": 0,
      "outputs": [
        {
          "output_type": "stream",
          "text": [
            "31.48148148148148\n"
          ],
          "name": "stdout"
        }
      ]
    },
    {
      "cell_type": "markdown",
      "metadata": {
        "colab_type": "text",
        "id": "Eq2Zw2imPBOQ"
      },
      "source": [
        "#### Operaciones con Texto"
      ]
    },
    {
      "cell_type": "code",
      "metadata": {
        "colab_type": "code",
        "id": "MvMmHUutPBOR",
        "outputId": "2e0c8fee-bb88-47cc-c65e-9b922d7297dd",
        "colab": {
          "base_uri": "https://localhost:8080/",
          "height": 34
        }
      },
      "source": [
        "txt_1 = 'Los textos'\n",
        "txt_2 = ' se concatenan.'\n",
        "print(txt_1 + txt_2)"
      ],
      "execution_count": 0,
      "outputs": [
        {
          "output_type": "stream",
          "text": [
            "Los textos se concatenan.\n"
          ],
          "name": "stdout"
        }
      ]
    },
    {
      "cell_type": "code",
      "metadata": {
        "colab_type": "code",
        "id": "tFVge951PBOW",
        "outputId": "ed4daba2-13e0-4349-da9f-d0477e2fb5f0",
        "colab": {
          "base_uri": "https://localhost:8080/",
          "height": 34
        }
      },
      "source": [
        "txt_3 = 'Los textos se multiplican. '\n",
        "print(txt_3 * 2)"
      ],
      "execution_count": 0,
      "outputs": [
        {
          "output_type": "stream",
          "text": [
            "Los textos se multiplican. Los textos se multiplican. \n"
          ],
          "name": "stdout"
        }
      ]
    },
    {
      "cell_type": "code",
      "metadata": {
        "colab_type": "code",
        "id": "eowEHnQxPBOh",
        "outputId": "05166264-3fda-4515-c60f-4ddb6e5d15d5",
        "colab": {
          "base_uri": "https://localhost:8080/",
          "height": 195
        }
      },
      "source": [
        "b = 'Los textos'\n",
        "c = ' no se restan.'\n",
        "print(b - c)"
      ],
      "execution_count": 0,
      "outputs": [
        {
          "output_type": "error",
          "ename": "TypeError",
          "evalue": "ignored",
          "traceback": [
            "\u001b[0;31m---------------------------------------------------------------------------\u001b[0m",
            "\u001b[0;31mTypeError\u001b[0m                                 Traceback (most recent call last)",
            "\u001b[0;32m<ipython-input-25-def6c3f4c5e8>\u001b[0m in \u001b[0;36m<module>\u001b[0;34m()\u001b[0m\n\u001b[1;32m      1\u001b[0m \u001b[0mb\u001b[0m \u001b[0;34m=\u001b[0m \u001b[0;34m'Los textos'\u001b[0m\u001b[0;34m\u001b[0m\u001b[0;34m\u001b[0m\u001b[0m\n\u001b[1;32m      2\u001b[0m \u001b[0mc\u001b[0m \u001b[0;34m=\u001b[0m \u001b[0;34m' no se restan.'\u001b[0m\u001b[0;34m\u001b[0m\u001b[0;34m\u001b[0m\u001b[0m\n\u001b[0;32m----> 3\u001b[0;31m \u001b[0mprint\u001b[0m\u001b[0;34m(\u001b[0m\u001b[0mb\u001b[0m \u001b[0;34m-\u001b[0m \u001b[0mc\u001b[0m\u001b[0;34m)\u001b[0m\u001b[0;34m\u001b[0m\u001b[0;34m\u001b[0m\u001b[0m\n\u001b[0m",
            "\u001b[0;31mTypeError\u001b[0m: unsupported operand type(s) for -: 'str' and 'str'"
          ]
        }
      ]
    },
    {
      "cell_type": "markdown",
      "metadata": {
        "colab_type": "text",
        "id": "IADvs1-uPBOm"
      },
      "source": [
        "**Nota**: No nos cansaremos de decirles que presten atención a los mensajes de error."
      ]
    },
    {
      "cell_type": "code",
      "metadata": {
        "colab_type": "code",
        "id": "14fD4pOGPBOn",
        "outputId": "03821b54-e365-4f17-9888-a23bb990d556",
        "colab": {
          "base_uri": "https://localhost:8080/",
          "height": 195
        }
      },
      "source": [
        "# Que pasa si queremos sumar un número al texto?\n",
        "b = 'Mi edad es '\n",
        "c = 28\n",
        "print(b + c)"
      ],
      "execution_count": 0,
      "outputs": [
        {
          "output_type": "error",
          "ename": "TypeError",
          "evalue": "ignored",
          "traceback": [
            "\u001b[0;31m---------------------------------------------------------------------------\u001b[0m",
            "\u001b[0;31mTypeError\u001b[0m                                 Traceback (most recent call last)",
            "\u001b[0;32m<ipython-input-26-7072845aade9>\u001b[0m in \u001b[0;36m<module>\u001b[0;34m()\u001b[0m\n\u001b[1;32m      1\u001b[0m \u001b[0mb\u001b[0m \u001b[0;34m=\u001b[0m \u001b[0;34m'Mi edad es '\u001b[0m\u001b[0;34m\u001b[0m\u001b[0;34m\u001b[0m\u001b[0m\n\u001b[1;32m      2\u001b[0m \u001b[0mc\u001b[0m \u001b[0;34m=\u001b[0m \u001b[0;36m28\u001b[0m\u001b[0;34m\u001b[0m\u001b[0;34m\u001b[0m\u001b[0m\n\u001b[0;32m----> 3\u001b[0;31m \u001b[0mprint\u001b[0m\u001b[0;34m(\u001b[0m\u001b[0mb\u001b[0m \u001b[0;34m+\u001b[0m \u001b[0mc\u001b[0m\u001b[0;34m)\u001b[0m\u001b[0;34m\u001b[0m\u001b[0;34m\u001b[0m\u001b[0m\n\u001b[0m",
            "\u001b[0;31mTypeError\u001b[0m: must be str, not int"
          ]
        }
      ]
    },
    {
      "cell_type": "markdown",
      "metadata": {
        "colab_type": "text",
        "id": "AdySRkr3PBOp"
      },
      "source": [
        "El error nos dice que a los 'string' solo se le pueden concatenar otros 'strings' (no enteros). La manera correcta sería entonces:"
      ]
    },
    {
      "cell_type": "code",
      "metadata": {
        "colab_type": "code",
        "id": "zWPtmEdFPBOr",
        "outputId": "68076341-2af4-4e70-fe27-1823751066d0",
        "colab": {
          "base_uri": "https://localhost:8080/",
          "height": 34
        }
      },
      "source": [
        "# Que pasa si queremos sumar un número al texto?\n",
        "b = 'Mi edad es '\n",
        "c = 28\n",
        "print(b + str(c))"
      ],
      "execution_count": 0,
      "outputs": [
        {
          "output_type": "stream",
          "text": [
            "Mi edad es 28\n"
          ],
          "name": "stdout"
        }
      ]
    },
    {
      "cell_type": "markdown",
      "metadata": {
        "colab_type": "text",
        "id": "Cpb9WziZTUcO"
      },
      "source": [
        "**Ejercicio**: Armar la frase 'El gran gran gran gran gran castillo mide 50 metros.' a partir de operar con las siguientes variables (viene con trampita):"
      ]
    },
    {
      "cell_type": "code",
      "metadata": {
        "colab_type": "code",
        "id": "4K9QTbTMT8gE",
        "outputId": "d173cce6-7b5c-40c6-890d-c98161b40edb",
        "colab": {
          "base_uri": "https://localhost:8080/",
          "height": 34
        }
      },
      "source": [
        "txt1 = 'gran '\n",
        "txt2 = 'El '\n",
        "tet3 = 'mide '\n",
        "txt4 = ' metros.'\n",
        "numero = 50\n",
        "\n",
        "frase = txt2 + txt1*5 + \"castillo \" + tet3 + str(numero) + txt4\n",
        "print(frase)"
      ],
      "execution_count": 0,
      "outputs": [
        {
          "output_type": "stream",
          "text": [
            "El gran gran gran gran gran castillo mide 50 metros.\n"
          ],
          "name": "stdout"
        }
      ]
    },
    {
      "cell_type": "markdown",
      "metadata": {
        "colab_type": "text",
        "id": "tY9du3p-PBOt"
      },
      "source": [
        "#### 1.3.3 Operaciones Lógicas"
      ]
    },
    {
      "cell_type": "code",
      "metadata": {
        "colab_type": "code",
        "id": "mHPhaiiJPBOv",
        "outputId": "d980b262-a8a9-488c-cc6e-13a78ba26177",
        "colab": {
          "base_uri": "https://localhost:8080/",
          "height": 34
        }
      },
      "source": [
        "variable_1 = True\n",
        "variable_2 = False\n",
        "print(variable_1 or variable_2)"
      ],
      "execution_count": 0,
      "outputs": [
        {
          "output_type": "stream",
          "text": [
            "True\n"
          ],
          "name": "stdout"
        }
      ]
    },
    {
      "cell_type": "code",
      "metadata": {
        "colab_type": "code",
        "id": "kv2eNRpePBOy",
        "outputId": "7aaf954c-b21d-4820-dcfa-f36497159100",
        "colab": {
          "base_uri": "https://localhost:8080/",
          "height": 34
        }
      },
      "source": [
        "print(not(variable_1))"
      ],
      "execution_count": 0,
      "outputs": [
        {
          "output_type": "stream",
          "text": [
            "False\n"
          ],
          "name": "stdout"
        }
      ]
    },
    {
      "cell_type": "code",
      "metadata": {
        "colab_type": "code",
        "id": "i9QxO0SgPBO3",
        "outputId": "bbe4001b-ca47-4086-c412-12b0d03a0f88",
        "colab": {
          "base_uri": "https://localhost:8080/",
          "height": 34
        }
      },
      "source": [
        "variable_3 = variable_1 and variable_2\n",
        "print(variable_3)"
      ],
      "execution_count": 0,
      "outputs": [
        {
          "output_type": "stream",
          "text": [
            "False\n"
          ],
          "name": "stdout"
        }
      ]
    },
    {
      "cell_type": "markdown",
      "metadata": {
        "colab_type": "text",
        "id": "Rdo5rRsdPBO7"
      },
      "source": [
        "## 2. Listas, Loops y Condicionales\n",
        "\n",
        "### 2.1 Listas\n",
        "\n",
        "Son un objeto central en el lenguaje Python. Están compuestas por una sucesión de objetos en un orden determinado. Se definen mediante corchetes '[ ]', y los objetos dentro de ellas se separan por comas ','."
      ]
    },
    {
      "cell_type": "code",
      "metadata": {
        "colab_type": "code",
        "id": "vA9XBz5mPBO8",
        "outputId": "ed83352a-6adc-493c-c744-41e12cccecf4",
        "colab": {
          "base_uri": "https://localhost:8080/",
          "height": 34
        }
      },
      "source": [
        "lista_1 = [42, 4.7, True, 'Texto']\n",
        "print(lista_1)"
      ],
      "execution_count": 0,
      "outputs": [
        {
          "output_type": "stream",
          "text": [
            "[42, 4.7, True, 'Texto']\n"
          ],
          "name": "stdout"
        }
      ]
    },
    {
      "cell_type": "code",
      "metadata": {
        "colab_type": "code",
        "id": "D4nWSXKSPBO_",
        "outputId": "0c85ada5-174f-4d20-e8c3-f0f81d1d59f0",
        "colab": {
          "base_uri": "https://localhost:8080/",
          "height": 34
        }
      },
      "source": [
        "# Podemos inspeccionar el largo de una lista, o sea, su cantidad de elementos\n",
        "len(lista_1)"
      ],
      "execution_count": 0,
      "outputs": [
        {
          "output_type": "execute_result",
          "data": {
            "text/plain": [
              "4"
            ]
          },
          "metadata": {
            "tags": []
          },
          "execution_count": 37
        }
      ]
    },
    {
      "cell_type": "markdown",
      "metadata": {
        "colab_type": "text",
        "id": "b0wCmLL2PBPC"
      },
      "source": [
        "Podemos inspeccionar elementos de una lista accediendo a una determinada posición de la misma. Los índices de las posiciones empiezan en 0, y se especifican poniendo corchetes con el índice dentro luego del nombre de la lista:"
      ]
    },
    {
      "cell_type": "code",
      "metadata": {
        "colab_type": "code",
        "id": "Jepw64oFPBPC",
        "outputId": "6014566d-47ae-408d-f9a4-ee40b4b0ebcb",
        "colab": {
          "base_uri": "https://localhost:8080/",
          "height": 50
        }
      },
      "source": [
        "print(lista_1[0])\n",
        "print(type(lista_1[0]))"
      ],
      "execution_count": 0,
      "outputs": [
        {
          "output_type": "stream",
          "text": [
            "42\n",
            "<class 'int'>\n"
          ],
          "name": "stdout"
        }
      ]
    },
    {
      "cell_type": "code",
      "metadata": {
        "colab_type": "code",
        "id": "84_TXl15PBPE",
        "outputId": "3416cf39-f5f0-4196-b827-5a3b3bd59a47",
        "colab": {
          "base_uri": "https://localhost:8080/",
          "height": 50
        }
      },
      "source": [
        "print(lista_1[3])\n",
        "print(type(lista_1[3]))"
      ],
      "execution_count": 0,
      "outputs": [
        {
          "output_type": "stream",
          "text": [
            "Texto\n",
            "<class 'str'>\n"
          ],
          "name": "stdout"
        }
      ]
    },
    {
      "cell_type": "code",
      "metadata": {
        "colab_type": "code",
        "id": "E95aE3TaPBPH",
        "outputId": "9d2f93df-1ea9-408f-f06c-9441ca1fecdb",
        "colab": {
          "base_uri": "https://localhost:8080/",
          "height": 50
        }
      },
      "source": [
        "print(lista_1[2])\n",
        "print(type(lista_1[2]))"
      ],
      "execution_count": 0,
      "outputs": [
        {
          "output_type": "stream",
          "text": [
            "True\n",
            "<class 'bool'>\n"
          ],
          "name": "stdout"
        }
      ]
    },
    {
      "cell_type": "code",
      "metadata": {
        "colab_type": "code",
        "id": "mVfn1mYHPBPK",
        "outputId": "937b7384-9a6f-45e0-9699-ababf905dc86",
        "colab": {
          "base_uri": "https://localhost:8080/",
          "height": 34
        }
      },
      "source": [
        "# Tambien podemos seleccionar una porción de lista\n",
        "#(ya veremos esto en detalle mas adelante)\n",
        "print(lista_1[0:3])"
      ],
      "execution_count": 0,
      "outputs": [
        {
          "output_type": "stream",
          "text": [
            "[42, 4.7, True]\n"
          ],
          "name": "stdout"
        }
      ]
    },
    {
      "cell_type": "code",
      "metadata": {
        "colab_type": "code",
        "id": "-nQ_FGfNPBPM",
        "outputId": "73b00352-ff54-40b5-ad06-ede6508bfc4d",
        "colab": {
          "base_uri": "https://localhost:8080/",
          "height": 50
        }
      },
      "source": [
        "# Definimos una segunda lista\n",
        "lista_2 = [0, lista_1, 'Mas texto']\n",
        "print(lista_2)\n",
        "print(len(lista_2))"
      ],
      "execution_count": 0,
      "outputs": [
        {
          "output_type": "stream",
          "text": [
            "[0, [42, 4.7, True, 'Texto'], 'Mas texto']\n",
            "3\n"
          ],
          "name": "stdout"
        }
      ]
    },
    {
      "cell_type": "markdown",
      "metadata": {
        "colab_type": "text",
        "id": "5YSBWt8tPBPP"
      },
      "source": [
        "Notemos que en esta segunda lista, agregamos dentro la primera. Toda la primer lista cuenta como un único elemento."
      ]
    },
    {
      "cell_type": "code",
      "metadata": {
        "colab_type": "code",
        "id": "3WYr5rJQPBPQ",
        "outputId": "7787b8fa-4f9a-4e25-bf36-acc9567c9b69",
        "colab": {
          "base_uri": "https://localhost:8080/",
          "height": 34
        }
      },
      "source": [
        "# Un elemento de la lista_2 es la lista_1\n",
        "print(lista_2[1])"
      ],
      "execution_count": 0,
      "outputs": [
        {
          "output_type": "stream",
          "text": [
            "[42, 4.7, True, 'Texto']\n"
          ],
          "name": "stdout"
        }
      ]
    },
    {
      "cell_type": "markdown",
      "metadata": {
        "colab_type": "text",
        "id": "ZbA1JYFxPBPR"
      },
      "source": [
        "Podemos crear listas vacias, e ir agregándole elementos con el método 'append()'"
      ]
    },
    {
      "cell_type": "code",
      "metadata": {
        "colab_type": "code",
        "id": "7VWvo-GwPBPT",
        "colab": {
          "base_uri": "https://localhost:8080/",
          "height": 34
        },
        "outputId": "649d1df0-2a3f-4126-af67-26d83b219f71"
      },
      "source": [
        "lista_vacia = []\n",
        "len(lista_vacia)"
      ],
      "execution_count": 1,
      "outputs": [
        {
          "output_type": "execute_result",
          "data": {
            "text/plain": [
              "0"
            ]
          },
          "metadata": {
            "tags": []
          },
          "execution_count": 1
        }
      ]
    },
    {
      "cell_type": "code",
      "metadata": {
        "colab_type": "code",
        "id": "pmlQp8PEPBPV",
        "colab": {
          "base_uri": "https://localhost:8080/",
          "height": 50
        },
        "outputId": "2c0c9b82-02af-449a-807d-d169c82eef96"
      },
      "source": [
        "lista_vacia.append(42)\n",
        "lista_vacia.append('un segundo item')\n",
        "print(lista_vacia)\n",
        "print(len(lista_vacia))"
      ],
      "execution_count": 3,
      "outputs": [
        {
          "output_type": "stream",
          "text": [
            "[42, 'un segundo item', 42, 'un segundo item']\n",
            "4\n"
          ],
          "name": "stdout"
        }
      ]
    },
    {
      "cell_type": "markdown",
      "metadata": {
        "colab_type": "text",
        "id": "sU-6LA63PBPX"
      },
      "source": [
        "Prueben qué pasa si corren nuevamente la celda anterior (justo arriba de esta)."
      ]
    },
    {
      "cell_type": "markdown",
      "metadata": {
        "colab_type": "text",
        "id": "EPJNCI0tUvsl"
      },
      "source": [
        "**Ejercicio**: Defina una lista vacia llamada 'lista_nueva' y agréguele (`append()`) los elementos a, b y c."
      ]
    },
    {
      "cell_type": "code",
      "metadata": {
        "colab_type": "code",
        "id": "jXs-Rkh6VF8K",
        "colab": {
          "base_uri": "https://localhost:8080/",
          "height": 34
        },
        "outputId": "d8dfa5da-fff1-4f85-b4f1-dce1eb9b09ca"
      },
      "source": [
        "a = 8\n",
        "b = 'world'\n",
        "c = [12,24.5,66]\n",
        "\n",
        "lista_nueva = []\n",
        "lista_nueva.append(a)\n",
        "lista_nueva.append(b)\n",
        "lista_nueva.append(c)\n",
        "print(lista_nueva)"
      ],
      "execution_count": 5,
      "outputs": [
        {
          "output_type": "stream",
          "text": [
            "[8, 'world', [12, 24.5, 66]]\n"
          ],
          "name": "stdout"
        }
      ]
    },
    {
      "cell_type": "markdown",
      "metadata": {
        "id": "8DvEiRlO5lIf",
        "colab_type": "text"
      },
      "source": [
        "**Detalle muy importante:** copiado de listas (que vale para listas, arreglos de Numpy y dataframes de Pandas)"
      ]
    },
    {
      "cell_type": "code",
      "metadata": {
        "id": "-0qixxs55lIg",
        "colab_type": "code",
        "colab": {
          "base_uri": "https://localhost:8080/",
          "height": 34
        },
        "outputId": "84786260-e940-42e3-e14c-5ef35e211ae4"
      },
      "source": [
        "lista_1 = [1,2,3,4]\n",
        "lista_2 = lista_1  #lista_2 ahora es igual a lista_1\n",
        "lista_2[-1] = 100 #el ultimo elemento de la lista ahora es 100, con -1 seleccionamos el ultimo elemento de la lista\n",
        "print(lista_1, lista_2)"
      ],
      "execution_count": 6,
      "outputs": [
        {
          "output_type": "stream",
          "text": [
            "[1, 2, 3, 100] [1, 2, 3, 100]\n"
          ],
          "name": "stdout"
        }
      ]
    },
    {
      "cell_type": "markdown",
      "metadata": {
        "id": "D7rR_T735lIj",
        "colab_type": "text"
      },
      "source": [
        "¡Se modificaron ambas listas!"
      ]
    },
    {
      "cell_type": "code",
      "metadata": {
        "id": "GiFtHWrk5lIj",
        "colab_type": "code",
        "colab": {
          "base_uri": "https://localhost:8080/",
          "height": 34
        },
        "outputId": "d12f7696-f0ef-4ebf-de9d-094b19b5244f"
      },
      "source": [
        "lista_1 = [1,2,3,4]\n",
        "lista_2 = lista_1.copy()\n",
        "lista_2[-1] = 100\n",
        "print(lista_1, lista_2)"
      ],
      "execution_count": 7,
      "outputs": [
        {
          "output_type": "stream",
          "text": [
            "[1, 2, 3, 4] [1, 2, 3, 100]\n"
          ],
          "name": "stdout"
        }
      ]
    },
    {
      "cell_type": "markdown",
      "metadata": {
        "id": "9FbAjB3V5lIp",
        "colab_type": "text"
      },
      "source": [
        "Ahora no!"
      ]
    },
    {
      "cell_type": "markdown",
      "metadata": {
        "colab_type": "text",
        "id": "oGW0jo5hPBPZ"
      },
      "source": [
        "### 2.2 Loops\n",
        "Los **Loops** son estructuras de codigo fundamentales en cualquier lenguaje de programación. Son bloques de código que se repiten dada una cierta cantidad de veces dada una condición.\n",
        "\n",
        "#### 2.2.1 For\n",
        "El For es un loop en el que un bloque de código se repite tantas veces como elementos haya en una determinada lista. En cada iteración (repetición) hay una variable que va tomando el valor de uno de los elementos en esta lista."
      ]
    },
    {
      "cell_type": "code",
      "metadata": {
        "colab_type": "code",
        "id": "hZw979QmPBPa",
        "colab": {
          "base_uri": "https://localhost:8080/",
          "height": 101
        },
        "outputId": "f50dcfb9-b07d-4c22-e1c1-843a16cf814a"
      },
      "source": [
        "lista_numeros = [3,55,1,876,12]\n",
        "\n",
        "# Definimos el codigo dentro del for mediante la indentación\n",
        "# (Todo lo que este corrido un 'tab' a la derecha)\n",
        "for elemento in lista_numeros:\n",
        "    print(elemento)"
      ],
      "execution_count": 8,
      "outputs": [
        {
          "output_type": "stream",
          "text": [
            "3\n",
            "55\n",
            "1\n",
            "876\n",
            "12\n"
          ],
          "name": "stdout"
        }
      ]
    },
    {
      "cell_type": "code",
      "metadata": {
        "colab_type": "code",
        "id": "kpqiAZb-PBPd",
        "colab": {
          "base_uri": "https://localhost:8080/",
          "height": 101
        },
        "outputId": "6da6cef1-1ade-4726-d9ef-5bc38a7c8fc6"
      },
      "source": [
        "# Repitamos los mismo que la celda anterior\n",
        "# pero ahora agregemos una variable i \n",
        "# que cuente la cantidad de veces que ese corre el codigo \n",
        "\n",
        "lista_numeros = [3,55,1,876,12]\n",
        "\n",
        "# La iniciamos en cero\n",
        "i = 0\n",
        "\n",
        "for elemento in lista_numeros:\n",
        "    \n",
        "    # Le sumamos 1 cada vez que entra\n",
        "    i = i+1\n",
        "    print(elemento)"
      ],
      "execution_count": 9,
      "outputs": [
        {
          "output_type": "stream",
          "text": [
            "3\n",
            "55\n",
            "1\n",
            "876\n",
            "12\n"
          ],
          "name": "stdout"
        }
      ]
    },
    {
      "cell_type": "code",
      "metadata": {
        "colab_type": "code",
        "id": "hsb4LLSdPBPh",
        "colab": {
          "base_uri": "https://localhost:8080/",
          "height": 34
        },
        "outputId": "03aae402-0b34-4914-f0d4-56b6b1fdee6c"
      },
      "source": [
        "print(i)"
      ],
      "execution_count": 10,
      "outputs": [
        {
          "output_type": "stream",
          "text": [
            "5\n"
          ],
          "name": "stdout"
        }
      ]
    },
    {
      "cell_type": "markdown",
      "metadata": {
        "colab_type": "text",
        "id": "Qbz2a3orPBPl"
      },
      "source": [
        "También podemos recorrer listas de texto. Presten atencion al siguiente codigo, e intenten predecir el resultado antes de correr la celda."
      ]
    },
    {
      "cell_type": "code",
      "metadata": {
        "colab_type": "code",
        "id": "z1jQ13uzPBPm",
        "colab": {
          "base_uri": "https://localhost:8080/",
          "height": 34
        },
        "outputId": "b7c26ce2-d4fe-4312-fe77-da46c6a8c0c7"
      },
      "source": [
        "lista_nombres = ['Ernesto', 'Camilo', 'Violeta']\n",
        "nueva_lista = []\n",
        "\n",
        "for item in lista_nombres:\n",
        "    oracion = 'Mi nombre es ' + item\n",
        "    nueva_lista.append(oracion)\n",
        "\n",
        "# Este print esta fuera del for, no está indentado\n",
        "print(nueva_lista)"
      ],
      "execution_count": 11,
      "outputs": [
        {
          "output_type": "stream",
          "text": [
            "['Mi nombre es Ernesto', 'Mi nombre es Camilo', 'Mi nombre es Violeta']\n"
          ],
          "name": "stdout"
        }
      ]
    },
    {
      "cell_type": "markdown",
      "metadata": {
        "colab_type": "text",
        "id": "565EnFNTVU3V"
      },
      "source": [
        "**Ejercicio**: Genere una lista llamada 'numerotes' que contenga el cuadrado de cada elemento en la lista 'numeritos'."
      ]
    },
    {
      "cell_type": "code",
      "metadata": {
        "colab_type": "code",
        "id": "YB0EcpVqV3hY",
        "colab": {
          "base_uri": "https://localhost:8080/",
          "height": 34
        },
        "outputId": "8292d335-492a-44b1-efa5-5748cf5d49b4"
      },
      "source": [
        "numeritos = [3,1,5,7,12,10,17,4,22]\n",
        "\n",
        "numerotes = []\n",
        "\n",
        "for e in numeritos:\n",
        "    numerotes.append(e**2)\n",
        "print(numerotes)"
      ],
      "execution_count": 12,
      "outputs": [
        {
          "output_type": "stream",
          "text": [
            "[9, 1, 25, 49, 144, 100, 289, 16, 484]\n"
          ],
          "name": "stdout"
        }
      ]
    },
    {
      "cell_type": "markdown",
      "metadata": {
        "colab_type": "text",
        "id": "S8lTPAaiPBPo"
      },
      "source": [
        "\n",
        "#### 2.2.2 While\n",
        "El while repite un bloque de código mientras se cumpla una cierta condición que le ponemos. Para mayor claridad, pondremos la condición dentro de parentesis '()'."
      ]
    },
    {
      "cell_type": "code",
      "metadata": {
        "colab_type": "code",
        "id": "EFy5Woa-PBPp",
        "colab": {
          "base_uri": "https://localhost:8080/",
          "height": 84
        },
        "outputId": "4fa43034-df80-46f9-b7e5-6283f11270ea"
      },
      "source": [
        "numero = 1\n",
        "\n",
        "while (numero < 5):\n",
        "    print(numero)\n",
        "    numero = numero + 1"
      ],
      "execution_count": 13,
      "outputs": [
        {
          "output_type": "stream",
          "text": [
            "1\n",
            "2\n",
            "3\n",
            "4\n"
          ],
          "name": "stdout"
        }
      ]
    },
    {
      "cell_type": "code",
      "metadata": {
        "colab_type": "code",
        "id": "ub1o-7-aPBPr",
        "colab": {
          "base_uri": "https://localhost:8080/",
          "height": 50
        },
        "outputId": "42cae47a-d2b9-4354-f555-6f6e0682b33d"
      },
      "source": [
        "# La condición debe ser una operación lógica y dar como resultado un booleano\n",
        "print(2 < 5)\n",
        "type(2 < 5)"
      ],
      "execution_count": 14,
      "outputs": [
        {
          "output_type": "stream",
          "text": [
            "True\n"
          ],
          "name": "stdout"
        },
        {
          "output_type": "execute_result",
          "data": {
            "text/plain": [
              "bool"
            ]
          },
          "metadata": {
            "tags": []
          },
          "execution_count": 14
        }
      ]
    },
    {
      "cell_type": "code",
      "metadata": {
        "colab_type": "code",
        "id": "CnqMdJlEPBPv",
        "colab": {
          "base_uri": "https://localhost:8080/",
          "height": 50
        },
        "outputId": "e0f87107-dc84-4feb-e0ed-db864715a3af"
      },
      "source": [
        "print(5 < 5)\n",
        "type(5 < 5)"
      ],
      "execution_count": 15,
      "outputs": [
        {
          "output_type": "stream",
          "text": [
            "False\n"
          ],
          "name": "stdout"
        },
        {
          "output_type": "execute_result",
          "data": {
            "text/plain": [
              "bool"
            ]
          },
          "metadata": {
            "tags": []
          },
          "execution_count": 15
        }
      ]
    },
    {
      "cell_type": "markdown",
      "metadata": {
        "colab_type": "text",
        "id": "lbjDKBFTPBPy"
      },
      "source": [
        "**Ejercicio**: Decida si quiere ejecutar el siguiente bloque de código."
      ]
    },
    {
      "cell_type": "code",
      "metadata": {
        "colab_type": "code",
        "id": "11Yjx3U2PBPy",
        "colab": {
          "base_uri": "https://localhost:8080/",
          "height": 195
        },
        "outputId": "2aac2695-f65d-4b99-9128-cb69e4af8b0c"
      },
      "source": [
        "numero = 1\n",
        "\n",
        "while (numero > 0):\n",
        "    numero = numero + 1"
      ],
      "execution_count": 16,
      "outputs": [
        {
          "output_type": "error",
          "ename": "KeyboardInterrupt",
          "evalue": "ignored",
          "traceback": [
            "\u001b[0;31m---------------------------------------------------------------------------\u001b[0m",
            "\u001b[0;31mKeyboardInterrupt\u001b[0m                         Traceback (most recent call last)",
            "\u001b[0;32m<ipython-input-16-3540f901c898>\u001b[0m in \u001b[0;36m<module>\u001b[0;34m()\u001b[0m\n\u001b[1;32m      2\u001b[0m \u001b[0;34m\u001b[0m\u001b[0m\n\u001b[1;32m      3\u001b[0m \u001b[0;32mwhile\u001b[0m \u001b[0;34m(\u001b[0m\u001b[0mnumero\u001b[0m \u001b[0;34m>\u001b[0m \u001b[0;36m0\u001b[0m\u001b[0;34m)\u001b[0m\u001b[0;34m:\u001b[0m\u001b[0;34m\u001b[0m\u001b[0;34m\u001b[0m\u001b[0m\n\u001b[0;32m----> 4\u001b[0;31m     \u001b[0mnumero\u001b[0m \u001b[0;34m=\u001b[0m \u001b[0mnumero\u001b[0m \u001b[0;34m+\u001b[0m \u001b[0;36m1\u001b[0m\u001b[0;34m\u001b[0m\u001b[0;34m\u001b[0m\u001b[0m\n\u001b[0m",
            "\u001b[0;31mKeyboardInterrupt\u001b[0m: "
          ]
        }
      ]
    },
    {
      "cell_type": "markdown",
      "metadata": {
        "colab_type": "text",
        "id": "BdO41jDPPBP0"
      },
      "source": [
        "Si decidió ejecutarlo (o corrió la celda antes de leer la consigna), ¡felicitaciones, usted ha colgado por primera vez un programa! Pero como ya dijimos, hay que probar y equivocarse, nada es irreversible. Vaya a la solapa 'Kernel' del menú y seleccione 'Interrupt'. Lo que sucuede es que la condición del `while` será siempre cierta, por ende nuestro programa se quedará repitiendo el bloque de codigo dentro del loop indefinidamente. Puede averiguar cuantas iteraciones realizo la maquina inspeccionando la variable 'numero':"
      ]
    },
    {
      "cell_type": "code",
      "metadata": {
        "colab_type": "code",
        "id": "UGOMivAkPBP0",
        "colab": {
          "base_uri": "https://localhost:8080/",
          "height": 34
        },
        "outputId": "6d7b7464-2aa1-4315-80be-cbeb78cf73bc"
      },
      "source": [
        "print(numero)"
      ],
      "execution_count": 17,
      "outputs": [
        {
          "output_type": "stream",
          "text": [
            "175736492\n"
          ],
          "name": "stdout"
        }
      ]
    },
    {
      "cell_type": "markdown",
      "metadata": {
        "id": "giO3_jz85lJD",
        "colab_type": "text"
      },
      "source": [
        "¡Notar qué rápido la computadora hace algunas operaciones!"
      ]
    },
    {
      "cell_type": "markdown",
      "metadata": {
        "colab_type": "text",
        "id": "oa016g7sPBP2"
      },
      "source": [
        "### 2.3 Condicionales\n",
        "Los condicionales son un bloque de codigo que se ejecuta solo en el caso que se cumpla una dada condición.\n",
        "\n",
        "### 2.3.1 If\n",
        "El condicional más simple es el `if`. Nuevamente para mayor claridad escribiremos la condicion entre parentesis (), aunque esto no es necesario."
      ]
    },
    {
      "cell_type": "code",
      "metadata": {
        "colab_type": "code",
        "id": "TYisVuiEPBP4",
        "colab": {
          "base_uri": "https://localhost:8080/",
          "height": 34
        },
        "outputId": "6eb2b299-4bb5-407b-e4b6-c7e446a57ac2"
      },
      "source": [
        "valor = 15\n",
        "\n",
        "if (valor > 10):\n",
        "    print('El valor es mayor que 10')"
      ],
      "execution_count": 18,
      "outputs": [
        {
          "output_type": "stream",
          "text": [
            "El valor es mayor que 10\n"
          ],
          "name": "stdout"
        }
      ]
    },
    {
      "cell_type": "markdown",
      "metadata": {
        "colab_type": "text",
        "id": "-hz-IXpJPBP6"
      },
      "source": [
        "La condición que escribimos debe ser una operación lógica que da como resultado un booleano."
      ]
    },
    {
      "cell_type": "code",
      "metadata": {
        "colab_type": "code",
        "id": "BCXXXwRMPBP7",
        "colab": {
          "base_uri": "https://localhost:8080/",
          "height": 34
        },
        "outputId": "0114a7d8-db0e-4bc2-8980-f990f1cb6579"
      },
      "source": [
        "print(15 > 10)"
      ],
      "execution_count": 19,
      "outputs": [
        {
          "output_type": "stream",
          "text": [
            "True\n"
          ],
          "name": "stdout"
        }
      ]
    },
    {
      "cell_type": "code",
      "metadata": {
        "colab_type": "code",
        "id": "PshNhscXPBP9",
        "colab": {
          "base_uri": "https://localhost:8080/",
          "height": 34
        },
        "outputId": "7adc7df7-2904-4884-e568-e6cf1d287738"
      },
      "source": [
        "print(type(15 > 10))"
      ],
      "execution_count": 20,
      "outputs": [
        {
          "output_type": "stream",
          "text": [
            "<class 'bool'>\n"
          ],
          "name": "stdout"
        }
      ]
    },
    {
      "cell_type": "markdown",
      "metadata": {
        "colab_type": "text",
        "id": "zaIO1UwlPBP_"
      },
      "source": [
        "### 2.3.2 If, Else\n",
        "A este condicional se le peude agregar otro bloque de codigo que se ejecute si la condición exigida NO se cuemple. Esto se logra mediante la expresión 'else'."
      ]
    },
    {
      "cell_type": "code",
      "metadata": {
        "colab_type": "code",
        "id": "Hf8xuG6iPBP_",
        "colab": {
          "base_uri": "https://localhost:8080/",
          "height": 34
        },
        "outputId": "ccfd0662-6763-4f6c-84db-0c679fd5fd73"
      },
      "source": [
        "nombre = 'Pedro'\n",
        "\n",
        "if (nombre == 'Juan'):\n",
        "    print('Esta persona se llama Juan')\n",
        "else:\n",
        "    print('Esta persona NO se llama Juan')"
      ],
      "execution_count": 21,
      "outputs": [
        {
          "output_type": "stream",
          "text": [
            "Esta persona NO se llama Juan\n"
          ],
          "name": "stdout"
        }
      ]
    },
    {
      "cell_type": "code",
      "metadata": {
        "colab_type": "code",
        "id": "GVfCLIQyPBQB",
        "colab": {
          "base_uri": "https://localhost:8080/",
          "height": 34
        },
        "outputId": "ee498fcf-7461-456c-c83f-f00f8e715486"
      },
      "source": [
        "'Juan'=='Pedro'"
      ],
      "execution_count": 22,
      "outputs": [
        {
          "output_type": "execute_result",
          "data": {
            "text/plain": [
              "False"
            ]
          },
          "metadata": {
            "tags": []
          },
          "execution_count": 22
        }
      ]
    },
    {
      "cell_type": "markdown",
      "metadata": {
        "colab_type": "text",
        "id": "1AJNWoqhPBQJ"
      },
      "source": [
        "### 2.3.3 If, Elif, Else\n",
        "A esta estructura se le pueden sumar tantas condiciones encadenadas como uno desee, mediante la expresión `elif`. El orden en que se van chequeando las condiciones depende de su posición, priemero se chequea el `if`, luego el primer `elif`, luego el segundo, y así sucesivamente."
      ]
    },
    {
      "cell_type": "code",
      "metadata": {
        "colab_type": "code",
        "id": "psA9onaFPBQL",
        "colab": {
          "base_uri": "https://localhost:8080/",
          "height": 34
        },
        "outputId": "a790cbb9-a88b-4872-d592-ae2c919f9885"
      },
      "source": [
        "edad = 20\n",
        "\n",
        "if (edad < 18):\n",
        "    print('Esta persona tiene menos de 18 años')\n",
        "elif (edad > 18):\n",
        "    print('Esta persona tiene más de 18 años')\n",
        "else:\n",
        "    print('Esta persona tiene justo 18 años')"
      ],
      "execution_count": 24,
      "outputs": [
        {
          "output_type": "stream",
          "text": [
            "Esta persona tiene más de 18 años\n"
          ],
          "name": "stdout"
        }
      ]
    },
    {
      "cell_type": "markdown",
      "metadata": {
        "colab_type": "text",
        "id": "ZHXdIEkSW6wa"
      },
      "source": [
        "**Ejercicio**: Escriba un bloque de código que, dado un número, imprima la frase 'El numero es par' si el número es par o la frase 'El numero es impar' si no lo es."
      ]
    },
    {
      "cell_type": "code",
      "metadata": {
        "colab_type": "code",
        "id": "7uWbEw9BYAL4",
        "colab": {
          "base_uri": "https://localhost:8080/",
          "height": 34
        },
        "outputId": "e5d577cf-b07a-473b-a52f-26416f271f04"
      },
      "source": [
        "numero = 17\n",
        "\n",
        "if numero%2:\n",
        "    print(\"El número es par\")\n",
        "else:\n",
        "    print(\"El número es impar\")"
      ],
      "execution_count": 26,
      "outputs": [
        {
          "output_type": "stream",
          "text": [
            "El número es par\n"
          ],
          "name": "stdout"
        }
      ]
    },
    {
      "cell_type": "markdown",
      "metadata": {
        "colab_type": "text",
        "id": "qecxWClXPBQM"
      },
      "source": [
        "### 2.4 Combinando estructuras de código\n",
        "Las estructuras de loops y condicionales que aprendimos se pueden combinar para generar comportamientos más complejos."
      ]
    },
    {
      "cell_type": "code",
      "metadata": {
        "colab_type": "code",
        "id": "69DHgsOjPBQN",
        "colab": {
          "base_uri": "https://localhost:8080/",
          "height": 34
        },
        "outputId": "1fe0c350-c66a-4f5f-e157-af8814f6d63d"
      },
      "source": [
        "lista_de_edades = [4,20,15,29,11,42,10,18]\n",
        "lista_mayores = []\n",
        "\n",
        "# Queremos armar una lista solo con las edades mayores o iguales a 18\n",
        "for edad in lista_de_edades:\n",
        "    if (edad >= 18):\n",
        "        # Agremos a la lista de mayores\n",
        "        lista_mayores.append(edad)\n",
        "\n",
        "print(lista_mayores)"
      ],
      "execution_count": 27,
      "outputs": [
        {
          "output_type": "stream",
          "text": [
            "[20, 29, 42, 18]\n"
          ],
          "name": "stdout"
        }
      ]
    },
    {
      "cell_type": "markdown",
      "metadata": {
        "colab_type": "text",
        "id": "ztSrrW-jPBQQ"
      },
      "source": [
        "## Ejercicios integradores y de repaso\n",
        "\n",
        "A continuación dejamos muchos ejercicios. ¡No se preocupen si no pueden hacer todos!\n",
        "\n",
        "**Ejercicio**: ¿Qué es un *float*?¿Qué operaciones se pueden hacer con ellos?"
      ]
    },
    {
      "cell_type": "markdown",
      "metadata": {
        "id": "0MRjH99Gt9vW",
        "colab_type": "text"
      },
      "source": [
        "Un float es un número con coma. Se pueden sumar, restar, multiplicar, dividir, aplicar potencia y módulo. Además, <, >, =."
      ]
    },
    {
      "cell_type": "markdown",
      "metadata": {
        "id": "fvtxNKF95lJh",
        "colab_type": "text"
      },
      "source": [
        "**Ejercicio**: ¿Qué es un *string*?¿Qué operaciones se pueden hacer con ellos? Escribir algunos ejemplos."
      ]
    },
    {
      "cell_type": "code",
      "metadata": {
        "id": "7c9CE2yU5lJi",
        "colab_type": "code",
        "colab": {}
      },
      "source": [
        "Los strings son textos. Se concatenan y multiplican."
      ],
      "execution_count": 0,
      "outputs": []
    },
    {
      "cell_type": "markdown",
      "metadata": {
        "id": "UgTabVM_5lJl",
        "colab_type": "text"
      },
      "source": [
        "**Ejercicio**: \n",
        "* ¿cuáles son las operaciones con booleanos básicas? Pistas: `and`, `or`.\n",
        "* ¿Qué pasa si sumás, restás, multiplicás o dividís booleanos?"
      ]
    },
    {
      "cell_type": "markdown",
      "metadata": {
        "id": "jSAwKHo25lJm",
        "colab_type": "text"
      },
      "source": [
        "Operaciones Booleanas Básicas"
      ]
    },
    {
      "cell_type": "code",
      "metadata": {
        "id": "WpopPIzU5lJn",
        "colab_type": "code",
        "colab": {
          "base_uri": "https://localhost:8080/",
          "height": 34
        },
        "outputId": "d5f9f811-4708-42e8-d863-9d2415b6decc"
      },
      "source": [
        "rojo = True\n",
        "pesado = False\n",
        "\n",
        "rojo == pesado"
      ],
      "execution_count": 29,
      "outputs": [
        {
          "output_type": "execute_result",
          "data": {
            "text/plain": [
              "False"
            ]
          },
          "metadata": {
            "tags": []
          },
          "execution_count": 29
        }
      ]
    },
    {
      "cell_type": "code",
      "metadata": {
        "id": "u7YSMKz-vGrw",
        "colab_type": "code",
        "colab": {
          "base_uri": "https://localhost:8080/",
          "height": 34
        },
        "outputId": "180a5ac2-dcc0-45f3-cc8e-85d2a5a8969d"
      },
      "source": [
        "rojo+pesado"
      ],
      "execution_count": 30,
      "outputs": [
        {
          "output_type": "execute_result",
          "data": {
            "text/plain": [
              "1"
            ]
          },
          "metadata": {
            "tags": []
          },
          "execution_count": 30
        }
      ]
    },
    {
      "cell_type": "code",
      "metadata": {
        "id": "DK3Zx3x9vLHN",
        "colab_type": "code",
        "colab": {
          "base_uri": "https://localhost:8080/",
          "height": 34
        },
        "outputId": "6a0f1c23-7df0-4a49-ca94-f5b8b65fc3ce"
      },
      "source": [
        "rojo-pesado"
      ],
      "execution_count": 31,
      "outputs": [
        {
          "output_type": "execute_result",
          "data": {
            "text/plain": [
              "1"
            ]
          },
          "metadata": {
            "tags": []
          },
          "execution_count": 31
        }
      ]
    },
    {
      "cell_type": "code",
      "metadata": {
        "id": "6U-lGSJhvPSf",
        "colab_type": "code",
        "colab": {
          "base_uri": "https://localhost:8080/",
          "height": 34
        },
        "outputId": "df4425e7-9a4d-423c-9595-e712448ad508"
      },
      "source": [
        "rojo*pesado"
      ],
      "execution_count": 32,
      "outputs": [
        {
          "output_type": "execute_result",
          "data": {
            "text/plain": [
              "0"
            ]
          },
          "metadata": {
            "tags": []
          },
          "execution_count": 32
        }
      ]
    },
    {
      "cell_type": "code",
      "metadata": {
        "id": "BbQILCcIvT-G",
        "colab_type": "code",
        "colab": {
          "base_uri": "https://localhost:8080/",
          "height": 162
        },
        "outputId": "c6b30263-2c89-4eb7-a306-6ac04e2fd061"
      },
      "source": [
        "rojo/pesado"
      ],
      "execution_count": 33,
      "outputs": [
        {
          "output_type": "error",
          "ename": "ZeroDivisionError",
          "evalue": "ignored",
          "traceback": [
            "\u001b[0;31m---------------------------------------------------------------------------\u001b[0m",
            "\u001b[0;31mZeroDivisionError\u001b[0m                         Traceback (most recent call last)",
            "\u001b[0;32m<ipython-input-33-70199c84a710>\u001b[0m in \u001b[0;36m<module>\u001b[0;34m()\u001b[0m\n\u001b[0;32m----> 1\u001b[0;31m \u001b[0mrojo\u001b[0m\u001b[0;34m/\u001b[0m\u001b[0mpesado\u001b[0m\u001b[0;34m\u001b[0m\u001b[0;34m\u001b[0m\u001b[0m\n\u001b[0m",
            "\u001b[0;31mZeroDivisionError\u001b[0m: division by zero"
          ]
        }
      ]
    },
    {
      "cell_type": "markdown",
      "metadata": {
        "id": "1F080JUz5lJp",
        "colab_type": "text"
      },
      "source": [
        "**Ejercicio**: Hacer una declaración if/else que compare dos variables y que decida cuál es mayor."
      ]
    },
    {
      "cell_type": "code",
      "metadata": {
        "id": "a3Eb8OiE5lJp",
        "colab_type": "code",
        "colab": {
          "base_uri": "https://localhost:8080/",
          "height": 34
        },
        "outputId": "49163a96-4c84-4200-e6a0-fc4029743027"
      },
      "source": [
        "A = 3\n",
        "B = 4\n",
        "if A > B:\n",
        "    print('A es mayor a B' )\n",
        "else:\n",
        "    print('B es mayor a A')"
      ],
      "execution_count": 35,
      "outputs": [
        {
          "output_type": "stream",
          "text": [
            "B es mayor a A\n"
          ],
          "name": "stdout"
        }
      ]
    },
    {
      "cell_type": "markdown",
      "metadata": {
        "id": "lgpab3Fd5lJr",
        "colab_type": "text"
      },
      "source": [
        "**Ejercicio**: Dada la siguiente lista de numeros:"
      ]
    },
    {
      "cell_type": "code",
      "metadata": {
        "colab_type": "code",
        "id": "nixTh2uwPBQQ",
        "colab": {
          "base_uri": "https://localhost:8080/",
          "height": 54
        },
        "outputId": "4f2052b4-7fb5-490f-87bb-bf8ab40c31cd"
      },
      "source": [
        "numeros_en_texto = ['2', '3', '2', '3', '2', '2', '2', '2', '3', '2', '3', '1', '3', '1', '2', '2', '2', '2', '2', '2', '2', '2', '1', '2', '3', '2', '2', '2', '2', '1', '2', '3', '2', '2', '3', '2', '3', '3', '2', '2', '1', '3', '3', '2', '3', '2', '2', '1', '2', '1', '1', '2', '2', '3', '2', '2', '2', '3', '2', '2', '2', '1', '2', '2', '3', '2', '2', '2', '2', '1', '2', '2', '2', '2', '3', '1', '2', '3', '3', '2', '3', '2', '2', '3', '3', '1', '1', '3', '2', '1', '2', '2', '2', '1', '1', '2', '2', '2', '2', '2', '2', '2', '3', '3', '1', '3', '3', '3', '2', '2', '2', '2', '2', '2', '2', '3', '3', '2', '2', '3', '2', '2', '2', '2', '2', '3', '3', '2', '2', '1', '3', '2', '2', '2', '3', '2', '3', '1', '3', '3', '2', '3', '3', '2', '2', '2', '2', '2', '2', '1', '2', '2', '1', '2', '3', '2', '1', '3', '1', '2', '3', '3', '3', '2', '3', '1', '3', '2', '3', '1', '2', '2', '2', '3', '3', '2', '2', '2', '2', '2', '3', '1', '2', '3', '3', '2', '2', '3', '2', '2', '2', '3', '2', '2', '2', '2', '1', '2', '3', '1', '3', '2', '2', '3', '3', '3', '2', '2', '1', '1']\n",
        "print(numeros_en_texto)"
      ],
      "execution_count": 36,
      "outputs": [
        {
          "output_type": "stream",
          "text": [
            "['2', '3', '2', '3', '2', '2', '2', '2', '3', '2', '3', '1', '3', '1', '2', '2', '2', '2', '2', '2', '2', '2', '1', '2', '3', '2', '2', '2', '2', '1', '2', '3', '2', '2', '3', '2', '3', '3', '2', '2', '1', '3', '3', '2', '3', '2', '2', '1', '2', '1', '1', '2', '2', '3', '2', '2', '2', '3', '2', '2', '2', '1', '2', '2', '3', '2', '2', '2', '2', '1', '2', '2', '2', '2', '3', '1', '2', '3', '3', '2', '3', '2', '2', '3', '3', '1', '1', '3', '2', '1', '2', '2', '2', '1', '1', '2', '2', '2', '2', '2', '2', '2', '3', '3', '1', '3', '3', '3', '2', '2', '2', '2', '2', '2', '2', '3', '3', '2', '2', '3', '2', '2', '2', '2', '2', '3', '3', '2', '2', '1', '3', '2', '2', '2', '3', '2', '3', '1', '3', '3', '2', '3', '3', '2', '2', '2', '2', '2', '2', '1', '2', '2', '1', '2', '3', '2', '1', '3', '1', '2', '3', '3', '3', '2', '3', '1', '3', '2', '3', '1', '2', '2', '2', '3', '3', '2', '2', '2', '2', '2', '3', '1', '2', '3', '3', '2', '2', '3', '2', '2', '2', '3', '2', '2', '2', '2', '1', '2', '3', '1', '3', '2', '2', '3', '3', '3', '2', '2', '1', '1']\n"
          ],
          "name": "stdout"
        }
      ]
    },
    {
      "cell_type": "markdown",
      "metadata": {
        "colab_type": "text",
        "id": "XLWP4dKfPBQS"
      },
      "source": [
        "Calcule la suma de los unos (1) y los tres (3) en esta lista. Hay muchas formas de hacerlo, si encuentra más de una, mejor. El resultado es 210."
      ]
    },
    {
      "cell_type": "code",
      "metadata": {
        "id": "SEK09-f_5lJu",
        "colab_type": "code",
        "colab": {
          "base_uri": "https://localhost:8080/",
          "height": 50
        },
        "outputId": "5f1ff79c-dd74-4f12-fad8-6e9c5ce8d8de"
      },
      "source": [
        "suma = 0\n",
        "print(\"total: \", len(numeros_en_texto))\n",
        "for elem in numeros_en_texto:\n",
        "    if elem == \"1\":\n",
        "        suma = suma + 1\n",
        "    elif elem == \"3\":\n",
        "        suma = suma + 1\n",
        "print(suma)"
      ],
      "execution_count": 39,
      "outputs": [
        {
          "output_type": "stream",
          "text": [
            "total:  210\n",
            "90\n"
          ],
          "name": "stdout"
        }
      ]
    },
    {
      "cell_type": "markdown",
      "metadata": {
        "id": "40Al3N1k5lJy",
        "colab_type": "text"
      },
      "source": [
        "**Ejercicio**: \n",
        "* Hacer un for loop que le sume uno a todos los elementos de la lista `A = [0,1,2,3,4]` y lo imprima.\n",
        "* Hacer un for loop que le sume uno a todos los elementos de la lista `A = [0,1,2,3,4]` y lo guarde en una lista nueva B. Googlear: append.\n",
        "* ¿Qué hace el comando *range*?"
      ]
    },
    {
      "cell_type": "code",
      "metadata": {
        "id": "cov1Gf_q5lJz",
        "colab_type": "code",
        "colab": {
          "base_uri": "https://localhost:8080/",
          "height": 101
        },
        "outputId": "050d8549-93f7-46cf-cce3-58f420787100"
      },
      "source": [
        "# Hacer un for loop que le sume uno a todos los elementos de la lista A = [0,1,2,3,4] y lo imprima.\n",
        "A = [0,1,2,3,4]\n",
        "for elem in A:\n",
        "  print(elem + 1)"
      ],
      "execution_count": 40,
      "outputs": [
        {
          "output_type": "stream",
          "text": [
            "1\n",
            "2\n",
            "3\n",
            "4\n",
            "5\n"
          ],
          "name": "stdout"
        }
      ]
    },
    {
      "cell_type": "code",
      "metadata": {
        "id": "ViRHiycu5lJ2",
        "colab_type": "code",
        "colab": {
          "base_uri": "https://localhost:8080/",
          "height": 34
        },
        "outputId": "a9deb718-4361-46e3-e697-d805fd3cedfa"
      },
      "source": [
        "# Hacer un for loop que le sume uno a todos los elementos de la lista A = [0,1,2,3,4] y lo guarde en una lista nueva B. Googlear: append.\n",
        "A = [0,1,2,3,4]\n",
        "B = []\n",
        "for elem in A:\n",
        "  B.append(elem + 1)\n",
        "print(B)"
      ],
      "execution_count": 41,
      "outputs": [
        {
          "output_type": "stream",
          "text": [
            "[1, 2, 3, 4, 5]\n"
          ],
          "name": "stdout"
        }
      ]
    },
    {
      "cell_type": "code",
      "metadata": {
        "id": "6RGYWOO05lJ3",
        "colab_type": "code",
        "colab": {
          "base_uri": "https://localhost:8080/",
          "height": 34
        },
        "outputId": "4be62dab-3770-4d63-b667-684b9af48ed6"
      },
      "source": [
        "# ¿Qué hace el comando *range*?\n",
        "#Range crea un rango de números\n",
        "A = range(4)\n",
        "A"
      ],
      "execution_count": 42,
      "outputs": [
        {
          "output_type": "execute_result",
          "data": {
            "text/plain": [
              "range(0, 4)"
            ]
          },
          "metadata": {
            "tags": []
          },
          "execution_count": 42
        }
      ]
    },
    {
      "cell_type": "code",
      "metadata": {
        "id": "terbp_KEzeXT",
        "colab_type": "code",
        "colab": {
          "base_uri": "https://localhost:8080/",
          "height": 84
        },
        "outputId": "f6261172-9234-4c8c-f4f4-3c23087e3d06"
      },
      "source": [
        "for elem in A:\n",
        "  print(elem)"
      ],
      "execution_count": 43,
      "outputs": [
        {
          "output_type": "stream",
          "text": [
            "0\n",
            "1\n",
            "2\n",
            "3\n"
          ],
          "name": "stdout"
        }
      ]
    },
    {
      "cell_type": "markdown",
      "metadata": {
        "id": "XyXtTaw95lJ4",
        "colab_type": "text"
      },
      "source": [
        "**Ejercicio**: Escribir una rutina que imprima aquellos elementos de la lista *a* que son menores que 10.\n",
        "Pistas: *for*, *if*"
      ]
    },
    {
      "cell_type": "code",
      "metadata": {
        "id": "Psg57x4D5lJ5",
        "colab_type": "code",
        "colab": {
          "base_uri": "https://localhost:8080/",
          "height": 134
        },
        "outputId": "53d29f47-3f88-42d0-8f5e-760acf3de837"
      },
      "source": [
        "a = [1, 1, 2, 3, 5, 8, 8, 13, 21, 34, 34, 55, 89]\n",
        "for elem in a:\n",
        "  if elem < 10:\n",
        "    print(elem)"
      ],
      "execution_count": 44,
      "outputs": [
        {
          "output_type": "stream",
          "text": [
            "1\n",
            "1\n",
            "2\n",
            "3\n",
            "5\n",
            "8\n",
            "8\n"
          ],
          "name": "stdout"
        }
      ]
    },
    {
      "cell_type": "markdown",
      "metadata": {
        "id": "L0THu60S5lJ6",
        "colab_type": "text"
      },
      "source": [
        "**Extras**: en lugar de imprimir los elementos de a uno, armar una nueva lista con aquellos elementos que sean menores a 10. ¿Cómo filtran elementos repetidos?"
      ]
    },
    {
      "cell_type": "code",
      "metadata": {
        "id": "Xe5zAd8k5lJ6",
        "colab_type": "code",
        "colab": {
          "base_uri": "https://localhost:8080/",
          "height": 34
        },
        "outputId": "0c54f23e-4253-487f-da86-edf5f839629a"
      },
      "source": [
        "a = [1, 1, 2, 3, 5, 8, 8, 13, 21, 34, 34, 55, 89]\n",
        "b = []\n",
        "for elem in a:\n",
        "  if elem < 10:\n",
        "    b.append(elem)\n",
        "list(dict.fromkeys(b))\n"
      ],
      "execution_count": 65,
      "outputs": [
        {
          "output_type": "execute_result",
          "data": {
            "text/plain": [
              "[1, 2, 3, 5, 8]"
            ]
          },
          "metadata": {
            "tags": []
          },
          "execution_count": 65
        }
      ]
    },
    {
      "cell_type": "markdown",
      "metadata": {
        "id": "fmK94W9t5lJ8",
        "colab_type": "text"
      },
      "source": [
        "**Ejercicio**: dadas dos listas *a* y *b*, armar una lista con:\n",
        "* Con todos los elementos de *a* y *b*\n",
        "* Con todos los elementos de *a* y *b*, ordenados de menor a mayor\n",
        "* Con todos los elementos de *a* y *b*, ordenados de mayor a menor\n",
        "* Con todos los elementos de *a* y *b*, ordenados de menor a mayor y sin elementos repetidos\n",
        "* Con todos los elementos que están en ambas listas\n",
        "* Con todos los elementos que NO están en ambas listas"
      ]
    },
    {
      "cell_type": "code",
      "metadata": {
        "id": "6yDrtoyL5lJ8",
        "colab_type": "code",
        "colab": {}
      },
      "source": [
        "a = [12,3,5,12,8,9,25,12,1,3,4,5,17,15]\n",
        "b = [3,5,7,8,45,8,9,16,1,11,30,41,2,3,15,1,29,22]"
      ],
      "execution_count": 0,
      "outputs": []
    },
    {
      "cell_type": "markdown",
      "metadata": {
        "id": "9wA0R4Dm5lJ-",
        "colab_type": "text"
      },
      "source": [
        "**Ejercicio**: Para googlear:\n",
        "* ¿Qué es un diccionario? Escribir un ejemplo en una celda."
      ]
    },
    {
      "cell_type": "code",
      "metadata": {
        "id": "CBn_YRWu5lJ-",
        "colab_type": "code",
        "colab": {
          "base_uri": "https://localhost:8080/",
          "height": 34
        },
        "outputId": "f96014a6-6581-4c64-bc1a-969beb3a8658"
      },
      "source": [
        "## Ejemplo diccionario\n",
        "diccionario1 = {\"uno\": 1, \"dos\": 2, \"tres\": 3}\n",
        "diccionario1"
      ],
      "execution_count": 67,
      "outputs": [
        {
          "output_type": "execute_result",
          "data": {
            "text/plain": [
              "{'dos': 2, 'tres': 3, 'uno': 1}"
            ]
          },
          "metadata": {
            "tags": []
          },
          "execution_count": 67
        }
      ]
    }
  ]
}