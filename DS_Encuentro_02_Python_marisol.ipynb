{
  "nbformat": 4,
  "nbformat_minor": 0,
  "metadata": {
    "kernelspec": {
      "display_name": "Python 3",
      "language": "python",
      "name": "python3"
    },
    "language_info": {
      "codemirror_mode": {
        "name": "ipython",
        "version": 3
      },
      "file_extension": ".py",
      "mimetype": "text/x-python",
      "name": "python",
      "nbconvert_exporter": "python",
      "pygments_lexer": "ipython3",
      "version": "3.7.3"
    },
    "colab": {
      "name": "DS_Encuentro_02_Python_marisol.ipynb",
      "provenance": [],
      "include_colab_link": true
    }
  },
  "cells": [
    {
      "cell_type": "markdown",
      "metadata": {
        "id": "view-in-github",
        "colab_type": "text"
      },
      "source": [
        "<a href=\"https://colab.research.google.com/github/mopreni/data_science/blob/master/DS_Encuentro_02_Python_marisol.ipynb\" target=\"_parent\"><img src=\"https://colab.research.google.com/assets/colab-badge.svg\" alt=\"Open In Colab\"/></a>"
      ]
    },
    {
      "cell_type": "markdown",
      "metadata": {
        "colab_type": "text",
        "id": "aDaMLDnAPBMf"
      },
      "source": [
        "# Introducción a Python\n",
        "\n",
        "En este notebook vamos a recorrer algunos de los conceptos básicos de programación en general y Python en particular. Recomendamos ir haciéndolo con las diapositivas de la clase a mano como guía y con el buscador de Google como su mejor amigo. Existen muchísimos recursos de libre acceso disponibles para ayudarnos, recomendamos https://learnxinyminutes.com/docs/python3/ .\n",
        "\n",
        "\n",
        "## Recomendación:\n",
        "Además de realizar los ejercicios, les sugerimos fuertemente que vayan probando y modificando el código presente en este notebook. La mejor manera de aprender es meter mano, 'romper' el código e intentar entender porque dejó de funcionar. ¡No hay nada irreversible, no tengan miedo!\n",
        "\n",
        "## 1. Variables, Tipos de Datos y Operaciones\n",
        "\n",
        "### 1.1 Variables\n",
        "Son los datos u obejetos que que definimos para trabajar en nuestro programa. Cada variable debe llevar un nombre a través del cual nos referimos a ella, los nombres deben ser únicos y, en lo posible, ser lo mas explícitos posibles para evitar confusiones.\n",
        "\n",
        "Usando el `=` se asigna un valor a una variable. No es un igual matemático/lógico, pueden pensarlo como una flecha (<--) que asigna lo que hay del lado derecho a lo que hay del lado izquierdo."
      ]
    },
    {
      "cell_type": "code",
      "metadata": {
        "colab_type": "code",
        "id": "Ejj7jqb9PBMk",
        "colab": {
          "base_uri": "https://localhost:8080/",
          "height": 34
        },
        "outputId": "d3a8350f-0059-40ae-97aa-b3c94b0ba3ad"
      },
      "source": [
        "# Asignamos el valor 3 a una variable que creamos, de nombre x\n",
        "x = 3\n",
        "\n",
        "# Evaluamos e imprimimos en pantalla el resultado\n",
        "print(x)"
      ],
      "execution_count": 1,
      "outputs": [
        {
          "output_type": "stream",
          "text": [
            "3\n"
          ],
          "name": "stdout"
        }
      ]
    },
    {
      "cell_type": "code",
      "metadata": {
        "colab_type": "code",
        "id": "G0_JnDgrPBMu",
        "colab": {
          "base_uri": "https://localhost:8080/",
          "height": 34
        },
        "outputId": "fa66ed53-3c5f-44da-f724-b8549d1726fa"
      },
      "source": [
        "# Asignamos el valor 15.7 a una nueva variable, de nombre y\n",
        "y = 15.7\n",
        "\n",
        "print(y)"
      ],
      "execution_count": 2,
      "outputs": [
        {
          "output_type": "stream",
          "text": [
            "15.7\n"
          ],
          "name": "stdout"
        }
      ]
    },
    {
      "cell_type": "code",
      "metadata": {
        "colab_type": "code",
        "id": "1sVjKnS8PBM0",
        "colab": {
          "base_uri": "https://localhost:8080/",
          "height": 34
        },
        "outputId": "6d5f505a-b574-4d66-c1ac-66b92ed5297e"
      },
      "source": [
        "# Podemos definir una nueva variable como la suma de dos anteriores\n",
        "z = x + y\n",
        "\n",
        "print(z)"
      ],
      "execution_count": 3,
      "outputs": [
        {
          "output_type": "stream",
          "text": [
            "18.7\n"
          ],
          "name": "stdout"
        }
      ]
    },
    {
      "cell_type": "code",
      "metadata": {
        "colab_type": "code",
        "id": "n-OyQw00PBM6",
        "outputId": "3ce001a0-8ac9-4d3f-cd0b-aa2eb84ff4c5",
        "colab": {
          "base_uri": "https://localhost:8080/",
          "height": 34
        }
      },
      "source": [
        "# Se peude tambier asignar un valor de texto otra variable\n",
        "un_texto = 'HOLA!'\n",
        "\n",
        "print(un_texto)"
      ],
      "execution_count": 6,
      "outputs": [
        {
          "output_type": "stream",
          "text": [
            "HOLA!\n"
          ],
          "name": "stdout"
        }
      ]
    },
    {
      "cell_type": "code",
      "metadata": {
        "colab_type": "code",
        "id": "Dj_DJGDOPBNB",
        "outputId": "78054b56-6ba2-4dd9-abd7-bb248ef24083",
        "colab": {
          "base_uri": "https://localhost:8080/",
          "height": 178
        }
      },
      "source": [
        "# Si queremos, podemos borrar alguna variable que ya no la utilizaremos más\n",
        "del(un_texto)\n",
        "print(un_texto)"
      ],
      "execution_count": 7,
      "outputs": [
        {
          "output_type": "error",
          "ename": "NameError",
          "evalue": "ignored",
          "traceback": [
            "\u001b[0;31m---------------------------------------------------------------------------\u001b[0m",
            "\u001b[0;31mNameError\u001b[0m                                 Traceback (most recent call last)",
            "\u001b[0;32m<ipython-input-7-8fd386dc8d5f>\u001b[0m in \u001b[0;36m<module>\u001b[0;34m()\u001b[0m\n\u001b[1;32m      1\u001b[0m \u001b[0;32mdel\u001b[0m\u001b[0;34m(\u001b[0m\u001b[0mun_texto\u001b[0m\u001b[0;34m)\u001b[0m\u001b[0;34m\u001b[0m\u001b[0;34m\u001b[0m\u001b[0m\n\u001b[0;32m----> 2\u001b[0;31m \u001b[0mprint\u001b[0m\u001b[0;34m(\u001b[0m\u001b[0mun_texto\u001b[0m\u001b[0;34m)\u001b[0m\u001b[0;34m\u001b[0m\u001b[0;34m\u001b[0m\u001b[0m\n\u001b[0m",
            "\u001b[0;31mNameError\u001b[0m: name 'un_texto' is not defined"
          ]
        }
      ]
    },
    {
      "cell_type": "markdown",
      "metadata": {
        "colab_type": "text",
        "id": "x3UOib9UPBNG"
      },
      "source": [
        "### Nota importante:\n",
        "Al correr esta íltima linea, deben ver un mensaje de error. Los mensajes de error son MUY IMPORTANTES. Nos brindan información muy valiosa cuando nuestro código no funciona. En este caso, nos está avisando que no puede imprimir la variable `un_texto`, ya que la eliminamos y no está definida."
      ]
    },
    {
      "cell_type": "markdown",
      "metadata": {
        "colab_type": "text",
        "id": "520n2L18PBNH"
      },
      "source": [
        "### 1.2 Tipos de Datos\n",
        "Cuando definimos una variable, dependiendo el contenido que le asignamos, la misma será de un determinado tipo. Los tipos de datos más comunes de variables son: `int`,`float`,`string` y `boolean`. Veamos algunos ejemplos de cada tipo."
      ]
    },
    {
      "cell_type": "code",
      "metadata": {
        "colab_type": "code",
        "id": "5MQYEBApPBNK",
        "outputId": "7261fcde-8c54-4fa3-925d-7ca555927faf",
        "colab": {
          "base_uri": "https://localhost:8080/",
          "height": 34
        }
      },
      "source": [
        "a = 42\n",
        "print(type(a))"
      ],
      "execution_count": 8,
      "outputs": [
        {
          "output_type": "stream",
          "text": [
            "<class 'int'>\n"
          ],
          "name": "stdout"
        }
      ]
    },
    {
      "cell_type": "code",
      "metadata": {
        "colab_type": "code",
        "id": "E0g87gVfPBNP",
        "outputId": "b00c31e7-12af-4299-9d9d-9c57d04c8260",
        "colab": {
          "base_uri": "https://localhost:8080/",
          "height": 34
        }
      },
      "source": [
        "b = 7.8\n",
        "print(type(b))"
      ],
      "execution_count": 9,
      "outputs": [
        {
          "output_type": "stream",
          "text": [
            "<class 'float'>\n"
          ],
          "name": "stdout"
        }
      ]
    },
    {
      "cell_type": "code",
      "metadata": {
        "colab_type": "code",
        "id": "6SFdLEFIPBNW",
        "outputId": "4f428a35-adba-46f1-a9ab-fdee05ee6d0a",
        "colab": {
          "base_uri": "https://localhost:8080/",
          "height": 34
        }
      },
      "source": [
        "c = True\n",
        "print(type(c))"
      ],
      "execution_count": 10,
      "outputs": [
        {
          "output_type": "stream",
          "text": [
            "<class 'bool'>\n"
          ],
          "name": "stdout"
        }
      ]
    },
    {
      "cell_type": "code",
      "metadata": {
        "colab_type": "code",
        "id": "i_cCG-iYPBNb",
        "outputId": "157c326f-fcd2-411b-9d8c-1cd0eeb3f1d0",
        "colab": {
          "base_uri": "https://localhost:8080/",
          "height": 50
        }
      },
      "source": [
        "t1 = 'hola'\n",
        "print(type(\"hola\"))\n",
        "\n",
        "t2 = '523'\n",
        "print(type('t2'))"
      ],
      "execution_count": 11,
      "outputs": [
        {
          "output_type": "stream",
          "text": [
            "<class 'str'>\n",
            "<class 'str'>\n"
          ],
          "name": "stdout"
        }
      ]
    },
    {
      "cell_type": "markdown",
      "metadata": {
        "colab_type": "text",
        "id": "fAiC3ranPBNh"
      },
      "source": [
        "**Nota**: a pesar de ser un número, la variable `t2` es de tipo `string`. Esto se debe a que lo pusimos entre comillas."
      ]
    },
    {
      "cell_type": "code",
      "metadata": {
        "colab_type": "code",
        "id": "erSdYVqhPBNj",
        "outputId": "14766e4d-f804-44c0-f2a8-c03345ec1c27",
        "colab": {
          "base_uri": "https://localhost:8080/",
          "height": 34
        }
      },
      "source": [
        "# Este es un tipo especial de variable, que se utiliza para simbolizar algo 'vacio'\n",
        "d = None\n",
        "print(type(d))"
      ],
      "execution_count": 12,
      "outputs": [
        {
          "output_type": "stream",
          "text": [
            "<class 'NoneType'>\n"
          ],
          "name": "stdout"
        }
      ]
    },
    {
      "cell_type": "markdown",
      "metadata": {
        "colab_type": "text",
        "id": "WhJ_nLaCPBNo"
      },
      "source": [
        "Si por algun motivo (ya veremos que esto es algo que suele suceder), uno desea explicitar el tipo de variable y no dejar que python lo asuma por si solo, esto también es posible."
      ]
    },
    {
      "cell_type": "code",
      "metadata": {
        "colab_type": "code",
        "id": "AvUDAvtpPBNp",
        "outputId": "907d4f63-0f32-4717-fade-82c66960352c",
        "colab": {
          "base_uri": "https://localhost:8080/",
          "height": 67
        }
      },
      "source": [
        "numero = 45\n",
        "print(type(numero))\n",
        "\n",
        "# Quiero que sea un 'float' y no un int\n",
        "numero = float(45)\n",
        "print(type(numero))\n",
        "\n",
        "# Quiero que sea un 'string' y no un int\n",
        "numero = str(45)\n",
        "print(type(numero))"
      ],
      "execution_count": 13,
      "outputs": [
        {
          "output_type": "stream",
          "text": [
            "<class 'int'>\n",
            "<class 'float'>\n",
            "<class 'str'>\n"
          ],
          "name": "stdout"
        }
      ]
    },
    {
      "cell_type": "code",
      "metadata": {
        "colab_type": "code",
        "id": "r6B6f_oOPBNv",
        "outputId": "cd59bb32-31c1-402d-804f-de6893662785",
        "colab": {
          "base_uri": "https://localhost:8080/",
          "height": 50
        }
      },
      "source": [
        "otro_numero = 45.0\n",
        "print(type(otro_numero))\n",
        "\n",
        "# Quiero que sea un 'int' y no un 'float'\n",
        "otro_numero = int(45.0)\n",
        "print(type(otro_numero))"
      ],
      "execution_count": 14,
      "outputs": [
        {
          "output_type": "stream",
          "text": [
            "<class 'float'>\n",
            "<class 'int'>\n"
          ],
          "name": "stdout"
        }
      ]
    },
    {
      "cell_type": "markdown",
      "metadata": {
        "colab_type": "text",
        "id": "4EMswXwbPjLD"
      },
      "source": [
        "**Ejercicio**: Cambiar el tipo de la variable 'numero' a float."
      ]
    },
    {
      "cell_type": "code",
      "metadata": {
        "colab_type": "code",
        "id": "g6o0UHSbPuZu",
        "outputId": "0f2e3e32-9c7c-4811-9d17-9103478cb1f3",
        "colab": {
          "base_uri": "https://localhost:8080/",
          "height": 34
        }
      },
      "source": [
        "numero = '5'\n",
        "numero = float(numero)\n",
        "\n",
        "if type(numero) is float:\n",
        "    print('Correcto!')\n",
        "else:\n",
        "    print('Convierta la variable a tipo float')"
      ],
      "execution_count": 15,
      "outputs": [
        {
          "output_type": "stream",
          "text": [
            "Correcto!\n"
          ],
          "name": "stdout"
        }
      ]
    },
    {
      "cell_type": "markdown",
      "metadata": {
        "colab_type": "text",
        "id": "Zip2yREWPBN0"
      },
      "source": [
        "### 1.3 Operaciones\n",
        "Con las variables que definimos, podemos realizar distintas operaciones. Dependiendo el tipo de variable, hay diferentes operaciones diponibles.\n",
        "\n",
        "#### 1.3.1 Operaciones con números"
      ]
    },
    {
      "cell_type": "code",
      "metadata": {
        "colab_type": "code",
        "id": "QbeN4rjGPBN2",
        "outputId": "9df811fa-64db-4540-caef-7f67944684f0",
        "colab": {
          "base_uri": "https://localhost:8080/",
          "height": 50
        }
      },
      "source": [
        "# Se pueden realizar las operaciones basicas entre numeros\n",
        "a = 20\n",
        "b = 4\n",
        "print(a+b)\n",
        "print(a-b)"
      ],
      "execution_count": 16,
      "outputs": [
        {
          "output_type": "stream",
          "text": [
            "24\n",
            "16\n"
          ],
          "name": "stdout"
        }
      ]
    },
    {
      "cell_type": "code",
      "metadata": {
        "colab_type": "code",
        "id": "x7NDD_tJPBN6",
        "outputId": "bde0d677-945a-4730-bafe-b65f1d741776",
        "colab": {
          "base_uri": "https://localhost:8080/",
          "height": 50
        }
      },
      "source": [
        "# Se pueden realizar las operaciones incluso entre distintos tipos de variables\n",
        "a = 20\n",
        "b = 4.5\n",
        "\n",
        "c = a+b\n",
        "d = a-b\n",
        "\n",
        "print(c)\n",
        "print(d)"
      ],
      "execution_count": 17,
      "outputs": [
        {
          "output_type": "stream",
          "text": [
            "24.5\n",
            "15.5\n"
          ],
          "name": "stdout"
        }
      ]
    },
    {
      "cell_type": "code",
      "metadata": {
        "colab_type": "code",
        "id": "yZLqW2ZYPBN_",
        "outputId": "971a461f-b914-471f-bbfd-bbcf68537323",
        "colab": {
          "base_uri": "https://localhost:8080/",
          "height": 50
        }
      },
      "source": [
        "# Notemos que estos resultados son de tipo float\n",
        "print(type(c))\n",
        "print(type(d))"
      ],
      "execution_count": 18,
      "outputs": [
        {
          "output_type": "stream",
          "text": [
            "<class 'float'>\n",
            "<class 'float'>\n"
          ],
          "name": "stdout"
        }
      ]
    },
    {
      "cell_type": "code",
      "metadata": {
        "colab_type": "code",
        "id": "z9kq2lEVPBOF",
        "outputId": "6e5df7a3-71af-4b48-9b39-a66487bef4af",
        "colab": {
          "base_uri": "https://localhost:8080/",
          "height": 34
        }
      },
      "source": [
        "# Podemos dividir dos numeros\n",
        "x = 10\n",
        "y = 3\n",
        "z = x/y\n",
        "print(z)"
      ],
      "execution_count": 19,
      "outputs": [
        {
          "output_type": "stream",
          "text": [
            "3.3333333333333335\n"
          ],
          "name": "stdout"
        }
      ]
    },
    {
      "cell_type": "code",
      "metadata": {
        "colab_type": "code",
        "id": "IgJQDZ7MPBOI",
        "outputId": "2f811836-7d3b-43fe-f663-26e5b9915764",
        "colab": {
          "base_uri": "https://localhost:8080/",
          "height": 34
        }
      },
      "source": [
        "# Notemos que, a pesar de venir de una operación entre dos enteros,\n",
        "# z es de tipo float\n",
        "print(type(z))"
      ],
      "execution_count": 20,
      "outputs": [
        {
          "output_type": "stream",
          "text": [
            "<class 'float'>\n"
          ],
          "name": "stdout"
        }
      ]
    },
    {
      "cell_type": "code",
      "metadata": {
        "colab_type": "code",
        "id": "tZWn26P9PBON",
        "outputId": "9ea0f4de-d328-4213-b685-c4bf1261a157",
        "colab": {
          "base_uri": "https://localhost:8080/",
          "height": 50
        }
      },
      "source": [
        "# Esta operación es muy usada en computación, nos devuelve el resto de la división\n",
        "x = 10\n",
        "y = 3\n",
        "print(x%y)\n",
        "print(type(x%y))"
      ],
      "execution_count": 21,
      "outputs": [
        {
          "output_type": "stream",
          "text": [
            "1\n",
            "<class 'int'>\n"
          ],
          "name": "stdout"
        }
      ]
    },
    {
      "cell_type": "markdown",
      "metadata": {
        "colab_type": "text",
        "id": "-5X5DceISQ-O"
      },
      "source": [
        "**Ejercicio**: Calcular el porcentaje que representa el valor 17 sobre un total de 54 y guardarlo en una variable llamada 'porcentaje'."
      ]
    },
    {
      "cell_type": "markdown",
      "metadata": {
        "colab_type": "text",
        "id": "qUnNrBQMTIMb"
      },
      "source": [
        "porcentaje = COMPLETAR\n",
        "print(porcentaje)"
      ]
    },
    {
      "cell_type": "code",
      "metadata": {
        "id": "NeKbPpVi2gbk",
        "colab_type": "code",
        "colab": {
          "base_uri": "https://localhost:8080/",
          "height": 34
        },
        "outputId": "2b64c8a8-210a-473d-cbc3-7c8e0067ad89"
      },
      "source": [
        "porcentaje = (17/54)*100  #COMPLETAR\n",
        "print(porcentaje)"
      ],
      "execution_count": 22,
      "outputs": [
        {
          "output_type": "stream",
          "text": [
            "31.48148148148148\n"
          ],
          "name": "stdout"
        }
      ]
    },
    {
      "cell_type": "markdown",
      "metadata": {
        "colab_type": "text",
        "id": "Eq2Zw2imPBOQ"
      },
      "source": [
        "#### Operaciones con Texto"
      ]
    },
    {
      "cell_type": "code",
      "metadata": {
        "colab_type": "code",
        "id": "MvMmHUutPBOR",
        "colab": {}
      },
      "source": [
        "txt_1 = 'Los textos'\n",
        "txt_2 = ' se concatenan.'\n",
        "print(txt_1 + txt_2)"
      ],
      "execution_count": 0,
      "outputs": []
    },
    {
      "cell_type": "code",
      "metadata": {
        "colab_type": "code",
        "id": "tFVge951PBOW",
        "colab": {}
      },
      "source": [
        "txt_3 = 'Los textos se multiplican. '\n",
        "print(txt_3 * 2)"
      ],
      "execution_count": 0,
      "outputs": []
    },
    {
      "cell_type": "code",
      "metadata": {
        "colab_type": "code",
        "id": "eowEHnQxPBOh",
        "colab": {}
      },
      "source": [
        "b = 'Los textos'\n",
        "c = ' no se restan.'\n",
        "print(b - c)"
      ],
      "execution_count": 0,
      "outputs": []
    },
    {
      "cell_type": "markdown",
      "metadata": {
        "colab_type": "text",
        "id": "IADvs1-uPBOm"
      },
      "source": [
        "**Nota**: No nos cansaremos de decirles que presten atención a los mensajes de error."
      ]
    },
    {
      "cell_type": "code",
      "metadata": {
        "colab_type": "code",
        "id": "14fD4pOGPBOn",
        "colab": {}
      },
      "source": [
        "# Que pasa si queremos sumar un número al texto?\n",
        "b = 'Mi edad es '\n",
        "c = 28\n",
        "print(b + c)"
      ],
      "execution_count": 0,
      "outputs": []
    },
    {
      "cell_type": "markdown",
      "metadata": {
        "colab_type": "text",
        "id": "AdySRkr3PBOp"
      },
      "source": [
        "El error nos dice que a los 'string' solo se le pueden concatenar otros 'strings' (no enteros). La manera correcta sería entonces:"
      ]
    },
    {
      "cell_type": "code",
      "metadata": {
        "colab_type": "code",
        "id": "zWPtmEdFPBOr",
        "colab": {}
      },
      "source": [
        "# Que pasa si queremos sumar un número al texto?\n",
        "b = 'Mi edad es '\n",
        "c = 28\n",
        "print(b + str(c))"
      ],
      "execution_count": 0,
      "outputs": []
    },
    {
      "cell_type": "markdown",
      "metadata": {
        "colab_type": "text",
        "id": "Cpb9WziZTUcO"
      },
      "source": [
        "**Ejercicio**: Armar la frase 'El gran gran gran gran gran castillo mide 50 metros.' a partir de operar con las siguientes variables (viene con trampita):"
      ]
    },
    {
      "cell_type": "code",
      "metadata": {
        "colab_type": "code",
        "id": "4K9QTbTMT8gE",
        "colab": {}
      },
      "source": [
        "txt1 = 'gran '\n",
        "txt2 = 'El '\n",
        "tet3 = 'mide '\n",
        "txt4 = ' metros.'\n",
        "numero = 50\n",
        "\n",
        "frase = COMPLETAR\n",
        "print(frase)"
      ],
      "execution_count": 0,
      "outputs": []
    },
    {
      "cell_type": "markdown",
      "metadata": {
        "colab_type": "text",
        "id": "tY9du3p-PBOt"
      },
      "source": [
        "#### 1.3.3 Operaciones Lógicas"
      ]
    },
    {
      "cell_type": "code",
      "metadata": {
        "colab_type": "code",
        "id": "mHPhaiiJPBOv",
        "colab": {}
      },
      "source": [
        "variable_1 = True\n",
        "variable_2 = False\n",
        "print(variable_1 or variable_2)"
      ],
      "execution_count": 0,
      "outputs": []
    },
    {
      "cell_type": "code",
      "metadata": {
        "colab_type": "code",
        "id": "kv2eNRpePBOy",
        "colab": {}
      },
      "source": [
        "print(not(variable_1))"
      ],
      "execution_count": 0,
      "outputs": []
    },
    {
      "cell_type": "code",
      "metadata": {
        "colab_type": "code",
        "id": "i9QxO0SgPBO3",
        "colab": {}
      },
      "source": [
        "variable_3 = variable_1 and variable_2\n",
        "print(variable_3)"
      ],
      "execution_count": 0,
      "outputs": []
    },
    {
      "cell_type": "markdown",
      "metadata": {
        "colab_type": "text",
        "id": "Rdo5rRsdPBO7"
      },
      "source": [
        "## 2. Listas, Loops y Condicionales\n",
        "\n",
        "### 2.1 Listas\n",
        "\n",
        "Son un objeto central en el lenguaje Python. Están compuestas por una sucesión de objetos en un orden determinado. Se definen mediante corchetes '[ ]', y los objetos dentro de ellas se separan por comas ','."
      ]
    },
    {
      "cell_type": "code",
      "metadata": {
        "colab_type": "code",
        "id": "vA9XBz5mPBO8",
        "colab": {}
      },
      "source": [
        "lista_1 = [42, 4.7, True, 'Texto']\n",
        "print(lista_1)"
      ],
      "execution_count": 0,
      "outputs": []
    },
    {
      "cell_type": "code",
      "metadata": {
        "colab_type": "code",
        "id": "D4nWSXKSPBO_",
        "colab": {}
      },
      "source": [
        "# Podemos inspeccionar el largo de una lista, o sea, su cantidad de elementos\n",
        "len(lista_1)"
      ],
      "execution_count": 0,
      "outputs": []
    },
    {
      "cell_type": "markdown",
      "metadata": {
        "colab_type": "text",
        "id": "b0wCmLL2PBPC"
      },
      "source": [
        "Podemos inspeccionar elementos de una lista accediendo a una determinada posición de la misma. Los índices de las posiciones empiezan en 0, y se especifican poniendo corchetes con el índice dentro luego del nombre de la lista:"
      ]
    },
    {
      "cell_type": "code",
      "metadata": {
        "colab_type": "code",
        "id": "Jepw64oFPBPC",
        "colab": {}
      },
      "source": [
        "print(lista_1[0])\n",
        "print(type(lista_1[0]))"
      ],
      "execution_count": 0,
      "outputs": []
    },
    {
      "cell_type": "code",
      "metadata": {
        "colab_type": "code",
        "id": "84_TXl15PBPE",
        "colab": {}
      },
      "source": [
        "print(lista_1[3])\n",
        "print(type(lista_1[3]))"
      ],
      "execution_count": 0,
      "outputs": []
    },
    {
      "cell_type": "code",
      "metadata": {
        "colab_type": "code",
        "id": "E95aE3TaPBPH",
        "colab": {}
      },
      "source": [
        "print(lista_1[2])\n",
        "print(type(lista_1[2]))"
      ],
      "execution_count": 0,
      "outputs": []
    },
    {
      "cell_type": "code",
      "metadata": {
        "colab_type": "code",
        "id": "mVfn1mYHPBPK",
        "colab": {}
      },
      "source": [
        "# Tambien podemos selecciona una porción de lista\n",
        "#(ya veremos esto en detalle mas adelante)\n",
        "print(lista_1[0:3])"
      ],
      "execution_count": 0,
      "outputs": []
    },
    {
      "cell_type": "code",
      "metadata": {
        "colab_type": "code",
        "id": "-nQ_FGfNPBPM",
        "colab": {}
      },
      "source": [
        "# Definimos una segunda lista\n",
        "lista_2 = [0, lista_1, 'Mas texto']\n",
        "print(lista_2)\n",
        "print(len(lista_2))"
      ],
      "execution_count": 0,
      "outputs": []
    },
    {
      "cell_type": "markdown",
      "metadata": {
        "colab_type": "text",
        "id": "5YSBWt8tPBPP"
      },
      "source": [
        "Notemos que en esta segunda lista, agregamos dentro la primera. Toda la primer lista cuenta como un único elemento."
      ]
    },
    {
      "cell_type": "code",
      "metadata": {
        "colab_type": "code",
        "id": "3WYr5rJQPBPQ",
        "colab": {}
      },
      "source": [
        "# Un elemento de la lista_2 es la lista_1\n",
        "print(lista_2[1])"
      ],
      "execution_count": 0,
      "outputs": []
    },
    {
      "cell_type": "markdown",
      "metadata": {
        "colab_type": "text",
        "id": "ZbA1JYFxPBPR"
      },
      "source": [
        "Podemos crear listas vacias, e ir agregándole elementos con el método 'append()'"
      ]
    },
    {
      "cell_type": "code",
      "metadata": {
        "colab_type": "code",
        "id": "7VWvo-GwPBPT",
        "colab": {}
      },
      "source": [
        "lista_vacia = []\n",
        "len(lista_vacia)"
      ],
      "execution_count": 0,
      "outputs": []
    },
    {
      "cell_type": "code",
      "metadata": {
        "colab_type": "code",
        "id": "pmlQp8PEPBPV",
        "colab": {}
      },
      "source": [
        "lista_vacia.append(42)\n",
        "lista_vacia.append('un segundo item')\n",
        "print(lista_vacia)\n",
        "print(len(lista_vacia))"
      ],
      "execution_count": 0,
      "outputs": []
    },
    {
      "cell_type": "markdown",
      "metadata": {
        "colab_type": "text",
        "id": "sU-6LA63PBPX"
      },
      "source": [
        "Prueben qué pasa si corren nuevamente la celda anterior (justo arriba de esta)."
      ]
    },
    {
      "cell_type": "markdown",
      "metadata": {
        "colab_type": "text",
        "id": "EPJNCI0tUvsl"
      },
      "source": [
        "**Ejercicio**: Defina una lista vacia llamada 'lista_nueva' y agréguele (`append()`) los elementos a, b y c."
      ]
    },
    {
      "cell_type": "code",
      "metadata": {
        "colab_type": "code",
        "id": "jXs-Rkh6VF8K",
        "colab": {}
      },
      "source": [
        "a = 8\n",
        "b = 'world'\n",
        "c = [12,24.5,66]\n",
        "\n",
        "lista_nueva = COMPLETAR\n",
        "COMPLETAR\n",
        "print(lista_nueva)"
      ],
      "execution_count": 0,
      "outputs": []
    },
    {
      "cell_type": "markdown",
      "metadata": {
        "id": "8DvEiRlO5lIf",
        "colab_type": "text"
      },
      "source": [
        "**Detalle muy importante:** copiado de listas (que vale para listas, arreglos de Numpy y dataframes de Pandas)"
      ]
    },
    {
      "cell_type": "code",
      "metadata": {
        "id": "-0qixxs55lIg",
        "colab_type": "code",
        "colab": {}
      },
      "source": [
        "lista_1 = [1,2,3,4]\n",
        "lista_2 = lista_1  #lista_2 ahora es igual a lista_1\n",
        "lista_2[-1] = 100 #el ultimo elemento de la lista ahora es 100, con -1 seleccionamos el ultimo elemento de la lista\n",
        "print(lista_1, lista_2)"
      ],
      "execution_count": 0,
      "outputs": []
    },
    {
      "cell_type": "markdown",
      "metadata": {
        "id": "D7rR_T735lIj",
        "colab_type": "text"
      },
      "source": [
        "¡Se modificaron ambas listas!"
      ]
    },
    {
      "cell_type": "code",
      "metadata": {
        "id": "GiFtHWrk5lIj",
        "colab_type": "code",
        "colab": {}
      },
      "source": [
        "lista_1 = [1,2,3,4]\n",
        "lista_2 = lista_1.copy()\n",
        "lista_2[-1] = 100\n",
        "print(lista_1, lista_2)"
      ],
      "execution_count": 0,
      "outputs": []
    },
    {
      "cell_type": "markdown",
      "metadata": {
        "id": "9FbAjB3V5lIp",
        "colab_type": "text"
      },
      "source": [
        "Ahora no!"
      ]
    },
    {
      "cell_type": "markdown",
      "metadata": {
        "colab_type": "text",
        "id": "oGW0jo5hPBPZ"
      },
      "source": [
        "### 2.2 Loops\n",
        "Los **Loops** son estructuras de codigo fundamentales en cualquier lenguaje de programación. Son bloques de código que se repiten dada una cierta cantidad de veces dada una condición.\n",
        "\n",
        "#### 2.2.1 For\n",
        "El For es un loop en el que un bloque de código se repite tantas veces como elementos haya en una determinada lista. En cada iteración (repetición) hay una variable que va tomando el valor de uno de los elementos en esta lista."
      ]
    },
    {
      "cell_type": "code",
      "metadata": {
        "colab_type": "code",
        "id": "hZw979QmPBPa",
        "colab": {}
      },
      "source": [
        "lista_numeros = [3,55,1,876,12]\n",
        "\n",
        "# Definimos el codigo dentro del for mediante la indentación\n",
        "# (Todo lo que este corrido un 'tab' a la derecha)\n",
        "for elemento in lista_numeros:\n",
        "    print(elemento)"
      ],
      "execution_count": 0,
      "outputs": []
    },
    {
      "cell_type": "code",
      "metadata": {
        "colab_type": "code",
        "id": "kpqiAZb-PBPd",
        "colab": {}
      },
      "source": [
        "# Repitamos los mismo que la celda anteriro\n",
        "# pero ahora agregemos una variable i \n",
        "# que cuente la cantidad de veces que ese corre el codigo \n",
        "\n",
        "lista_numeros = [3,55,1,876,12]\n",
        "\n",
        "# La iniciamos en cero\n",
        "i = 0\n",
        "\n",
        "for elemento in lista_numeros:\n",
        "    \n",
        "    # Le sumamos 1 cada vez que entra\n",
        "    i = i+1\n",
        "    print(elemento)"
      ],
      "execution_count": 0,
      "outputs": []
    },
    {
      "cell_type": "code",
      "metadata": {
        "colab_type": "code",
        "id": "hsb4LLSdPBPh",
        "colab": {}
      },
      "source": [
        "print(i)"
      ],
      "execution_count": 0,
      "outputs": []
    },
    {
      "cell_type": "markdown",
      "metadata": {
        "colab_type": "text",
        "id": "Qbz2a3orPBPl"
      },
      "source": [
        "También podemos recorrer listas de texto. Presten atencion al siguiente codigo, e intenten precedir el resultado antes de correr la celda."
      ]
    },
    {
      "cell_type": "code",
      "metadata": {
        "colab_type": "code",
        "id": "z1jQ13uzPBPm",
        "colab": {}
      },
      "source": [
        "lista_nombres = ['Ernesto', 'Camilo', 'Violeta']\n",
        "nueva_lista = []\n",
        "\n",
        "for item in lista_nombres:\n",
        "    oracion = 'Mi nombre es ' + item\n",
        "    nueva_lista.append(oracion)\n",
        "\n",
        "# Este print esta fuera del for, no está indentado\n",
        "print(nueva_lista)"
      ],
      "execution_count": 0,
      "outputs": []
    },
    {
      "cell_type": "markdown",
      "metadata": {
        "colab_type": "text",
        "id": "565EnFNTVU3V"
      },
      "source": [
        "**Ejercicio**: Genere una lista llamada 'numerotes' que contenga el cuadrado de cada elemento en la lista 'numeritos'."
      ]
    },
    {
      "cell_type": "code",
      "metadata": {
        "colab_type": "code",
        "id": "YB0EcpVqV3hY",
        "colab": {}
      },
      "source": [
        "numeritos = [3,1,5,7,12,10,17,4,22]\n",
        "\n",
        "numerotes = COMPLETAR\n",
        "\n",
        "for COMPLETAR in COMPLETAR:\n",
        "    COMPLETAR    \n",
        "print(numerotes)"
      ],
      "execution_count": 0,
      "outputs": []
    },
    {
      "cell_type": "markdown",
      "metadata": {
        "colab_type": "text",
        "id": "S8lTPAaiPBPo"
      },
      "source": [
        "\n",
        "#### 2.2.2 While\n",
        "El while repite un bloque de código mientras se cumpla una cierta condición que le ponemos. Para mayor claridad, pondremos la condición dentro de parentesis '()'."
      ]
    },
    {
      "cell_type": "code",
      "metadata": {
        "colab_type": "code",
        "id": "EFy5Woa-PBPp",
        "colab": {}
      },
      "source": [
        "numero = 1\n",
        "\n",
        "while (numero < 5):\n",
        "    print(numero)\n",
        "    numero = numero + 1"
      ],
      "execution_count": 0,
      "outputs": []
    },
    {
      "cell_type": "code",
      "metadata": {
        "colab_type": "code",
        "id": "ub1o-7-aPBPr",
        "colab": {}
      },
      "source": [
        "# La condición debe ser una operación lógica y dar como resultado un booleano\n",
        "print(2 < 5)\n",
        "type(2 < 5)"
      ],
      "execution_count": 0,
      "outputs": []
    },
    {
      "cell_type": "code",
      "metadata": {
        "colab_type": "code",
        "id": "CnqMdJlEPBPv",
        "colab": {}
      },
      "source": [
        "print(5 < 5)\n",
        "type(5 < 5)"
      ],
      "execution_count": 0,
      "outputs": []
    },
    {
      "cell_type": "markdown",
      "metadata": {
        "colab_type": "text",
        "id": "lbjDKBFTPBPy"
      },
      "source": [
        "**Ejercicio**: Decida si quiere ejecutar el siguiente bloque de código."
      ]
    },
    {
      "cell_type": "code",
      "metadata": {
        "colab_type": "code",
        "id": "11Yjx3U2PBPy",
        "colab": {}
      },
      "source": [
        "numero = 1\n",
        "\n",
        "while (numero > 0):\n",
        "    numero = numero + 1"
      ],
      "execution_count": 0,
      "outputs": []
    },
    {
      "cell_type": "markdown",
      "metadata": {
        "colab_type": "text",
        "id": "BdO41jDPPBP0"
      },
      "source": [
        "Si decidió ejecutarlo (o corrió la celda antes de leer la consigna), ¡felicitaciones, usted ha colgado por primera vez un programa! Pero como ya dijimos, hay que probar y equivocarse, nada es irreversible. Vaya a la solapa 'Kernel' del menú y seleccione 'Interrupt'. Lo que sucuede es que la condición del `while` será siempre cierta, por ende nuestro programa se quedará repitiendo el bloque de codigo dentro del loop indefinidamente. Puede averiguar cuantas iteraciones realizo la maquina inspeccionando la variable 'numero':"
      ]
    },
    {
      "cell_type": "code",
      "metadata": {
        "colab_type": "code",
        "id": "UGOMivAkPBP0",
        "colab": {}
      },
      "source": [
        "print(numero)"
      ],
      "execution_count": 0,
      "outputs": []
    },
    {
      "cell_type": "markdown",
      "metadata": {
        "id": "giO3_jz85lJD",
        "colab_type": "text"
      },
      "source": [
        "¡Notar qué rápido la computadora hace algunas operaciones!"
      ]
    },
    {
      "cell_type": "markdown",
      "metadata": {
        "colab_type": "text",
        "id": "oa016g7sPBP2"
      },
      "source": [
        "### 2.3 Condicionales\n",
        "Los condicionales son un bloque de codigo que se ejecuta solo en el caso que se cumpla una dada condición.\n",
        "\n",
        "### 2.3.1 If\n",
        "El condicional más simple es el `if`. Nuevamente para mayor claridad escribiremos la condicion entre parentesis (), aunque esto no es necesario."
      ]
    },
    {
      "cell_type": "code",
      "metadata": {
        "colab_type": "code",
        "id": "TYisVuiEPBP4",
        "colab": {}
      },
      "source": [
        "valor = 15\n",
        "\n",
        "if (valor > 10):\n",
        "    print('El valor el mayo que 10')"
      ],
      "execution_count": 0,
      "outputs": []
    },
    {
      "cell_type": "markdown",
      "metadata": {
        "colab_type": "text",
        "id": "-hz-IXpJPBP6"
      },
      "source": [
        "La condición que escribimos debe ser una operación lógica que da como resultado un booleano."
      ]
    },
    {
      "cell_type": "code",
      "metadata": {
        "colab_type": "code",
        "id": "BCXXXwRMPBP7",
        "colab": {}
      },
      "source": [
        "print(15 > 10)"
      ],
      "execution_count": 0,
      "outputs": []
    },
    {
      "cell_type": "code",
      "metadata": {
        "colab_type": "code",
        "id": "PshNhscXPBP9",
        "colab": {}
      },
      "source": [
        "print(type(15 > 10))"
      ],
      "execution_count": 0,
      "outputs": []
    },
    {
      "cell_type": "markdown",
      "metadata": {
        "colab_type": "text",
        "id": "zaIO1UwlPBP_"
      },
      "source": [
        "### 2.3.2 If, Else\n",
        "A este condicional se le peude agregar otro bloque de codigo que se ejecute si la condición exigida NO se cuemple. Esto se logra mediante la expresión 'else'."
      ]
    },
    {
      "cell_type": "code",
      "metadata": {
        "colab_type": "code",
        "id": "Hf8xuG6iPBP_",
        "colab": {}
      },
      "source": [
        "nombre = 'Pedro'\n",
        "\n",
        "if (nombre == 'Juan'):\n",
        "    print('Esta persona se llama Juan')\n",
        "else:\n",
        "    print('Esta persona NO se llama Juan')"
      ],
      "execution_count": 0,
      "outputs": []
    },
    {
      "cell_type": "code",
      "metadata": {
        "colab_type": "code",
        "id": "GVfCLIQyPBQB",
        "colab": {}
      },
      "source": [
        "'Juan'=='Pedro'"
      ],
      "execution_count": 0,
      "outputs": []
    },
    {
      "cell_type": "markdown",
      "metadata": {
        "colab_type": "text",
        "id": "1AJNWoqhPBQJ"
      },
      "source": [
        "### 2.3.3 If, Elif, Else\n",
        "A esta estructura se le pueden sumar tantas condiciones encadenadas como uno desee, mediante la expresión `elif`. El orden en que se van chequeando las condiciones depende de su posición, priemero se chequea el `if`, luego el primer `elif`, luego el segundo, y así sucesivamente."
      ]
    },
    {
      "cell_type": "code",
      "metadata": {
        "colab_type": "code",
        "id": "psA9onaFPBQL",
        "colab": {}
      },
      "source": [
        "edad = 20\n",
        "\n",
        "if (edad < 18):\n",
        "    print('Esta persona tiene menos de 18 años')\n",
        "elif (edad > 18):\n",
        "    print('Esta persona tiene mas de 18 años')\n",
        "else:\n",
        "    print('Esta persona tiene justo 18 años')"
      ],
      "execution_count": 0,
      "outputs": []
    },
    {
      "cell_type": "markdown",
      "metadata": {
        "colab_type": "text",
        "id": "ZHXdIEkSW6wa"
      },
      "source": [
        "**Ejercicio**: Escriba un bloque de código que, dado un número, imprima la frase 'El numero es par' si el número es par o la frase 'El numero es impar' si no lo es."
      ]
    },
    {
      "cell_type": "code",
      "metadata": {
        "colab_type": "code",
        "id": "7uWbEw9BYAL4",
        "colab": {}
      },
      "source": [
        "numero = 17\n",
        "\n",
        "if COMPLETAR:\n",
        "    print(COMPLETAR)\n",
        "else COMPLETAR:\n",
        "    print(COMPLETAR)"
      ],
      "execution_count": 0,
      "outputs": []
    },
    {
      "cell_type": "markdown",
      "metadata": {
        "colab_type": "text",
        "id": "qecxWClXPBQM"
      },
      "source": [
        "### 2.4 Combinando estructuras de código\n",
        "Las estructuras de loops y condicionales que aprendimos se pueden combinar para generar comportamientos más complejos."
      ]
    },
    {
      "cell_type": "code",
      "metadata": {
        "colab_type": "code",
        "id": "69DHgsOjPBQN",
        "colab": {}
      },
      "source": [
        "lista_de_edades = [4,20,15,29,11,42,10,18]\n",
        "lista_mayores = []\n",
        "\n",
        "# Queremos armar una lista solo con las edades mayores o iguales a 18\n",
        "for edad in lista_de_edades:\n",
        "    if (edad >= 18):\n",
        "        # Agremos a la lista de mayores\n",
        "        lista_mayores.append(edad)\n",
        "\n",
        "print(lista_mayores)"
      ],
      "execution_count": 0,
      "outputs": []
    },
    {
      "cell_type": "markdown",
      "metadata": {
        "colab_type": "text",
        "id": "ztSrrW-jPBQQ"
      },
      "source": [
        "## Ejercicios integradores y de repaso\n",
        "\n",
        "A continuación dejamos muchos ejercicios. ¡No se preocupen si no pueden hacer todos!\n",
        "\n",
        "**Ejercicio**: ¿Qué es un *float*?¿Qué operaciones se pueden hacer con ellos?"
      ]
    },
    {
      "cell_type": "markdown",
      "metadata": {
        "id": "fvtxNKF95lJh",
        "colab_type": "text"
      },
      "source": [
        "**Ejercicio**: ¿Qué es un *string*?¿Qué operaciones se pueden hacer con ellos? Escribir algunos ejemplos."
      ]
    },
    {
      "cell_type": "code",
      "metadata": {
        "id": "7c9CE2yU5lJi",
        "colab_type": "code",
        "colab": {}
      },
      "source": [
        "COMPLETAR"
      ],
      "execution_count": 0,
      "outputs": []
    },
    {
      "cell_type": "markdown",
      "metadata": {
        "id": "UgTabVM_5lJl",
        "colab_type": "text"
      },
      "source": [
        "**Ejercicio**: \n",
        "* ¿cuáles son las operaciones con booleanos básicas? Pistas: `and`, `or`.\n",
        "* ¿Qué pasa si sumás, restás, multiplicás o dividís booleanos?"
      ]
    },
    {
      "cell_type": "markdown",
      "metadata": {
        "id": "jSAwKHo25lJm",
        "colab_type": "text"
      },
      "source": [
        "Operaciones Booleanas Básicas"
      ]
    },
    {
      "cell_type": "code",
      "metadata": {
        "id": "WpopPIzU5lJn",
        "colab_type": "code",
        "colab": {}
      },
      "source": [
        "COMPLETAR"
      ],
      "execution_count": 0,
      "outputs": []
    },
    {
      "cell_type": "markdown",
      "metadata": {
        "id": "1F080JUz5lJp",
        "colab_type": "text"
      },
      "source": [
        "**Ejercicio**: Hacer una declaración if/else que compare dos variables y que decida cuál es mayor."
      ]
    },
    {
      "cell_type": "code",
      "metadata": {
        "id": "a3Eb8OiE5lJp",
        "colab_type": "code",
        "colab": {}
      },
      "source": [
        "A = 3\n",
        "B = 4\n",
        "if COMPLETAR:\n",
        "    print('A es mayor a B' )\n",
        "else:\n",
        "    print('B es mayor a A')"
      ],
      "execution_count": 0,
      "outputs": []
    },
    {
      "cell_type": "markdown",
      "metadata": {
        "id": "lgpab3Fd5lJr",
        "colab_type": "text"
      },
      "source": [
        "**Ejercicio**: Dada la siguiente lista de numeros:"
      ]
    },
    {
      "cell_type": "code",
      "metadata": {
        "colab_type": "code",
        "id": "nixTh2uwPBQQ",
        "colab": {}
      },
      "source": [
        "numeros_en_texto = ['2', '3', '2', '3', '2', '2', '2', '2', '3', '2', '3', '1', '3', '1', '2', '2', '2', '2', '2', '2', '2', '2', '1', '2', '3', '2', '2', '2', '2', '1', '2', '3', '2', '2', '3', '2', '3', '3', '2', '2', '1', '3', '3', '2', '3', '2', '2', '1', '2', '1', '1', '2', '2', '3', '2', '2', '2', '3', '2', '2', '2', '1', '2', '2', '3', '2', '2', '2', '2', '1', '2', '2', '2', '2', '3', '1', '2', '3', '3', '2', '3', '2', '2', '3', '3', '1', '1', '3', '2', '1', '2', '2', '2', '1', '1', '2', '2', '2', '2', '2', '2', '2', '3', '3', '1', '3', '3', '3', '2', '2', '2', '2', '2', '2', '2', '3', '3', '2', '2', '3', '2', '2', '2', '2', '2', '3', '3', '2', '2', '1', '3', '2', '2', '2', '3', '2', '3', '1', '3', '3', '2', '3', '3', '2', '2', '2', '2', '2', '2', '1', '2', '2', '1', '2', '3', '2', '1', '3', '1', '2', '3', '3', '3', '2', '3', '1', '3', '2', '3', '1', '2', '2', '2', '3', '3', '2', '2', '2', '2', '2', '3', '1', '2', '3', '3', '2', '2', '3', '2', '2', '2', '3', '2', '2', '2', '2', '1', '2', '3', '1', '3', '2', '2', '3', '3', '3', '2', '2', '1', '1']\n",
        "print(numeros_en_texto)"
      ],
      "execution_count": 0,
      "outputs": []
    },
    {
      "cell_type": "markdown",
      "metadata": {
        "colab_type": "text",
        "id": "XLWP4dKfPBQS"
      },
      "source": [
        "Calcule la suma de los unos (1) y los tres (3) en esta lista. Hay muchas formas de hacerlo, si encuentra más de una, mejor. El resultado es 210."
      ]
    },
    {
      "cell_type": "code",
      "metadata": {
        "id": "SEK09-f_5lJu",
        "colab_type": "code",
        "colab": {}
      },
      "source": [
        "suma = 0\n",
        "for COMPLETAR:\n",
        "    if COMPLETAR:\n",
        "        COMPLETAR\n",
        "    elif COMPLETAR:\n",
        "        COMPLETAR\n",
        "print(suma)"
      ],
      "execution_count": 0,
      "outputs": []
    },
    {
      "cell_type": "markdown",
      "metadata": {
        "id": "40Al3N1k5lJy",
        "colab_type": "text"
      },
      "source": [
        "**Ejercicio**: \n",
        "* Hacer un for loop que le sume uno a todos los elementos de la lista `A = [0,1,2,3,4]` y lo imprima.\n",
        "* Hacer un for loop que le sume uno a todos los elementos de la lista `A = [0,1,2,3,4]` y lo guarde en una lista nueva B. Googlear: append.\n",
        "* ¿Qué hace el comando *range*?"
      ]
    },
    {
      "cell_type": "code",
      "metadata": {
        "id": "cov1Gf_q5lJz",
        "colab_type": "code",
        "colab": {}
      },
      "source": [
        "# Hacer un for loop que le sume uno a todos los elementos de la lista A = [0,1,2,3,4] y lo imprima.\n",
        "COMPLETAR"
      ],
      "execution_count": 0,
      "outputs": []
    },
    {
      "cell_type": "code",
      "metadata": {
        "id": "ViRHiycu5lJ2",
        "colab_type": "code",
        "colab": {}
      },
      "source": [
        "# Hacer un for loop que le sume uno a todos los elementos de la lista A = [0,1,2,3,4] y lo guarde en una lista nueva B. Googlear: append.\n",
        "COMPLETAR"
      ],
      "execution_count": 0,
      "outputs": []
    },
    {
      "cell_type": "code",
      "metadata": {
        "id": "6RGYWOO05lJ3",
        "colab_type": "code",
        "colab": {}
      },
      "source": [
        "# ¿Qué hace el comando *range*?\n",
        "COMPLETAR"
      ],
      "execution_count": 0,
      "outputs": []
    },
    {
      "cell_type": "markdown",
      "metadata": {
        "id": "XyXtTaw95lJ4",
        "colab_type": "text"
      },
      "source": [
        "**Ejercicio**: Escribir una rutina que imprima aquellos elementos de la lista *a* que son menores que 10.\n",
        "Pistas: *for*, *if*"
      ]
    },
    {
      "cell_type": "code",
      "metadata": {
        "id": "Psg57x4D5lJ5",
        "colab_type": "code",
        "colab": {}
      },
      "source": [
        "a = [1, 1, 2, 3, 5, 8, 8, 13, 21, 34, 34, 55, 89]\n",
        "COMPLETAR"
      ],
      "execution_count": 0,
      "outputs": []
    },
    {
      "cell_type": "markdown",
      "metadata": {
        "id": "L0THu60S5lJ6",
        "colab_type": "text"
      },
      "source": [
        "**Extras**: en lugar de imprimir los elementos de a uno, armar una nueva lista con aquellos elementos que sean menores a 10. ¿Cómo filtran elementos repetidos?"
      ]
    },
    {
      "cell_type": "code",
      "metadata": {
        "id": "Xe5zAd8k5lJ6",
        "colab_type": "code",
        "colab": {}
      },
      "source": [
        "a = [1, 1, 2, 3, 5, 8, 8, 13, 21, 34, 34, 55, 89]\n",
        "\n",
        "COMPLETAR"
      ],
      "execution_count": 0,
      "outputs": []
    },
    {
      "cell_type": "markdown",
      "metadata": {
        "id": "fmK94W9t5lJ8",
        "colab_type": "text"
      },
      "source": [
        "**Ejercicio**: dadas dos listas *a* y *b*, armar una lista con:\n",
        "* Con todos los elementos de *a* y *b*\n",
        "* Con todos los elementos de *a* y *b*, ordenados de menor a mayor\n",
        "* Con todos los elementos de *a* y *b*, ordenados de mayor a menor\n",
        "* Con todos los elementos de *a* y *b*, ordenados de menor a mayor y sin elementos repetidos\n",
        "* Con todos los elementos que están en ambas listas\n",
        "* Con todos los elementos que NO están en ambas listas"
      ]
    },
    {
      "cell_type": "code",
      "metadata": {
        "id": "6yDrtoyL5lJ8",
        "colab_type": "code",
        "colab": {}
      },
      "source": [
        "a = [12,3,5,12,8,9,25,12,1,3,4,5,17,15]\n",
        "b = [3,5,7,8,45,8,9,16,1,11,30,41,2,3,15,1,29,22]"
      ],
      "execution_count": 0,
      "outputs": []
    },
    {
      "cell_type": "markdown",
      "metadata": {
        "id": "9wA0R4Dm5lJ-",
        "colab_type": "text"
      },
      "source": [
        "**Ejercicio**: Para googlear:\n",
        "* ¿Qué es un diccionario? Escribir un ejemplo en una celda."
      ]
    },
    {
      "cell_type": "code",
      "metadata": {
        "id": "CBn_YRWu5lJ-",
        "colab_type": "code",
        "colab": {}
      },
      "source": [
        "## Ejemplo diccionario"
      ],
      "execution_count": 0,
      "outputs": []
    }
  ]
}