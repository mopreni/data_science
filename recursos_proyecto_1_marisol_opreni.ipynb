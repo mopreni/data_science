{
  "nbformat": 4,
  "nbformat_minor": 0,
  "metadata": {
    "kernelspec": {
      "display_name": "Python 3",
      "language": "python",
      "name": "python3"
    },
    "language_info": {
      "codemirror_mode": {
        "name": "ipython",
        "version": 3
      },
      "file_extension": ".py",
      "mimetype": "text/x-python",
      "name": "python",
      "nbconvert_exporter": "python",
      "pygments_lexer": "ipython3",
      "version": "3.6.5"
    },
    "colab": {
      "name": "recursos_proyecto_1_marisol_opreni.ipynb",
      "provenance": [],
      "collapsed_sections": [
        "0wC-UjaxMt4A",
        "qwUGlCsuMt4E",
        "eTWR71jvMt4V"
      ],
      "include_colab_link": true
    }
  },
  "cells": [
    {
      "cell_type": "markdown",
      "metadata": {
        "id": "view-in-github",
        "colab_type": "text"
      },
      "source": [
        "<a href=\"https://colab.research.google.com/github/mopreni/data_science/blob/master/recursos_proyecto_1_marisol_opreni.ipynb\" target=\"_parent\"><img src=\"https://colab.research.google.com/assets/colab-badge.svg\" alt=\"Open In Colab\"/></a>"
      ]
    },
    {
      "cell_type": "markdown",
      "metadata": {
        "id": "XIELhioIMt2Y",
        "colab_type": "text"
      },
      "source": [
        "# Proyecto: Análisis mercado inmobiliario de la Ciudad de Buenos Aires"
      ]
    },
    {
      "cell_type": "markdown",
      "metadata": {
        "id": "hQWBS7UvMt2b",
        "colab_type": "text"
      },
      "source": [
        "¡Bienvenidos al primer proyecto de la carrera de Data Science de Acamica! \n",
        "\n",
        "En este proyecto vamos a trabajar con un dataset de propiedades en venta publicadas en el portal [Properati](www.properati.com.ar). El objetivo es dar los primeros pasos en el proceso de exploración de datos usando las herramientas que trabajamos en las activades.\n",
        "\n",
        "Vamos a enfocarnos en analizar algunos aspectos del mercado inmobiliario de la Ciudad de Buenos Aires pero para eso primero debemos limpiar un poco el dataset."
      ]
    },
    {
      "cell_type": "markdown",
      "metadata": {
        "id": "Z3TqzRkuMt2c",
        "colab_type": "text"
      },
      "source": [
        "## El dataset: propiedades en venta en Ciudad de Buenos Aires."
      ]
    },
    {
      "cell_type": "markdown",
      "metadata": {
        "id": "TX4Xm65WMt2d",
        "colab_type": "text"
      },
      "source": [
        "En este proyecto, trabajaremos con una muestra del conjunto de datos de propiedades en venta mencionado. En este dataset, cada fila es una propiedad en venta. \n",
        "\n",
        "## Los atributos\n",
        "A continuación vamos a describir los atributos que consideramos en esta muestra:\n",
        "\n",
        "* **id**: id de la propiedad\n",
        "* **created_on**: fecha en la que la propiedad ingresó al sitio\n",
        "* **operation**: alquiler (rent) o venta (sell)\n",
        "* **property_type**: tipo de propiedad (casa, departamento, ph, etcétera)\n",
        "* **place_with_parent_names**: nombre del lugar donde se encuentra la propiedad según el publicador\n",
        "* **lat-lon**: coordenadas concatenadas\n",
        "* **lat**: latitud\n",
        "* **lon**: longitud\n",
        "* **price**: precio en la moneda especificada en currency\n",
        "* **currency**: divisa en la que está expresada la publicación\n",
        "* **price_aprox_usd**: precio aproximado en dólares estadounidenses\n",
        "* **surface_total_in_m2**: superficie total (en metros cuadrados)\n",
        "* **surface_covered_in_m2**: superficie cubierta (en metros cuadrados)\n",
        "* **price_usd_per_m2**: precio por metro cuadrado en dólares (precio dólares / superficie)\n",
        "* **floor**: número de piso (si corresponde)\n",
        "* **rooms**: cantidad de ambientes\n",
        "* **expenses**: expensas (si corresponde)\n",
        "* **barrio**: barrio según cartografía oficial\n",
        "* **properati_url**: url de la publicación en Properati\n"
      ]
    },
    {
      "cell_type": "markdown",
      "metadata": {
        "id": "a7U_JiTNMt2e",
        "colab_type": "text"
      },
      "source": [
        "## Importando las bibliotecas necesarias\n",
        "\n",
        "Para poder trabajar en la limpieza de datos y la visualización de nuestro dataset vamos a utilizar las bibliotecas numpy, pandas, matplotlib.pylab y seaborn. \n",
        "\n",
        "** 1) Importá ** cada una de ellas con los siguientes nombres: \n",
        "- **numpy** como **np**\n",
        "- **pandas** como **pd**\n",
        "- **matplotlib.pylab** como **plt**\n",
        "- **seaborn** como **sns**\n"
      ]
    },
    {
      "cell_type": "code",
      "metadata": {
        "id": "rUuKrxXrMt2f",
        "colab_type": "code",
        "colab": {}
      },
      "source": [
        "# Importar bibliotecas en esta celda\n",
        "import numpy as np\n",
        "import pandas as pd\n",
        "import matplotlib.pylab as plt\n",
        "import seaborn as sns"
      ],
      "execution_count": 0,
      "outputs": []
    },
    {
      "cell_type": "code",
      "metadata": {
        "id": "D2DX-B3KMt2j",
        "colab_type": "code",
        "colab": {}
      },
      "source": [
        "# La siguiente línea es para ver las imagenes dentro del notebook\n",
        "%matplotlib inline\n",
        "# Acá configuramos el tamaño de las figuras\n",
        "plt.rcParams['figure.figsize'] = (12,8)\n",
        "# Seteamos opciones de pandas sobre las columnas y su ancho\n",
        "pd.set_option('max_columns', 120)\n",
        "pd.set_option('max_colwidth', 5000)\n"
      ],
      "execution_count": 0,
      "outputs": []
    },
    {
      "cell_type": "markdown",
      "metadata": {
        "id": "KuL6l2odMt2n",
        "colab_type": "text"
      },
      "source": [
        "## Cargando dataset de propiedades\n",
        "\n",
        "**2) Cargá** el dataset que se encuentra en la carpeta *dataset/* y guardalo en una variable llamada **df**. \n",
        "No te olvides de utilizar **parse_dates** sobre la columna **created_on**\n"
      ]
    },
    {
      "cell_type": "code",
      "metadata": {
        "id": "RbJEaOwlMt2o",
        "colab_type": "code",
        "outputId": "9962d34c-a4c5-49cd-88eb-ea79f93d5045",
        "colab": {
          "base_uri": "https://localhost:8080/",
          "height": 217
        }
      },
      "source": [
        "# cargá el dataset en esta celda\n",
        "df = pd.read_csv(\"sample_data/datos_properati.csv\", parse_dates = True)\n",
        "pd.to_datetime(df['created_on'])\n"
      ],
      "execution_count": 11,
      "outputs": [
        {
          "output_type": "execute_result",
          "data": {
            "text/plain": [
              "0       2017-09-22\n",
              "1       2017-08-01\n",
              "2       2017-08-02\n",
              "3       2017-08-03\n",
              "4       2017-08-08\n",
              "           ...    \n",
              "18974   2018-01-08\n",
              "18975   2018-01-23\n",
              "18976   2018-01-24\n",
              "18977   2018-01-27\n",
              "18978   2018-01-27\n",
              "Name: created_on, Length: 18979, dtype: datetime64[ns]"
            ]
          },
          "metadata": {
            "tags": []
          },
          "execution_count": 11
        }
      ]
    },
    {
      "cell_type": "markdown",
      "metadata": {
        "id": "i7l0Ah8GMt2s",
        "colab_type": "text"
      },
      "source": [
        "## Exploración de datos"
      ]
    },
    {
      "cell_type": "markdown",
      "metadata": {
        "id": "8kHIQTk5Mt2t",
        "colab_type": "text"
      },
      "source": [
        "Lo primero que vamos a hacer es ver qué forma tiene el dataset que acabamos de cargar. Para eso vamos a mostrar las primeras 3 entradas del mismo y utilizar la propiedad `shape` para ver la cantidad de instancias y atributos con los que vamos a estar trabajando."
      ]
    },
    {
      "cell_type": "code",
      "metadata": {
        "id": "eJPIRnDcMt2u",
        "colab_type": "code",
        "outputId": "c630f9e6-e27f-4627-d349-f6bc9e007d3a",
        "colab": {
          "base_uri": "https://localhost:8080/",
          "height": 290
        }
      },
      "source": [
        "print(df.shape)\n",
        "df.head(3)"
      ],
      "execution_count": 13,
      "outputs": [
        {
          "output_type": "stream",
          "text": [
            "(18979, 17)\n"
          ],
          "name": "stdout"
        },
        {
          "output_type": "execute_result",
          "data": {
            "text/html": [
              "<div>\n",
              "<style scoped>\n",
              "    .dataframe tbody tr th:only-of-type {\n",
              "        vertical-align: middle;\n",
              "    }\n",
              "\n",
              "    .dataframe tbody tr th {\n",
              "        vertical-align: top;\n",
              "    }\n",
              "\n",
              "    .dataframe thead th {\n",
              "        text-align: right;\n",
              "    }\n",
              "</style>\n",
              "<table border=\"1\" class=\"dataframe\">\n",
              "  <thead>\n",
              "    <tr style=\"text-align: right;\">\n",
              "      <th></th>\n",
              "      <th>created_on</th>\n",
              "      <th>operation</th>\n",
              "      <th>property_type</th>\n",
              "      <th>place_with_parent_names</th>\n",
              "      <th>lat-lon</th>\n",
              "      <th>lat</th>\n",
              "      <th>lon</th>\n",
              "      <th>price_aprox_usd</th>\n",
              "      <th>surface_total_in_m2</th>\n",
              "      <th>surface_covered_in_m2</th>\n",
              "      <th>price_usd_per_m2</th>\n",
              "      <th>floor</th>\n",
              "      <th>rooms</th>\n",
              "      <th>expenses</th>\n",
              "      <th>properati_url</th>\n",
              "      <th>barrio</th>\n",
              "      <th>comuna</th>\n",
              "    </tr>\n",
              "  </thead>\n",
              "  <tbody>\n",
              "    <tr>\n",
              "      <th>0</th>\n",
              "      <td>2017-09-22</td>\n",
              "      <td>sell</td>\n",
              "      <td>house</td>\n",
              "      <td>|Argentina|Capital Federal|Palermo|Palermo Viejo|</td>\n",
              "      <td>-34.5889531469,-58.4298817776</td>\n",
              "      <td>-34.588953</td>\n",
              "      <td>-58.429882</td>\n",
              "      <td>2000000.0</td>\n",
              "      <td>312.0</td>\n",
              "      <td>NaN</td>\n",
              "      <td>6410.25641</td>\n",
              "      <td>NaN</td>\n",
              "      <td>NaN</td>\n",
              "      <td>NaN</td>\n",
              "      <td>https://www.properati.com.ar/2os_venta_casa_palermo-viejo_rent-ba</td>\n",
              "      <td>PALERMO</td>\n",
              "      <td>14.0</td>\n",
              "    </tr>\n",
              "    <tr>\n",
              "      <th>1</th>\n",
              "      <td>2017-08-01</td>\n",
              "      <td>sell</td>\n",
              "      <td>store</td>\n",
              "      <td>|Argentina|Capital Federal|Palermo|</td>\n",
              "      <td>-34.586069,-58.414431</td>\n",
              "      <td>-34.586069</td>\n",
              "      <td>-58.414431</td>\n",
              "      <td>790000.0</td>\n",
              "      <td>121.0</td>\n",
              "      <td>121.0</td>\n",
              "      <td>6528.92562</td>\n",
              "      <td>NaN</td>\n",
              "      <td>NaN</td>\n",
              "      <td>NaN</td>\n",
              "      <td>https://www.properati.com.ar/1cl7l_venta_local_palermo_santa-fe-av-al-3500_sotano_garage_subte-linea-d_deptos-temporarios</td>\n",
              "      <td>PALERMO</td>\n",
              "      <td>14.0</td>\n",
              "    </tr>\n",
              "    <tr>\n",
              "      <th>2</th>\n",
              "      <td>2017-08-02</td>\n",
              "      <td>sell</td>\n",
              "      <td>store</td>\n",
              "      <td>|Argentina|Capital Federal|Palermo|Palermo Soho|</td>\n",
              "      <td>-34.589723,-58.4325664</td>\n",
              "      <td>-34.589723</td>\n",
              "      <td>-58.432566</td>\n",
              "      <td>343000.0</td>\n",
              "      <td>122.0</td>\n",
              "      <td>108.0</td>\n",
              "      <td>2811.47541</td>\n",
              "      <td>NaN</td>\n",
              "      <td>2.0</td>\n",
              "      <td>NaN</td>\n",
              "      <td>https://www.properati.com.ar/1cm8w_venta_local_palermo-soho_cabrera-jose-a-_5000_jardin_lavadero_patio_piscina_toilette_garage_ojo-propiedades</td>\n",
              "      <td>PALERMO</td>\n",
              "      <td>14.0</td>\n",
              "    </tr>\n",
              "  </tbody>\n",
              "</table>\n",
              "</div>"
            ],
            "text/plain": [
              "   created_on operation property_type  \\\n",
              "0  2017-09-22      sell         house   \n",
              "1  2017-08-01      sell         store   \n",
              "2  2017-08-02      sell         store   \n",
              "\n",
              "                             place_with_parent_names  \\\n",
              "0  |Argentina|Capital Federal|Palermo|Palermo Viejo|   \n",
              "1                |Argentina|Capital Federal|Palermo|   \n",
              "2   |Argentina|Capital Federal|Palermo|Palermo Soho|   \n",
              "\n",
              "                         lat-lon        lat        lon  price_aprox_usd  \\\n",
              "0  -34.5889531469,-58.4298817776 -34.588953 -58.429882        2000000.0   \n",
              "1          -34.586069,-58.414431 -34.586069 -58.414431         790000.0   \n",
              "2         -34.589723,-58.4325664 -34.589723 -58.432566         343000.0   \n",
              "\n",
              "   surface_total_in_m2  surface_covered_in_m2  price_usd_per_m2  floor  rooms  \\\n",
              "0                312.0                    NaN        6410.25641    NaN    NaN   \n",
              "1                121.0                  121.0        6528.92562    NaN    NaN   \n",
              "2                122.0                  108.0        2811.47541    NaN    2.0   \n",
              "\n",
              "   expenses  \\\n",
              "0       NaN   \n",
              "1       NaN   \n",
              "2       NaN   \n",
              "\n",
              "                                                                                                                                    properati_url  \\\n",
              "0                                                                               https://www.properati.com.ar/2os_venta_casa_palermo-viejo_rent-ba   \n",
              "1                       https://www.properati.com.ar/1cl7l_venta_local_palermo_santa-fe-av-al-3500_sotano_garage_subte-linea-d_deptos-temporarios   \n",
              "2  https://www.properati.com.ar/1cm8w_venta_local_palermo-soho_cabrera-jose-a-_5000_jardin_lavadero_patio_piscina_toilette_garage_ojo-propiedades   \n",
              "\n",
              "    barrio  comuna  \n",
              "0  PALERMO    14.0  \n",
              "1  PALERMO    14.0  \n",
              "2  PALERMO    14.0  "
            ]
          },
          "metadata": {
            "tags": []
          },
          "execution_count": 13
        }
      ]
    },
    {
      "cell_type": "markdown",
      "metadata": {
        "id": "OQy-GwBxMt2y",
        "colab_type": "text"
      },
      "source": [
        "## Categorías de propiedades\n",
        "En primer lugar vamos a ver qué categorías existen en el campo `property_type`. Y de esas categorías cuantos valores tenemos de cada uno.\n",
        "\n",
        "**3) Mostrá** las categorías de `property_type` y cuántas instancias hay de cada una.\n",
        "\n",
        "Recordá utilizar funciones del **dataframe** de pandas para realizar esto."
      ]
    },
    {
      "cell_type": "code",
      "metadata": {
        "id": "RmSoTpvuMt2z",
        "colab_type": "code",
        "outputId": "458aa648-9c70-4c53-96d0-33b2c156f399",
        "colab": {
          "base_uri": "https://localhost:8080/",
          "height": 100
        }
      },
      "source": [
        "# mostrá las categorías del campo property_type y mostrá la cant. de valores en esta celda\n",
        "#df.property_type.unique()\n",
        "df.property_type.value_counts()\n"
      ],
      "execution_count": 15,
      "outputs": [
        {
          "output_type": "execute_result",
          "data": {
            "text/plain": [
              "apartment    14807\n",
              "house         1618\n",
              "PH            1463\n",
              "store         1091\n",
              "Name: property_type, dtype: int64"
            ]
          },
          "metadata": {
            "tags": []
          },
          "execution_count": 15
        }
      ]
    },
    {
      "cell_type": "code",
      "metadata": {
        "id": "TeMxhm8HE0gY",
        "colab_type": "code",
        "outputId": "f98c9804-8581-4dac-bc1d-adf1ab359bc2",
        "colab": {
          "base_uri": "https://localhost:8080/",
          "height": 100
        }
      },
      "source": [
        "df.columns"
      ],
      "execution_count": 16,
      "outputs": [
        {
          "output_type": "execute_result",
          "data": {
            "text/plain": [
              "Index(['created_on', 'operation', 'property_type', 'place_with_parent_names',\n",
              "       'lat-lon', 'lat', 'lon', 'price_aprox_usd', 'surface_total_in_m2',\n",
              "       'surface_covered_in_m2', 'price_usd_per_m2', 'floor', 'rooms',\n",
              "       'expenses', 'properati_url', 'barrio', 'comuna'],\n",
              "      dtype='object')"
            ]
          },
          "metadata": {
            "tags": []
          },
          "execution_count": 16
        }
      ]
    },
    {
      "cell_type": "markdown",
      "metadata": {
        "id": "xwV2gdMaMt22",
        "colab_type": "text"
      },
      "source": [
        "### Filtrando las categorías\n",
        "\n",
        "De las categorías existentes sólo queremos quedarnos con las que sean casas (house), departamentos (apartment) o PH (PH). \n",
        "\n",
        "Para esto, \n",
        "\n",
        "**4) filtrá** el `dataframe` original creando un **nuevo** `dataframe` llamado `df_filtered`. Este es el `dataframe` que seguirás usando a lo largo del análisis.\n"
      ]
    },
    {
      "cell_type": "code",
      "metadata": {
        "id": "D47OfFROMt23",
        "colab_type": "code",
        "outputId": "b7533864-7ece-4938-99b1-541bd5d98fd3",
        "colab": {
          "base_uri": "https://localhost:8080/",
          "height": 84
        }
      },
      "source": [
        "# Filtrá el dataframe en esta celda\n",
        "df_filtered = df[df.property_type != \"store\"]\n",
        "df_filtered.property_type.value_counts()\n",
        "\n"
      ],
      "execution_count": 17,
      "outputs": [
        {
          "output_type": "execute_result",
          "data": {
            "text/plain": [
              "apartment    14807\n",
              "house         1618\n",
              "PH            1463\n",
              "Name: property_type, dtype: int64"
            ]
          },
          "metadata": {
            "tags": []
          },
          "execution_count": 17
        }
      ]
    },
    {
      "cell_type": "markdown",
      "metadata": {
        "id": "7DDwFLuFMt25",
        "colab_type": "text"
      },
      "source": [
        "### Visualizando las categorías\n",
        "**5)** Utilizando `seaborn` **creá un countplot** para visualizar las categorías de `df_filtered` en el campo `property_type` "
      ]
    },
    {
      "cell_type": "code",
      "metadata": {
        "id": "fW6s1el6Mt26",
        "colab_type": "code",
        "outputId": "6c8680eb-14cb-4dba-d534-123e8b051a05",
        "colab": {
          "base_uri": "https://localhost:8080/",
          "height": 280
        }
      },
      "source": [
        "# Visualizá las categorías en esta celda\n",
        "%matplotlib inline\n",
        "ax = sns.countplot(x='property_type',  data=df_filtered)\n",
        "plt.show()"
      ],
      "execution_count": 18,
      "outputs": [
        {
          "output_type": "display_data",
          "data": {
            "image/png": "[encoded data removed]",
            "text/plain": [
              "<Figure size 432x288 with 1 Axes>"
            ]
          },
          "metadata": {
            "tags": []
          }
        }
      ]
    },
    {
      "cell_type": "markdown",
      "metadata": {
        "id": "dRdv9VyyMt29",
        "colab_type": "text"
      },
      "source": [
        "## Valores Faltantes"
      ]
    },
    {
      "cell_type": "markdown",
      "metadata": {
        "id": "645-wlZrMt2-",
        "colab_type": "text"
      },
      "source": [
        "Vamos a querer descartar aquellas instancias que tengan valores nulos en columnas importantes para el análisis del mercado.\n",
        "Estas columnas son las que informan **superficie (total o cubierta)**, **cantidad de ambientes**, **precio** y **precio por metro cuadrado**.\n",
        "\n",
        "**6) Quitá** del `dataframe` las instancias que no tengan ningún valor en los campos nombrados."
      ]
    },
    {
      "cell_type": "code",
      "metadata": {
        "id": "_4921aJ_Mt2_",
        "colab_type": "code",
        "outputId": "605df1ec-bad6-4e11-ebe9-dd850def67d0",
        "colab": {
          "base_uri": "https://localhost:8080/",
          "height": 625
        }
      },
      "source": [
        "# Quitá las instancias con valores nulos en esta celda\n",
        "df_filtered.dropna(subset=['surface_total_in_m2', 'surface_covered_in_m2', 'price_usd_per_m2', \"rooms\"]) "
      ],
      "execution_count": 19,
      "outputs": [
        {
          "output_type": "execute_result",
          "data": {
            "text/html": [
              "<div>\n",
              "<style scoped>\n",
              "    .dataframe tbody tr th:only-of-type {\n",
              "        vertical-align: middle;\n",
              "    }\n",
              "\n",
              "    .dataframe tbody tr th {\n",
              "        vertical-align: top;\n",
              "    }\n",
              "\n",
              "    .dataframe thead th {\n",
              "        text-align: right;\n",
              "    }\n",
              "</style>\n",
              "<table border=\"1\" class=\"dataframe\">\n",
              "  <thead>\n",
              "    <tr style=\"text-align: right;\">\n",
              "      <th></th>\n",
              "      <th>created_on</th>\n",
              "      <th>operation</th>\n",
              "      <th>property_type</th>\n",
              "      <th>place_with_parent_names</th>\n",
              "      <th>lat-lon</th>\n",
              "      <th>lat</th>\n",
              "      <th>lon</th>\n",
              "      <th>price_aprox_usd</th>\n",
              "      <th>surface_total_in_m2</th>\n",
              "      <th>surface_covered_in_m2</th>\n",
              "      <th>price_usd_per_m2</th>\n",
              "      <th>floor</th>\n",
              "      <th>rooms</th>\n",
              "      <th>expenses</th>\n",
              "      <th>properati_url</th>\n",
              "      <th>barrio</th>\n",
              "      <th>comuna</th>\n",
              "    </tr>\n",
              "  </thead>\n",
              "  <tbody>\n",
              "    <tr>\n",
              "      <th>18</th>\n",
              "      <td>2017-08-29</td>\n",
              "      <td>sell</td>\n",
              "      <td>apartment</td>\n",
              "      <td>|Argentina|Capital Federal|Palermo|</td>\n",
              "      <td>-34.588912403,-58.4134942185</td>\n",
              "      <td>-34.588912</td>\n",
              "      <td>-58.413494</td>\n",
              "      <td>340000.00</td>\n",
              "      <td>130.0</td>\n",
              "      <td>120.0</td>\n",
              "      <td>2615.384615</td>\n",
              "      <td>NaN</td>\n",
              "      <td>4.0</td>\n",
              "      <td>8000.0</td>\n",
              "      <td>https://www.properati.com.ar/1dzv6_venta_departamento_palermo_guemes_3600_balcon_suite_jardin_lavadero_luminoso_lujoso_dependencias_placard_doble-circulacion_subte-linea-d_luisio-propiedades-suc-virrey-del-pino-2378</td>\n",
              "      <td>PALERMO</td>\n",
              "      <td>14.0</td>\n",
              "    </tr>\n",
              "    <tr>\n",
              "      <th>19</th>\n",
              "      <td>2017-08-29</td>\n",
              "      <td>sell</td>\n",
              "      <td>apartment</td>\n",
              "      <td>|Argentina|Capital Federal|Palermo|</td>\n",
              "      <td>-34.5770327,-58.4233675</td>\n",
              "      <td>-34.577033</td>\n",
              "      <td>-58.423368</td>\n",
              "      <td>222000.00</td>\n",
              "      <td>52.0</td>\n",
              "      <td>48.0</td>\n",
              "      <td>4269.230769</td>\n",
              "      <td>NaN</td>\n",
              "      <td>1.0</td>\n",
              "      <td>NaN</td>\n",
              "      <td>https://www.properati.com.ar/1e05k_venta_departamento_palermo_juncal-al-4500_gimnasio_jardin_lavadero_parrilla_piscina_sum_aire-acondicionado_subte-linea-h_subte-linea-c_deptos-temporarios</td>\n",
              "      <td>PALERMO</td>\n",
              "      <td>14.0</td>\n",
              "    </tr>\n",
              "    <tr>\n",
              "      <th>22</th>\n",
              "      <td>2017-08-30</td>\n",
              "      <td>sell</td>\n",
              "      <td>house</td>\n",
              "      <td>|Argentina|Capital Federal|Palermo|Palermo Hollywood|</td>\n",
              "      <td>-34.5793535,-58.4364489</td>\n",
              "      <td>-34.579354</td>\n",
              "      <td>-58.436449</td>\n",
              "      <td>1200000.00</td>\n",
              "      <td>532.0</td>\n",
              "      <td>334.0</td>\n",
              "      <td>2255.639098</td>\n",
              "      <td>NaN</td>\n",
              "      <td>6.0</td>\n",
              "      <td>NaN</td>\n",
              "      <td>https://www.properati.com.ar/1e1ve_venta_casa_palermo-hollywood_jardin_lavadero_piscina_luminoso_vista_garage_nexo-propiedades_h0z</td>\n",
              "      <td>PALERMO</td>\n",
              "      <td>14.0</td>\n",
              "    </tr>\n",
              "    <tr>\n",
              "      <th>24</th>\n",
              "      <td>2017-08-30</td>\n",
              "      <td>sell</td>\n",
              "      <td>apartment</td>\n",
              "      <td>|Argentina|Capital Federal|Palermo|Palermo Hollywood|</td>\n",
              "      <td>-34.5809281,-58.4404321</td>\n",
              "      <td>-34.580928</td>\n",
              "      <td>-58.440432</td>\n",
              "      <td>270000.00</td>\n",
              "      <td>67.0</td>\n",
              "      <td>64.0</td>\n",
              "      <td>4029.850746</td>\n",
              "      <td>NaN</td>\n",
              "      <td>3.0</td>\n",
              "      <td>3900.0</td>\n",
              "      <td>https://www.properati.com.ar/1e1x0_venta_departamento_palermo-hollywood_arevalo_1700_balcon_toilette_luminoso_apto-credito-hipotecario_yankel-group</td>\n",
              "      <td>PALERMO</td>\n",
              "      <td>14.0</td>\n",
              "    </tr>\n",
              "    <tr>\n",
              "      <th>29</th>\n",
              "      <td>2017-08-30</td>\n",
              "      <td>sell</td>\n",
              "      <td>apartment</td>\n",
              "      <td>|Argentina|Capital Federal|Palermo|</td>\n",
              "      <td>-34.594251,-58.4166447</td>\n",
              "      <td>-34.594251</td>\n",
              "      <td>-58.416645</td>\n",
              "      <td>250000.00</td>\n",
              "      <td>67.0</td>\n",
              "      <td>60.0</td>\n",
              "      <td>3731.343284</td>\n",
              "      <td>NaN</td>\n",
              "      <td>2.0</td>\n",
              "      <td>NaN</td>\n",
              "      <td>https://www.properati.com.ar/1e2mz_venta_departamento_palermo_balcon_lavadero_parrilla_piscina_aire-acondicionado_apto-credito-hipotecario_ageo-propiedades_dwr</td>\n",
              "      <td>PALERMO</td>\n",
              "      <td>14.0</td>\n",
              "    </tr>\n",
              "    <tr>\n",
              "      <th>...</th>\n",
              "      <td>...</td>\n",
              "      <td>...</td>\n",
              "      <td>...</td>\n",
              "      <td>...</td>\n",
              "      <td>...</td>\n",
              "      <td>...</td>\n",
              "      <td>...</td>\n",
              "      <td>...</td>\n",
              "      <td>...</td>\n",
              "      <td>...</td>\n",
              "      <td>...</td>\n",
              "      <td>...</td>\n",
              "      <td>...</td>\n",
              "      <td>...</td>\n",
              "      <td>...</td>\n",
              "      <td>...</td>\n",
              "      <td>...</td>\n",
              "    </tr>\n",
              "    <tr>\n",
              "      <th>18973</th>\n",
              "      <td>2017-12-17</td>\n",
              "      <td>sell</td>\n",
              "      <td>apartment</td>\n",
              "      <td>|Argentina|Capital Federal|Villa Soldati|</td>\n",
              "      <td>-34.66897,-58.443897</td>\n",
              "      <td>-34.668970</td>\n",
              "      <td>-58.443897</td>\n",
              "      <td>49000.00</td>\n",
              "      <td>75.0</td>\n",
              "      <td>75.0</td>\n",
              "      <td>653.333333</td>\n",
              "      <td>NaN</td>\n",
              "      <td>4.0</td>\n",
              "      <td>NaN</td>\n",
              "      <td>https://www.properati.com.ar/1j22x_venta_departamento_villa-soldati_re-max-parque</td>\n",
              "      <td>VILLA SOLDATI</td>\n",
              "      <td>8.0</td>\n",
              "    </tr>\n",
              "    <tr>\n",
              "      <th>18974</th>\n",
              "      <td>2018-01-08</td>\n",
              "      <td>sell</td>\n",
              "      <td>apartment</td>\n",
              "      <td>|Argentina|Capital Federal|Villa Soldati|</td>\n",
              "      <td>-34.668741,-58.443146</td>\n",
              "      <td>-34.668741</td>\n",
              "      <td>-58.443146</td>\n",
              "      <td>60000.00</td>\n",
              "      <td>55.0</td>\n",
              "      <td>55.0</td>\n",
              "      <td>1090.909091</td>\n",
              "      <td>NaN</td>\n",
              "      <td>3.0</td>\n",
              "      <td>NaN</td>\n",
              "      <td>https://www.properati.com.ar/1jcpm_venta_departamento_villa-soldati_roca-cnel-av-_3500_subte-premetro_re-max-parque</td>\n",
              "      <td>VILLA SOLDATI</td>\n",
              "      <td>8.0</td>\n",
              "    </tr>\n",
              "    <tr>\n",
              "      <th>18975</th>\n",
              "      <td>2018-01-23</td>\n",
              "      <td>sell</td>\n",
              "      <td>house</td>\n",
              "      <td>|Argentina|Capital Federal|Villa Soldati|</td>\n",
              "      <td>-34.66417,-58.443317</td>\n",
              "      <td>-34.664170</td>\n",
              "      <td>-58.443317</td>\n",
              "      <td>99000.00</td>\n",
              "      <td>115.0</td>\n",
              "      <td>82.0</td>\n",
              "      <td>860.869565</td>\n",
              "      <td>NaN</td>\n",
              "      <td>3.0</td>\n",
              "      <td>NaN</td>\n",
              "      <td>https://www.properati.com.ar/1k1hs_venta_casa_villa-soldati_lavadero_parrilla_terraza_garage_placard_subte-premetro_re-max-acci-oacute-n</td>\n",
              "      <td>VILLA SOLDATI</td>\n",
              "      <td>8.0</td>\n",
              "    </tr>\n",
              "    <tr>\n",
              "      <th>18977</th>\n",
              "      <td>2018-01-27</td>\n",
              "      <td>sell</td>\n",
              "      <td>apartment</td>\n",
              "      <td>|Argentina|Capital Federal|Villa Soldati|</td>\n",
              "      <td>-34.665005,-58.443041</td>\n",
              "      <td>-34.665005</td>\n",
              "      <td>-58.443041</td>\n",
              "      <td>50433.01</td>\n",
              "      <td>45.0</td>\n",
              "      <td>45.0</td>\n",
              "      <td>1120.733556</td>\n",
              "      <td>NaN</td>\n",
              "      <td>3.0</td>\n",
              "      <td>NaN</td>\n",
              "      <td>https://www.properati.com.ar/1k5v0_venta_departamento_villa-soldati_lavadero_subte-premetro_re-max-ayres</td>\n",
              "      <td>VILLA SOLDATI</td>\n",
              "      <td>8.0</td>\n",
              "    </tr>\n",
              "    <tr>\n",
              "      <th>18978</th>\n",
              "      <td>2018-01-27</td>\n",
              "      <td>sell</td>\n",
              "      <td>apartment</td>\n",
              "      <td>|Argentina|Capital Federal|Villa Lugano|</td>\n",
              "      <td>-34.664283,-58.469604</td>\n",
              "      <td>-34.664283</td>\n",
              "      <td>-58.469604</td>\n",
              "      <td>75000.00</td>\n",
              "      <td>60.0</td>\n",
              "      <td>58.0</td>\n",
              "      <td>1250.000000</td>\n",
              "      <td>9.0</td>\n",
              "      <td>3.0</td>\n",
              "      <td>NaN</td>\n",
              "      <td>https://www.properati.com.ar/1k5x2_venta_departamento_villa-lugano_balcon_lavadero_sum_re-max-accion-ii</td>\n",
              "      <td>VILLA SOLDATI</td>\n",
              "      <td>8.0</td>\n",
              "    </tr>\n",
              "  </tbody>\n",
              "</table>\n",
              "<p>11975 rows × 17 columns</p>\n",
              "</div>"
            ],
            "text/plain": [
              "       created_on operation property_type  \\\n",
              "18     2017-08-29      sell     apartment   \n",
              "19     2017-08-29      sell     apartment   \n",
              "22     2017-08-30      sell         house   \n",
              "24     2017-08-30      sell     apartment   \n",
              "29     2017-08-30      sell     apartment   \n",
              "...           ...       ...           ...   \n",
              "18973  2017-12-17      sell     apartment   \n",
              "18974  2018-01-08      sell     apartment   \n",
              "18975  2018-01-23      sell         house   \n",
              "18977  2018-01-27      sell     apartment   \n",
              "18978  2018-01-27      sell     apartment   \n",
              "\n",
              "                                     place_with_parent_names  \\\n",
              "18                       |Argentina|Capital Federal|Palermo|   \n",
              "19                       |Argentina|Capital Federal|Palermo|   \n",
              "22     |Argentina|Capital Federal|Palermo|Palermo Hollywood|   \n",
              "24     |Argentina|Capital Federal|Palermo|Palermo Hollywood|   \n",
              "29                       |Argentina|Capital Federal|Palermo|   \n",
              "...                                                      ...   \n",
              "18973              |Argentina|Capital Federal|Villa Soldati|   \n",
              "18974              |Argentina|Capital Federal|Villa Soldati|   \n",
              "18975              |Argentina|Capital Federal|Villa Soldati|   \n",
              "18977              |Argentina|Capital Federal|Villa Soldati|   \n",
              "18978               |Argentina|Capital Federal|Villa Lugano|   \n",
              "\n",
              "                            lat-lon        lat        lon  price_aprox_usd  \\\n",
              "18     -34.588912403,-58.4134942185 -34.588912 -58.413494        340000.00   \n",
              "19          -34.5770327,-58.4233675 -34.577033 -58.423368        222000.00   \n",
              "22          -34.5793535,-58.4364489 -34.579354 -58.436449       1200000.00   \n",
              "24          -34.5809281,-58.4404321 -34.580928 -58.440432        270000.00   \n",
              "29           -34.594251,-58.4166447 -34.594251 -58.416645        250000.00   \n",
              "...                             ...        ...        ...              ...   \n",
              "18973          -34.66897,-58.443897 -34.668970 -58.443897         49000.00   \n",
              "18974         -34.668741,-58.443146 -34.668741 -58.443146         60000.00   \n",
              "18975          -34.66417,-58.443317 -34.664170 -58.443317         99000.00   \n",
              "18977         -34.665005,-58.443041 -34.665005 -58.443041         50433.01   \n",
              "18978         -34.664283,-58.469604 -34.664283 -58.469604         75000.00   \n",
              "\n",
              "       surface_total_in_m2  surface_covered_in_m2  price_usd_per_m2  floor  \\\n",
              "18                   130.0                  120.0       2615.384615    NaN   \n",
              "19                    52.0                   48.0       4269.230769    NaN   \n",
              "22                   532.0                  334.0       2255.639098    NaN   \n",
              "24                    67.0                   64.0       4029.850746    NaN   \n",
              "29                    67.0                   60.0       3731.343284    NaN   \n",
              "...                    ...                    ...               ...    ...   \n",
              "18973                 75.0                   75.0        653.333333    NaN   \n",
              "18974                 55.0                   55.0       1090.909091    NaN   \n",
              "18975                115.0                   82.0        860.869565    NaN   \n",
              "18977                 45.0                   45.0       1120.733556    NaN   \n",
              "18978                 60.0                   58.0       1250.000000    9.0   \n",
              "\n",
              "       rooms  expenses  \\\n",
              "18       4.0    8000.0   \n",
              "19       1.0       NaN   \n",
              "22       6.0       NaN   \n",
              "24       3.0    3900.0   \n",
              "29       2.0       NaN   \n",
              "...      ...       ...   \n",
              "18973    4.0       NaN   \n",
              "18974    3.0       NaN   \n",
              "18975    3.0       NaN   \n",
              "18977    3.0       NaN   \n",
              "18978    3.0       NaN   \n",
              "\n",
              "                                                                                                                                                                                                                 properati_url  \\\n",
              "18     https://www.properati.com.ar/1dzv6_venta_departamento_palermo_guemes_3600_balcon_suite_jardin_lavadero_luminoso_lujoso_dependencias_placard_doble-circulacion_subte-linea-d_luisio-propiedades-suc-virrey-del-pino-2378   \n",
              "19                                https://www.properati.com.ar/1e05k_venta_departamento_palermo_juncal-al-4500_gimnasio_jardin_lavadero_parrilla_piscina_sum_aire-acondicionado_subte-linea-h_subte-linea-c_deptos-temporarios   \n",
              "22                                                                                          https://www.properati.com.ar/1e1ve_venta_casa_palermo-hollywood_jardin_lavadero_piscina_luminoso_vista_garage_nexo-propiedades_h0z   \n",
              "24                                                                         https://www.properati.com.ar/1e1x0_venta_departamento_palermo-hollywood_arevalo_1700_balcon_toilette_luminoso_apto-credito-hipotecario_yankel-group   \n",
              "29                                                             https://www.properati.com.ar/1e2mz_venta_departamento_palermo_balcon_lavadero_parrilla_piscina_aire-acondicionado_apto-credito-hipotecario_ageo-propiedades_dwr   \n",
              "...                                                                                                                                                                                                                        ...   \n",
              "18973                                                                                                                                        https://www.properati.com.ar/1j22x_venta_departamento_villa-soldati_re-max-parque   \n",
              "18974                                                                                                      https://www.properati.com.ar/1jcpm_venta_departamento_villa-soldati_roca-cnel-av-_3500_subte-premetro_re-max-parque   \n",
              "18975                                                                                 https://www.properati.com.ar/1k1hs_venta_casa_villa-soldati_lavadero_parrilla_terraza_garage_placard_subte-premetro_re-max-acci-oacute-n   \n",
              "18977                                                                                                                 https://www.properati.com.ar/1k5v0_venta_departamento_villa-soldati_lavadero_subte-premetro_re-max-ayres   \n",
              "18978                                                                                                                  https://www.properati.com.ar/1k5x2_venta_departamento_villa-lugano_balcon_lavadero_sum_re-max-accion-ii   \n",
              "\n",
              "              barrio  comuna  \n",
              "18           PALERMO    14.0  \n",
              "19           PALERMO    14.0  \n",
              "22           PALERMO    14.0  \n",
              "24           PALERMO    14.0  \n",
              "29           PALERMO    14.0  \n",
              "...              ...     ...  \n",
              "18973  VILLA SOLDATI     8.0  \n",
              "18974  VILLA SOLDATI     8.0  \n",
              "18975  VILLA SOLDATI     8.0  \n",
              "18977  VILLA SOLDATI     8.0  \n",
              "18978  VILLA SOLDATI     8.0  \n",
              "\n",
              "[11975 rows x 17 columns]"
            ]
          },
          "metadata": {
            "tags": []
          },
          "execution_count": 19
        }
      ]
    },
    {
      "cell_type": "markdown",
      "metadata": {
        "id": "LnrGv_GdMt3B",
        "colab_type": "text"
      },
      "source": [
        "**7)** A continuación **mostrá** cuantas instancias son las que descartaste a partir de quitar las que tenían valores nulos."
      ]
    },
    {
      "cell_type": "code",
      "metadata": {
        "id": "kdo537OJMt3C",
        "colab_type": "code",
        "colab": {
          "base_uri": "https://localhost:8080/",
          "height": 33
        },
        "outputId": "f27e6538-8839-4886-fb65-f2d09156f70a"
      },
      "source": [
        "# Mostrá en esta celda la cantidad de instancias descartadas\n",
        "df.shape"
      ],
      "execution_count": 26,
      "outputs": [
        {
          "output_type": "execute_result",
          "data": {
            "text/plain": [
              "(18979, 17)"
            ]
          },
          "metadata": {
            "tags": []
          },
          "execution_count": 26
        }
      ]
    },
    {
      "cell_type": "code",
      "metadata": {
        "id": "2w7BgeitH3yT",
        "colab_type": "code",
        "colab": {
          "base_uri": "https://localhost:8080/",
          "height": 33
        },
        "outputId": "9b14bb2b-c0f9-4385-f5a2-e9be04a31304"
      },
      "source": [
        "df_filtered.shape"
      ],
      "execution_count": 27,
      "outputs": [
        {
          "output_type": "execute_result",
          "data": {
            "text/plain": [
              "(17888, 17)"
            ]
          },
          "metadata": {
            "tags": []
          },
          "execution_count": 27
        }
      ]
    },
    {
      "cell_type": "code",
      "metadata": {
        "id": "ozExdTiJIDIx",
        "colab_type": "code",
        "colab": {
          "base_uri": "https://localhost:8080/",
          "height": 33
        },
        "outputId": "cd2ef36f-d5d1-4472-dfe5-c5fa72574580"
      },
      "source": [
        "len(df) - len(df_filtered)"
      ],
      "execution_count": 31,
      "outputs": [
        {
          "output_type": "execute_result",
          "data": {
            "text/plain": [
              "1091"
            ]
          },
          "metadata": {
            "tags": []
          },
          "execution_count": 31
        }
      ]
    },
    {
      "cell_type": "markdown",
      "metadata": {
        "id": "Zwz54JhdMt3F",
        "colab_type": "text"
      },
      "source": [
        "Posiblemente existan otros atributos con valores faltantes en el dataset, pero que no son de tanta importancia. \n",
        "\n",
        "**8) Mostrá** qué otros atributos tienen valores faltantes en el `dataframe`."
      ]
    },
    {
      "cell_type": "code",
      "metadata": {
        "id": "Op4xMZr1Mt3F",
        "colab_type": "code",
        "outputId": "7048ecd6-fc59-44b9-ed26-d68e363e4f86",
        "colab": {
          "base_uri": "https://localhost:8080/",
          "height": 318
        }
      },
      "source": [
        "# Mostrá en esta celda los otros atributos con valores faltantes\n",
        "df_filtered.isnull().sum()\n"
      ],
      "execution_count": 32,
      "outputs": [
        {
          "output_type": "execute_result",
          "data": {
            "text/plain": [
              "created_on                     0\n",
              "operation                      0\n",
              "property_type                  0\n",
              "place_with_parent_names        0\n",
              "lat-lon                        0\n",
              "lat                            0\n",
              "lon                            0\n",
              "price_aprox_usd             1377\n",
              "surface_total_in_m2         2197\n",
              "surface_covered_in_m2       1920\n",
              "price_usd_per_m2            2681\n",
              "floor                      15168\n",
              "rooms                       4481\n",
              "expenses                   14190\n",
              "properati_url                  0\n",
              "barrio                         0\n",
              "comuna                         0\n",
              "dtype: int64"
            ]
          },
          "metadata": {
            "tags": []
          },
          "execution_count": 32
        }
      ]
    },
    {
      "cell_type": "markdown",
      "metadata": {
        "id": "xF87WeHFMt3I",
        "colab_type": "text"
      },
      "source": [
        "#### Desafío: planteá alguna estrategia posible para reemplazar los valores faltantes en el atributo `surface_total_in_m2`."
      ]
    },
    {
      "cell_type": "markdown",
      "metadata": {
        "id": "eiAZXAddIiig",
        "colab_type": "text"
      },
      "source": [
        "Cuando aparezca un valor nulo en el campo superficie total faltante en m2 y sea necesario reemplazarlo, podría verificar otras instancias de propiedades que se encuentren en el mismo barrio, cantidad de ambientes, precio y tipo de operación. Reemplazaría el valor nulo por el promedio de la superficies totales en m2 encontradas con esos criterios."
      ]
    },
    {
      "cell_type": "markdown",
      "metadata": {
        "id": "nTvwOL7gMt3J",
        "colab_type": "text"
      },
      "source": [
        "## Datos erróneos"
      ]
    },
    {
      "cell_type": "markdown",
      "metadata": {
        "id": "XNjSJyDQMt3K",
        "colab_type": "text"
      },
      "source": [
        "El siguiente paso es analizar errores que puede llegar a haber en el dataset. \n",
        "\n",
        "Por ejemplo, la **superficie total no puede ser menor que la cubierta**. Si esto sucede, podemos optar por eliminar esas filas o intentar corregir el problema. Veamos en primer lugar si esto sucede.\n",
        "\n",
        "**9) Mostrá** cuantas instancias existen que tengan el problema de este dato erróneo y guardalas en una variable llamada `wrong_surface_rows`"
      ]
    },
    {
      "cell_type": "code",
      "metadata": {
        "id": "u6tq8dFUMt3M",
        "colab_type": "code",
        "colab": {
          "base_uri": "https://localhost:8080/",
          "height": 33
        },
        "outputId": "a131a687-0f00-457a-cf70-aabe7683dd68"
      },
      "source": [
        "# Mostrá en esta celda cuántas instancias tienen errores en la superficie\n",
        "wrong_surface_rows = df_filtered[df_filtered.surface_covered_in_m2 > df_filtered.surface_total_in_m2]\n",
        "len(wrong_surface_rows)"
      ],
      "execution_count": 36,
      "outputs": [
        {
          "output_type": "execute_result",
          "data": {
            "text/plain": [
              "112"
            ]
          },
          "metadata": {
            "tags": []
          },
          "execution_count": 36
        }
      ]
    },
    {
      "cell_type": "markdown",
      "metadata": {
        "id": "6swzVQvnMt3O",
        "colab_type": "text"
      },
      "source": [
        "Proponemos no borrar estas instancias erróneas, sino intercambiar los valores de **superficie total** con **superficie cubierta** en caso de que se cumpla la condición mencionada."
      ]
    },
    {
      "cell_type": "code",
      "metadata": {
        "id": "nbIKT1GSMt3P",
        "colab_type": "code",
        "colab": {
          "base_uri": "https://localhost:8080/",
          "height": 117
        },
        "outputId": "151c7063-4c27-4d26-bd15-bc4e07848135"
      },
      "source": [
        "df_filtered.at[wrong_surface_rows.index, 'surface_total_in_m2'] = wrong_surface_rows.surface_covered_in_m2\n",
        "df_filtered.at[wrong_surface_rows.index, 'surface_covered_in_m2'] = wrong_surface_rows.surface_total_in_m2"
      ],
      "execution_count": 37,
      "outputs": [
        {
          "output_type": "stream",
          "text": [
            "/usr/local/lib/python3.6/dist-packages/pandas/core/indexing.py:494: SettingWithCopyWarning: \n",
            "A value is trying to be set on a copy of a slice from a DataFrame.\n",
            "Try using .loc[row_indexer,col_indexer] = value instead\n",
            "\n",
            "See the caveats in the documentation: http://pandas.pydata.org/pandas-docs/stable/user_guide/indexing.html#returning-a-view-versus-a-copy\n",
            "  self.obj[item] = s\n"
          ],
          "name": "stderr"
        }
      ]
    },
    {
      "cell_type": "markdown",
      "metadata": {
        "id": "dwyjoVd8Mt3R",
        "colab_type": "text"
      },
      "source": [
        "Por otro lado, sucede que las inmobiliarias cuando no cuentan con las coordenadas reales de las propiedades utilizan valores que no son correctos. Por ejemplo, el punto centro de cada barrio o puntos de interés como el Obelisco. Esto puede afectar el análisis relacionado con la ubicación de cada propiedad.\n",
        "\n",
        "Veamos en primer lugar si hay coordenadas que se repiten."
      ]
    },
    {
      "cell_type": "code",
      "metadata": {
        "id": "mmBtCYu-Mt3S",
        "colab_type": "code",
        "colab": {
          "base_uri": "https://localhost:8080/",
          "height": 217
        },
        "outputId": "8e7cb485-a4b4-4f51-8728-1f4d258841fe"
      },
      "source": [
        "conteo_puntos = df_filtered.groupby(['lat', 'lon']).size()\n",
        "conteo_puntos[conteo_puntos > 1].sort_values(ascending=False).head(10)"
      ],
      "execution_count": 38,
      "outputs": [
        {
          "output_type": "execute_result",
          "data": {
            "text/plain": [
              "lat         lon       \n",
              "-34.589546  -58.397364    155\n",
              "-34.571150  -58.423297    127\n",
              "-34.562084  -58.456686     87\n",
              "-34.620928  -58.445874     49\n",
              "-34.609821  -58.392606     44\n",
              "-34.622973  -58.439913     41\n",
              "-34.608608  -58.448515     40\n",
              "-34.603771  -58.381587     36\n",
              "-34.617719  -58.362056     36\n",
              "-34.610122  -58.405941     32\n",
              "dtype: int64"
            ]
          },
          "metadata": {
            "tags": []
          },
          "execution_count": 38
        }
      ]
    },
    {
      "cell_type": "markdown",
      "metadata": {
        "id": "7JG5dW1dMt3W",
        "colab_type": "text"
      },
      "source": [
        "Por ejemplo, para el caso del tercer punto, se puede verificar que corresponde a la esquina de Av. Cabildo y Juramento.\n",
        "Nos quedamos entonces con las propiedades con coordenadas que se repitan hasta 5 veces."
      ]
    },
    {
      "cell_type": "code",
      "metadata": {
        "id": "Ysx52shRMt3Y",
        "colab_type": "code",
        "colab": {}
      },
      "source": [
        "conteo_puntos.name = 'conteo'\n",
        "\n",
        "df_filtered = df_filtered.join(conteo_puntos, on=['lat', 'lon'])\n",
        "\n",
        "df_filtered = df_filtered[df_filtered.conteo <= 5]"
      ],
      "execution_count": 0,
      "outputs": []
    },
    {
      "cell_type": "markdown",
      "metadata": {
        "id": "qFOrJV2XMt3d",
        "colab_type": "text"
      },
      "source": [
        "Eliminamos el atributo `conteo` dado que ya no nos sirve."
      ]
    },
    {
      "cell_type": "code",
      "metadata": {
        "id": "qVmZpHKOMt3e",
        "colab_type": "code",
        "colab": {}
      },
      "source": [
        "df_filtered.drop('conteo', inplace=True, axis=1)"
      ],
      "execution_count": 0,
      "outputs": []
    },
    {
      "cell_type": "markdown",
      "metadata": {
        "id": "uvS2uY7KMt3g",
        "colab_type": "text"
      },
      "source": [
        "## Estudiando los barrios"
      ]
    },
    {
      "cell_type": "markdown",
      "metadata": {
        "id": "UCcKrabwMt3h",
        "colab_type": "text"
      },
      "source": [
        "### Barrios con más edificios y barrios con más casas\n",
        "Al saber qué barrios son los que tienen más cantidad de edificios en venta y cuáles son los que tienen más casas podemos darnos una idea de qué tipo de barrio es. Si es más residencial, con más población, poder adquisitivo, etc. \n",
        "Para eso vamos a empezar calculando los porcentajes de cada tipo de propiedad según el barrio."
      ]
    },
    {
      "cell_type": "code",
      "metadata": {
        "id": "b1HkwaU7Mt3i",
        "colab_type": "code",
        "colab": {
          "base_uri": "https://localhost:8080/",
          "height": 100
        },
        "outputId": "5932b219-e3e9-4be9-95e0-9b728afe67c5"
      },
      "source": [
        "total_propiedades = df_filtered.groupby('barrio')['property_type'].count().values\n",
        "total_propiedades"
      ],
      "execution_count": 43,
      "outputs": [
        {
          "output_type": "execute_result",
          "data": {
            "text/plain": [
              "array([  51,  680,  848,  191,  965,  126,  160,  889,  158,  116,  252,\n",
              "        233,  696,  177,  328,  209,  316,  154,   97,  362, 2056,  120,\n",
              "        191,   87,  129,   79,  271, 1355,  510,  248,  189,  419,  168,\n",
              "        136,   71,  521,  207,  296,  127,  126,  198,  144,  138,   50,\n",
              "         25,   85,   15,  462])"
            ]
          },
          "metadata": {
            "tags": []
          },
          "execution_count": 43
        }
      ]
    },
    {
      "cell_type": "code",
      "metadata": {
        "id": "4XOqoc2YMt3k",
        "colab_type": "code",
        "colab": {}
      },
      "source": [
        "porcentaje_casas_ph = df_filtered[df_filtered.property_type.isin(['PH', 'house'])].groupby('barrio').count().property_type/total_propiedades\n",
        "porcentaje_edificios = df_filtered[df_filtered.property_type == 'apartment'].groupby('barrio').count().property_type/total_propiedades"
      ],
      "execution_count": 0,
      "outputs": []
    },
    {
      "cell_type": "code",
      "metadata": {
        "id": "xEKBGJzvMt3n",
        "colab_type": "code",
        "colab": {
          "base_uri": "https://localhost:8080/",
          "height": 284
        },
        "outputId": "deebd12b-6f12-48c1-9134-6ec4dc4f34d6"
      },
      "source": [
        "print(\"Barrios con mayor porcentaje de edificios: \\n\", porcentaje_edificios.sort_values()[::-1][:5])\n",
        "print(\"Barrios con mayor porcentaje de casas y phs: \\n \", porcentaje_casas_ph.sort_values()[::-1][:5])"
      ],
      "execution_count": 45,
      "outputs": [
        {
          "output_type": "stream",
          "text": [
            "Barrios con mayor porcentaje de edificios: \n",
            " barrio\n",
            "PUERTO MADERO    0.992620\n",
            "RETIRO           0.978431\n",
            "SAN NICOLAS      0.973747\n",
            "RECOLETA         0.972694\n",
            "BELGRANO         0.922280\n",
            "Name: property_type, dtype: float64\n",
            "Barrios con mayor porcentaje de casas y phs: \n",
            "  barrio\n",
            "VILLA RIACHUELO      0.760000\n",
            "VERSALLES            0.661972\n",
            "MATADEROS            0.612440\n",
            "PARQUE AVELLANEDA    0.591667\n",
            "NUEVA POMPEYA        0.587629\n",
            "Name: property_type, dtype: float64\n"
          ],
          "name": "stdout"
        }
      ]
    },
    {
      "cell_type": "markdown",
      "metadata": {
        "id": "AVezrR1vMt3q",
        "colab_type": "text"
      },
      "source": [
        "Para darnos una idea de las diferencias entre los porcentajes de edificios y casas en estos barrios, vamos a graficarlos\n",
        "en forma de torta."
      ]
    },
    {
      "cell_type": "code",
      "metadata": {
        "id": "tD3aWR24Mt3r",
        "colab_type": "code",
        "colab": {
          "base_uri": "https://localhost:8080/",
          "height": 604
        },
        "outputId": "2e881f5d-8630-4247-933b-f4bcbb94ba30"
      },
      "source": [
        "barrios_casas = porcentaje_casas_ph.sort_values()[::-1][:5].index\n",
        "barrios_edificios = porcentaje_edificios.sort_values()[::-1][:5].index\n",
        "fig, axs = plt.subplots(1,2,figsize=(14,7))\n",
        "df_filtered[df_filtered.barrio.isin(barrios_edificios)].property_type.value_counts().plot(x=None,y=None, kind='pie', startangle=30, ax=axs[0],autopct='%1.2f%%')\n",
        "df_filtered[df_filtered.barrio.isin(barrios_casas)].property_type.value_counts().plot(x=None,y=None, kind='pie', ax=axs[1],autopct='%1.2f%%')"
      ],
      "execution_count": 46,
      "outputs": [
        {
          "output_type": "stream",
          "text": [
            "/usr/local/lib/python3.6/dist-packages/pandas/plotting/_matplotlib/tools.py:307: MatplotlibDeprecationWarning: \n",
            "The rowNum attribute was deprecated in Matplotlib 3.2 and will be removed two minor releases later. Use ax.get_subplotspec().rowspan.start instead.\n",
            "  layout[ax.rowNum, ax.colNum] = ax.get_visible()\n",
            "/usr/local/lib/python3.6/dist-packages/pandas/plotting/_matplotlib/tools.py:307: MatplotlibDeprecationWarning: \n",
            "The colNum attribute was deprecated in Matplotlib 3.2 and will be removed two minor releases later. Use ax.get_subplotspec().colspan.start instead.\n",
            "  layout[ax.rowNum, ax.colNum] = ax.get_visible()\n",
            "/usr/local/lib/python3.6/dist-packages/pandas/plotting/_matplotlib/tools.py:313: MatplotlibDeprecationWarning: \n",
            "The rowNum attribute was deprecated in Matplotlib 3.2 and will be removed two minor releases later. Use ax.get_subplotspec().rowspan.start instead.\n",
            "  if not layout[ax.rowNum + 1, ax.colNum]:\n",
            "/usr/local/lib/python3.6/dist-packages/pandas/plotting/_matplotlib/tools.py:313: MatplotlibDeprecationWarning: \n",
            "The colNum attribute was deprecated in Matplotlib 3.2 and will be removed two minor releases later. Use ax.get_subplotspec().colspan.start instead.\n",
            "  if not layout[ax.rowNum + 1, ax.colNum]:\n"
          ],
          "name": "stderr"
        },
        {
          "output_type": "execute_result",
          "data": {
            "text/plain": [
              "<matplotlib.axes._subplots.AxesSubplot at 0x7efe33cd24e0>"
            ]
          },
          "metadata": {
            "tags": []
          },
          "execution_count": 46
        },
        {
          "output_type": "display_data",
          "data": {
            "image/png": "[encoded data removed]",
            "text/plain": [
              "<Figure size 1008x504 with 2 Axes>"
            ]
          },
          "metadata": {
            "tags": []
          }
        }
      ]
    },
    {
      "cell_type": "markdown",
      "metadata": {
        "id": "gfR7W5_gMt3t",
        "colab_type": "text"
      },
      "source": [
        "### Barrios más caros y más baratos"
      ]
    },
    {
      "cell_type": "markdown",
      "metadata": {
        "id": "MTMm-yUjMt3u",
        "colab_type": "text"
      },
      "source": [
        "Veamos primero la distribución del precio por metro cuadrado para todo el dataset. De esta manera, vamos a remover valores que consideremos extremos.\n",
        "\n",
        "En el siguiente proyecto vamos a volver sobre este tema con más profundidad.\n",
        "\n",
        "**10)** Tomando el atributo `price_usd_per_m2` **calculá** su **mínimo**, **máximo**, **promedio (mean)**, **mediana (median)** y **desvío estándar (std)**"
      ]
    },
    {
      "cell_type": "code",
      "metadata": {
        "id": "5lyZaub1Mt3v",
        "colab_type": "code",
        "colab": {
          "base_uri": "https://localhost:8080/",
          "height": 100
        },
        "outputId": "7c4de5a9-4ff7-4c1c-d862-46040fbfbacf"
      },
      "source": [
        "# Mostrá en esta celda los cálculos\n",
        "minimo = df['price_usd_per_m2'].min()\n",
        "maximo = df['price_usd_per_m2'].max()\n",
        "prom = df['price_usd_per_m2'].mean()\n",
        "med = df['price_usd_per_m2'].median()\n",
        "ds = df['price_usd_per_m2'].std()\n",
        "\n",
        "print(\"mínimo: \", minimo)\n",
        "print(\"máximo: \", maximo)\n",
        "print(\"promedio (mean): \", prom)\n",
        "print(\"mediana (median): \", med)\n",
        "print(\"desvío estándar (std): \", ds)"
      ],
      "execution_count": 49,
      "outputs": [
        {
          "output_type": "stream",
          "text": [
            "mínimo:  0.9583333333333334\n",
            "máximo:  142450.14102564106\n",
            "promedio (mean):  2760.408525460541\n",
            "mediana (median):  2545.454545454545\n",
            "desvío estándar (std):  1940.1532157996407\n"
          ],
          "name": "stdout"
        }
      ]
    },
    {
      "cell_type": "markdown",
      "metadata": {
        "id": "TMPVg0UyMt3x",
        "colab_type": "text"
      },
      "source": [
        "También podemos calcular otros estadísticos como los cuartiles. \n",
        "\n",
        "**11) Mostrá** el **primer y tercer cuartil** y luego también el **rango intercuartilíco**"
      ]
    },
    {
      "cell_type": "code",
      "metadata": {
        "id": "WqgHn3YxMt3y",
        "colab_type": "code",
        "colab": {
          "base_uri": "https://localhost:8080/",
          "height": 67
        },
        "outputId": "d01a1655-5971-43ed-eb03-3127bc6714b7"
      },
      "source": [
        "# Mostrá los cuartiles en esta celda\n",
        "df_filtered.sort_values(by=[\"price_usd_per_m2\"])\n",
        "first_q = df_filtered['price_usd_per_m2'].quantile(.25)\n",
        "third_q = df_filtered['price_usd_per_m2'].quantile(.75)\n",
        "range_q = third_q - first_q\n",
        "print(first_q)\n",
        "print(third_q)\n",
        "print(range_q)"
      ],
      "execution_count": 54,
      "outputs": [
        {
          "output_type": "stream",
          "text": [
            "1965.8843980877878\n",
            "3139.534883720931\n",
            "1173.650485633143\n"
          ],
          "name": "stdout"
        }
      ]
    },
    {
      "cell_type": "markdown",
      "metadata": {
        "id": "GCp2xuu_Mt31",
        "colab_type": "text"
      },
      "source": [
        "### Quitando valores extremos\n",
        "Eliminemos aquellas observaciones cuyo precio por metro cuadrado este fuera de los percentiles 10 y 90. De este modo intentaremos remover valores extremos de una manera sencilla para tener un análisis más robusto."
      ]
    },
    {
      "cell_type": "code",
      "metadata": {
        "id": "Vf-vL0FxMt33",
        "colab_type": "code",
        "colab": {}
      },
      "source": [
        "p10 = np.percentile(df_filtered.price_usd_per_m2, 10)\n",
        "p90 = np.percentile(df_filtered.price_usd_per_m2, 90)\n",
        "df_filtered = df_filtered[(df_filtered.price_usd_per_m2 >= p10) & (df_filtered.price_usd_per_m2 <= p90)]"
      ],
      "execution_count": 0,
      "outputs": []
    },
    {
      "cell_type": "markdown",
      "metadata": {
        "id": "o3zZYT09Mt36",
        "colab_type": "text"
      },
      "source": [
        "A partir de quitar estos valores van a cambiar los estadísticos que calculamos.\n",
        "\n",
        "**12) Volvé a calcular** los mismos estadísticos (min, max, promedio, etc) para ver los cambios.\n",
        "¿Por qué será que la **mediana** no cambia?"
      ]
    },
    {
      "cell_type": "code",
      "metadata": {
        "id": "97dgI_nyMt37",
        "colab_type": "code",
        "colab": {}
      },
      "source": [
        "# Realizá los calculos en esta celda"
      ],
      "execution_count": 0,
      "outputs": []
    },
    {
      "cell_type": "markdown",
      "metadata": {
        "id": "X9uNmqlSMt39",
        "colab_type": "text"
      },
      "source": [
        "Vamos a graficar ahora los barrios según el precio por metro cuadrado."
      ]
    },
    {
      "cell_type": "code",
      "metadata": {
        "id": "72Jc21zXMt3-",
        "colab_type": "code",
        "colab": {}
      },
      "source": [
        "plt.xticks(rotation = 90)\n",
        "barrios = df_filtered.groupby('barrio').mean().sort_values('price_usd_per_m2', ascending=False).index\n",
        "sns.barplot(x=\"barrio\", y=\"price_usd_per_m2\", order=barrios, data=df_filtered);"
      ],
      "execution_count": 0,
      "outputs": []
    },
    {
      "cell_type": "markdown",
      "metadata": {
        "id": "0wC-UjaxMt4A",
        "colab_type": "text"
      },
      "source": [
        "#### Más caros"
      ]
    },
    {
      "cell_type": "code",
      "metadata": {
        "id": "ZRW8YQu3Mt4C",
        "colab_type": "code",
        "colab": {}
      },
      "source": [
        "table = pd.pivot_table(df, values='price_usd_per_m2', index=['barrio'], aggfunc=np.mean)\n",
        "mas_caros = table.sort_values('price_usd_per_m2', ascending=False).iloc[:5]\n",
        "mas_caros"
      ],
      "execution_count": 0,
      "outputs": []
    },
    {
      "cell_type": "markdown",
      "metadata": {
        "id": "qwUGlCsuMt4E",
        "colab_type": "text"
      },
      "source": [
        "#### Más baratos"
      ]
    },
    {
      "cell_type": "code",
      "metadata": {
        "id": "MeOYmqCOMt4F",
        "colab_type": "code",
        "colab": {}
      },
      "source": [
        "table = pd.pivot_table(df, values='price_usd_per_m2', index=['barrio'], aggfunc=np.mean)\n",
        "mas_baratos = table.sort_values('price_usd_per_m2', ascending=True).iloc[:5]\n",
        "mas_baratos"
      ],
      "execution_count": 0,
      "outputs": []
    },
    {
      "cell_type": "markdown",
      "metadata": {
        "id": "GcRGHzYqMt4I",
        "colab_type": "text"
      },
      "source": [
        "## Graficando propiedades de los barrios\n",
        "\n",
        "Ahora que ya sabemos cuales son los barrios más caros y cuales son los más baratos vamos a ver algunas comparaciones gráficas para entender mejor sus diferencias en diferentes atributos del dataset. Vamos a ver las distribuciones según:\n",
        "- Superficie total en m2\n",
        "- Cuartos totales \n",
        "- Precio en dolares por m2"
      ]
    },
    {
      "cell_type": "code",
      "metadata": {
        "id": "xdOpM1hkMt4I",
        "colab_type": "code",
        "colab": {}
      },
      "source": [
        "barrios_caros = mas_caros.index \n",
        "barrios_baratos = mas_baratos.index"
      ],
      "execution_count": 0,
      "outputs": []
    },
    {
      "cell_type": "code",
      "metadata": {
        "id": "dDJspEEPMt4M",
        "colab_type": "code",
        "colab": {}
      },
      "source": [
        "g = sns.distplot(df_filtered[df_filtered.barrio.isin(barrios_baratos)].surface_total_in_m2, label=\"Barrios baratos\")\n",
        "sns.distplot(df_filtered[df_filtered.barrio.isin(barrios_caros)].surface_total_in_m2, label=\"Barrios caros\")\n",
        "g.set_xlim(0, 400)\n",
        "plt.legend()"
      ],
      "execution_count": 0,
      "outputs": []
    },
    {
      "cell_type": "code",
      "metadata": {
        "id": "um0bUt_uMt4O",
        "colab_type": "code",
        "colab": {}
      },
      "source": [
        "g = sns.distplot(df_filtered[df_filtered.barrio.isin(barrios_baratos)].rooms, label=\"Barrios baratos\")\n",
        "sns.distplot(df_filtered[df_filtered.barrio.isin(barrios_caros)].rooms, label=\"Barrios caros\")\n",
        "g.set_xlim(0, 10)\n",
        "plt.legend()"
      ],
      "execution_count": 0,
      "outputs": []
    },
    {
      "cell_type": "code",
      "metadata": {
        "id": "vo0vZaGxMt4S",
        "colab_type": "code",
        "colab": {}
      },
      "source": [
        "g = sns.distplot(df_filtered[df_filtered.barrio.isin(barrios_baratos)].price_usd_per_m2, label=\"Barrios baratos\")\n",
        "sns.distplot(df_filtered[df_filtered.barrio.isin(barrios_caros)].price_usd_per_m2, label=\"Barrios caros\")\n",
        "plt.legend()"
      ],
      "execution_count": 0,
      "outputs": []
    },
    {
      "cell_type": "markdown",
      "metadata": {
        "id": "eTWR71jvMt4V",
        "colab_type": "text"
      },
      "source": [
        "### Barrios que quieren ser otros"
      ]
    },
    {
      "cell_type": "markdown",
      "metadata": {
        "id": "8JrkIzALMt4X",
        "colab_type": "text"
      },
      "source": [
        "Basado en información de mercado, desde el portal Properati han señalado que las inmobiliarias suelen publicar las propiedades ubicadas en barrios que no necesariamente se corresponden con la ubicación geográfica real. Según mencionan en la nota ([blog)](http://blog.properati.com.ar/barrios-que-quieren-ser-otros/), esto corresponde a una lógica comercial en el corredor norte y a usos y costumbres en zona oeste.\n",
        "\n",
        "Analicemos qué sucede para nuestro dataset."
      ]
    },
    {
      "cell_type": "markdown",
      "metadata": {
        "id": "wO5LNUA-Mt4Y",
        "colab_type": "text"
      },
      "source": [
        "Dada la estructura del atributo `place_with_parent_names`, en primer lugar vamos a extraer el campo asociado al barrio publicado para poder comparar con el que surge de la cartografía oficial. Esto lo vamos a agregar en una nueva columna llamada `barrio_publicado`. \n",
        "\n",
        "De este modo, lo que vamos a analizar es como se relacionan las columnas `barrio` y `barrio publicado`. Si efectivamente hay barrios que quieren ser otros, esperaríamos ver propiedades ubicadas en geográficamente en un barrio distinto al que dice la publicación. Por ejemplo, si una propiedad está ubicada (dadas sus coordenadas) en Villa Crespo pero en la publicación dice Palermo, entonces decimos que hay indicios que Villa Crespo quiere ser Palermo.\n",
        "\n",
        "Viendo la estructura de este atributo, podemos notar que se compone por una sequencia de lugares separados por `|`. Por ejemplo, en `|Argentina|Capital Federal|Palermo|` vemos que primero está el país, luego la ciudad, luego el barrio y en algunos casos hay una jerarquía más, relacionado con zonas dentro del barrio (como Palermo Soho dentro de Palermo). \n",
        "\n",
        "De este modo, una estrategia posible para resolver esto es separar las jerarquías por `|` y extraer el elemento asociado al barrio. Por ejemplo, para `|Argentina|Capital Federal|Palermo|` queda `['', 'Argentina', 'Capital Federal', 'Palermo', '']`. Extrayendo el tercer elemento obtendremos el barrio independientemente de si hay lugares luego en la jerarquía. Aquellos que no tengan barrio no serán considerados puesto que estarían ubicados en Capital Federal y no sería informativo.\n",
        "\n",
        "Lo pasamos a mayúsculas y quitamos las tildes para poder comparar con el barrio oficial."
      ]
    },
    {
      "cell_type": "code",
      "metadata": {
        "id": "1bGFV2oRMt4a",
        "colab_type": "code",
        "colab": {}
      },
      "source": [
        "df_filtered['place_with_parent_names'].apply(lambda x: len(x.split(\"|\"))).unique()"
      ],
      "execution_count": 0,
      "outputs": []
    },
    {
      "cell_type": "markdown",
      "metadata": {
        "id": "4bgCnsu0Mt4f",
        "colab_type": "text"
      },
      "source": [
        "Como algunos tienen 4 elementos, debemos quitarlos."
      ]
    },
    {
      "cell_type": "code",
      "metadata": {
        "id": "tOpv4SUTMt4g",
        "colab_type": "code",
        "colab": {}
      },
      "source": [
        "split_place_filter = df_filtered['place_with_parent_names'].apply(lambda x: len(x.split(\"|\"))!=4)\n",
        "df_filtered = df_filtered.loc[split_place_filter]"
      ],
      "execution_count": 0,
      "outputs": []
    },
    {
      "cell_type": "code",
      "metadata": {
        "id": "LAZ3eNKmMt4j",
        "colab_type": "code",
        "colab": {}
      },
      "source": [
        "df_filtered['barrio_publicado'] = df_filtered['place_with_parent_names'].apply( lambda x: x.split(\"|\")[3].upper())\n",
        "df_filtered['barrio_publicado'] = df_filtered['barrio_publicado'].str.normalize('NFKD').str.encode('ascii', errors='ignore').str.decode('utf-8')"
      ],
      "execution_count": 0,
      "outputs": []
    },
    {
      "cell_type": "markdown",
      "metadata": {
        "id": "szfIVC-3Mt4n",
        "colab_type": "text"
      },
      "source": [
        "Comparemos entonces el barrio publicado con el real. Nos vamos a quedar con aquellas propiedades donde nos coincidan para luego hacer el conteo por barrio."
      ]
    },
    {
      "cell_type": "code",
      "metadata": {
        "id": "uQ8VqM5YMt4o",
        "colab_type": "code",
        "colab": {}
      },
      "source": [
        "barrios_match = (df_filtered['barrio_publicado'] != df_filtered['barrio'])\n",
        "df_filtered_barrio_not_match = df_filtered.loc[barrios_match]"
      ],
      "execution_count": 0,
      "outputs": []
    },
    {
      "cell_type": "markdown",
      "metadata": {
        "id": "BK--l8vkMt4q",
        "colab_type": "text"
      },
      "source": [
        "Con una tabla de doble entrada podemos identificar para cada barrio cuál es al que más quiere parecerse."
      ]
    },
    {
      "cell_type": "code",
      "metadata": {
        "id": "_AzVL-kQMt4r",
        "colab_type": "code",
        "colab": {}
      },
      "source": [
        "table = pd.crosstab(df_filtered_barrio_not_match.barrio, df_filtered_barrio_not_match.barrio_publicado)\n",
        "table.idxmax(axis=1)"
      ],
      "execution_count": 0,
      "outputs": []
    },
    {
      "cell_type": "markdown",
      "metadata": {
        "id": "wgJNaXcqMt4t",
        "colab_type": "text"
      },
      "source": [
        "Podemos ver entonces que los barrios tienden a querer parecerse a barrios con precio con metro cuadrado más caro. Por ejemplo Villa Crespo con Palermo, Constitución con San Telmo y Villa Urquiza con Belgrano. \n",
        "\n",
        "Por otro lado, vemos también que los barrios suelen querer parecerse a sus barrios vecinos."
      ]
    }
  ]
}