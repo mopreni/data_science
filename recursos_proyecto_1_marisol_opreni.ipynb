{
  "nbformat": 4,
  "nbformat_minor": 0,
  "metadata": {
    "kernelspec": {
      "display_name": "Python 3",
      "language": "python",
      "name": "python3"
    },
    "language_info": {
      "codemirror_mode": {
        "name": "ipython",
        "version": 3
      },
      "file_extension": ".py",
      "mimetype": "text/x-python",
      "name": "python",
      "nbconvert_exporter": "python",
      "pygments_lexer": "ipython3",
      "version": "3.6.5"
    },
    "colab": {
      "name": "recursos_proyecto_1_marisol_opreni.ipynb",
      "provenance": [],
      "collapsed_sections": [],
      "include_colab_link": true
    }
  },
  "cells": [
    {
      "cell_type": "markdown",
      "metadata": {
        "id": "view-in-github",
        "colab_type": "text"
      },
      "source": [
        "<a href=\"https://colab.research.google.com/github/mopreni/data_science/blob/master/recursos_proyecto_1_marisol_opreni.ipynb\" target=\"_parent\"><img src=\"https://colab.research.google.com/assets/colab-badge.svg\" alt=\"Open In Colab\"/></a>"
      ]
    },
    {
      "cell_type": "markdown",
      "metadata": {
        "id": "XIELhioIMt2Y",
        "colab_type": "text"
      },
      "source": [
        "# Proyecto: Análisis mercado inmobiliario de la Ciudad de Buenos Aires"
      ]
    },
    {
      "cell_type": "code",
      "metadata": {
        "id": "tdJI3p0N9oBy",
        "colab_type": "code",
        "colab": {}
      },
      "source": [
        "from google.colab import drive\n",
        "drive.mount('/content/drive')"
      ],
      "execution_count": 0,
      "outputs": []
    },
    {
      "cell_type": "markdown",
      "metadata": {
        "id": "hQWBS7UvMt2b",
        "colab_type": "text"
      },
      "source": [
        "¡Bienvenidos al primer proyecto de la carrera de Data Science de Acamica! \n",
        "\n",
        "En este proyecto vamos a trabajar con un dataset de propiedades en venta publicadas en el portal [Properati](www.properati.com.ar). El objetivo es dar los primeros pasos en el proceso de exploración de datos usando las herramientas que trabajamos en las activades.\n",
        "\n",
        "Vamos a enfocarnos en analizar algunos aspectos del mercado inmobiliario de la Ciudad de Buenos Aires pero para eso primero debemos limpiar un poco el dataset."
      ]
    },
    {
      "cell_type": "markdown",
      "metadata": {
        "id": "Z3TqzRkuMt2c",
        "colab_type": "text"
      },
      "source": [
        "## El dataset: propiedades en venta en Ciudad de Buenos Aires."
      ]
    },
    {
      "cell_type": "markdown",
      "metadata": {
        "id": "TX4Xm65WMt2d",
        "colab_type": "text"
      },
      "source": [
        "En este proyecto, trabajaremos con una muestra del conjunto de datos de propiedades en venta mencionado. En este dataset, cada fila es una propiedad en venta. \n",
        "\n",
        "## Los atributos\n",
        "A continuación vamos a describir los atributos que consideramos en esta muestra:\n",
        "\n",
        "* **id**: id de la propiedad\n",
        "* **created_on**: fecha en la que la propiedad ingresó al sitio\n",
        "* **operation**: alquiler (rent) o venta (sell)\n",
        "* **property_type**: tipo de propiedad (casa, departamento, ph, etcétera)\n",
        "* **place_with_parent_names**: nombre del lugar donde se encuentra la propiedad según el publicador\n",
        "* **lat-lon**: coordenadas concatenadas\n",
        "* **lat**: latitud\n",
        "* **lon**: longitud\n",
        "* **price**: precio en la moneda especificada en currency\n",
        "* **currency**: divisa en la que está expresada la publicación\n",
        "* **price_aprox_usd**: precio aproximado en dólares estadounidenses\n",
        "* **surface_total_in_m2**: superficie total (en metros cuadrados)\n",
        "* **surface_covered_in_m2**: superficie cubierta (en metros cuadrados)\n",
        "* **price_usd_per_m2**: precio por metro cuadrado en dólares (precio dólares / superficie)\n",
        "* **floor**: número de piso (si corresponde)\n",
        "* **rooms**: cantidad de ambientes\n",
        "* **expenses**: expensas (si corresponde)\n",
        "* **barrio**: barrio según cartografía oficial\n",
        "* **properati_url**: url de la publicación en Properati\n"
      ]
    },
    {
      "cell_type": "markdown",
      "metadata": {
        "id": "a7U_JiTNMt2e",
        "colab_type": "text"
      },
      "source": [
        "## Importando las bibliotecas necesarias\n",
        "\n",
        "Para poder trabajar en la limpieza de datos y la visualización de nuestro dataset vamos a utilizar las bibliotecas numpy, pandas, matplotlib.pylab y seaborn. \n",
        "\n",
        "** 1) Importá ** cada una de ellas con los siguientes nombres: \n",
        "- **numpy** como **np**\n",
        "- **pandas** como **pd**\n",
        "- **matplotlib.pylab** como **plt**\n",
        "- **seaborn** como **sns**\n"
      ]
    },
    {
      "cell_type": "code",
      "metadata": {
        "id": "rUuKrxXrMt2f",
        "colab_type": "code",
        "colab": {}
      },
      "source": [
        "# Importar bibliotecas en esta celda\n",
        "import numpy as np\n",
        "import pandas as pd\n",
        "import matplotlib.pylab as plt\n",
        "import seaborn as sns"
      ],
      "execution_count": 0,
      "outputs": []
    },
    {
      "cell_type": "code",
      "metadata": {
        "id": "D2DX-B3KMt2j",
        "colab_type": "code",
        "colab": {}
      },
      "source": [
        "# La siguiente línea es para ver las imagenes dentro del notebook\n",
        "%matplotlib inline\n",
        "# Acá configuramos el tamaño de las figuras\n",
        "plt.rcParams['figure.figsize'] = (12,8)\n",
        "# Seteamos opciones de pandas sobre las columnas y su ancho\n",
        "pd.set_option('max_columns', 120)\n",
        "pd.set_option('max_colwidth', 5000)\n"
      ],
      "execution_count": 0,
      "outputs": []
    },
    {
      "cell_type": "markdown",
      "metadata": {
        "id": "KuL6l2odMt2n",
        "colab_type": "text"
      },
      "source": [
        "## Cargando dataset de propiedades\n",
        "\n",
        "**2) Cargá** el dataset que se encuentra en la carpeta *dataset/* y guardalo en una variable llamada **df**. \n",
        "No te olvides de utilizar **parse_dates** sobre la columna **created_on**\n"
      ]
    },
    {
      "cell_type": "code",
      "metadata": {
        "id": "RbJEaOwlMt2o",
        "colab_type": "code",
        "colab": {}
      },
      "source": [
        "# cargá el dataset en esta celda\n",
        "df = pd.read_csv(\"datos_properati.csv\", parse_dates = ['created_on'])\n"
      ],
      "execution_count": 0,
      "outputs": []
    },
    {
      "cell_type": "code",
      "metadata": {
        "id": "euX-afp10y5X",
        "colab_type": "code",
        "colab": {
          "base_uri": "https://localhost:8080/",
          "height": 318
        },
        "outputId": "ed5b9022-ad7b-4793-89e9-a6a94f979897"
      },
      "source": [
        "df.dtypes"
      ],
      "execution_count": 101,
      "outputs": [
        {
          "output_type": "execute_result",
          "data": {
            "text/plain": [
              "created_on                 datetime64[ns]\n",
              "operation                          object\n",
              "property_type                      object\n",
              "place_with_parent_names            object\n",
              "lat-lon                            object\n",
              "lat                               float64\n",
              "lon                               float64\n",
              "price_aprox_usd                   float64\n",
              "surface_total_in_m2               float64\n",
              "surface_covered_in_m2             float64\n",
              "price_usd_per_m2                  float64\n",
              "floor                             float64\n",
              "rooms                             float64\n",
              "expenses                          float64\n",
              "properati_url                      object\n",
              "barrio                             object\n",
              "comuna                            float64\n",
              "dtype: object"
            ]
          },
          "metadata": {
            "tags": []
          },
          "execution_count": 101
        }
      ]
    },
    {
      "cell_type": "markdown",
      "metadata": {
        "id": "i7l0Ah8GMt2s",
        "colab_type": "text"
      },
      "source": [
        "## Exploración de datos"
      ]
    },
    {
      "cell_type": "markdown",
      "metadata": {
        "id": "8kHIQTk5Mt2t",
        "colab_type": "text"
      },
      "source": [
        "Lo primero que vamos a hacer es ver qué forma tiene el dataset que acabamos de cargar. Para eso vamos a mostrar las primeras 3 entradas del mismo y utilizar la propiedad `shape` para ver la cantidad de instancias y atributos con los que vamos a estar trabajando."
      ]
    },
    {
      "cell_type": "code",
      "metadata": {
        "id": "eJPIRnDcMt2u",
        "colab_type": "code",
        "outputId": "2554b1dd-1ecd-4da4-bfa6-85dccf2cecf8",
        "colab": {
          "base_uri": "https://localhost:8080/",
          "height": 290
        }
      },
      "source": [
        "print(df.shape)\n",
        "df.head(3)"
      ],
      "execution_count": 102,
      "outputs": [
        {
          "output_type": "stream",
          "text": [
            "(18979, 17)\n"
          ],
          "name": "stdout"
        },
        {
          "output_type": "execute_result",
          "data": {
            "text/html": [
              "<div>\n",
              "<style scoped>\n",
              "    .dataframe tbody tr th:only-of-type {\n",
              "        vertical-align: middle;\n",
              "    }\n",
              "\n",
              "    .dataframe tbody tr th {\n",
              "        vertical-align: top;\n",
              "    }\n",
              "\n",
              "    .dataframe thead th {\n",
              "        text-align: right;\n",
              "    }\n",
              "</style>\n",
              "<table border=\"1\" class=\"dataframe\">\n",
              "  <thead>\n",
              "    <tr style=\"text-align: right;\">\n",
              "      <th></th>\n",
              "      <th>created_on</th>\n",
              "      <th>operation</th>\n",
              "      <th>property_type</th>\n",
              "      <th>place_with_parent_names</th>\n",
              "      <th>lat-lon</th>\n",
              "      <th>lat</th>\n",
              "      <th>lon</th>\n",
              "      <th>price_aprox_usd</th>\n",
              "      <th>surface_total_in_m2</th>\n",
              "      <th>surface_covered_in_m2</th>\n",
              "      <th>price_usd_per_m2</th>\n",
              "      <th>floor</th>\n",
              "      <th>rooms</th>\n",
              "      <th>expenses</th>\n",
              "      <th>properati_url</th>\n",
              "      <th>barrio</th>\n",
              "      <th>comuna</th>\n",
              "    </tr>\n",
              "  </thead>\n",
              "  <tbody>\n",
              "    <tr>\n",
              "      <th>0</th>\n",
              "      <td>2017-09-22</td>\n",
              "      <td>sell</td>\n",
              "      <td>house</td>\n",
              "      <td>|Argentina|Capital Federal|Palermo|Palermo Viejo|</td>\n",
              "      <td>-34.5889531469,-58.4298817776</td>\n",
              "      <td>-34.588953</td>\n",
              "      <td>-58.429882</td>\n",
              "      <td>2000000.0</td>\n",
              "      <td>312.0</td>\n",
              "      <td>NaN</td>\n",
              "      <td>6410.25641</td>\n",
              "      <td>NaN</td>\n",
              "      <td>NaN</td>\n",
              "      <td>NaN</td>\n",
              "      <td>https://www.properati.com.ar/2os_venta_casa_palermo-viejo_rent-ba</td>\n",
              "      <td>PALERMO</td>\n",
              "      <td>14.0</td>\n",
              "    </tr>\n",
              "    <tr>\n",
              "      <th>1</th>\n",
              "      <td>2017-08-01</td>\n",
              "      <td>sell</td>\n",
              "      <td>store</td>\n",
              "      <td>|Argentina|Capital Federal|Palermo|</td>\n",
              "      <td>-34.586069,-58.414431</td>\n",
              "      <td>-34.586069</td>\n",
              "      <td>-58.414431</td>\n",
              "      <td>790000.0</td>\n",
              "      <td>121.0</td>\n",
              "      <td>121.0</td>\n",
              "      <td>6528.92562</td>\n",
              "      <td>NaN</td>\n",
              "      <td>NaN</td>\n",
              "      <td>NaN</td>\n",
              "      <td>https://www.properati.com.ar/1cl7l_venta_local_palermo_santa-fe-av-al-3500_sotano_garage_subte-linea-d_deptos-temporarios</td>\n",
              "      <td>PALERMO</td>\n",
              "      <td>14.0</td>\n",
              "    </tr>\n",
              "    <tr>\n",
              "      <th>2</th>\n",
              "      <td>2017-08-02</td>\n",
              "      <td>sell</td>\n",
              "      <td>store</td>\n",
              "      <td>|Argentina|Capital Federal|Palermo|Palermo Soho|</td>\n",
              "      <td>-34.589723,-58.4325664</td>\n",
              "      <td>-34.589723</td>\n",
              "      <td>-58.432566</td>\n",
              "      <td>343000.0</td>\n",
              "      <td>122.0</td>\n",
              "      <td>108.0</td>\n",
              "      <td>2811.47541</td>\n",
              "      <td>NaN</td>\n",
              "      <td>2.0</td>\n",
              "      <td>NaN</td>\n",
              "      <td>https://www.properati.com.ar/1cm8w_venta_local_palermo-soho_cabrera-jose-a-_5000_jardin_lavadero_patio_piscina_toilette_garage_ojo-propiedades</td>\n",
              "      <td>PALERMO</td>\n",
              "      <td>14.0</td>\n",
              "    </tr>\n",
              "  </tbody>\n",
              "</table>\n",
              "</div>"
            ],
            "text/plain": [
              "  created_on operation property_type  \\\n",
              "0 2017-09-22      sell         house   \n",
              "1 2017-08-01      sell         store   \n",
              "2 2017-08-02      sell         store   \n",
              "\n",
              "                             place_with_parent_names  \\\n",
              "0  |Argentina|Capital Federal|Palermo|Palermo Viejo|   \n",
              "1                |Argentina|Capital Federal|Palermo|   \n",
              "2   |Argentina|Capital Federal|Palermo|Palermo Soho|   \n",
              "\n",
              "                         lat-lon        lat        lon  price_aprox_usd  \\\n",
              "0  -34.5889531469,-58.4298817776 -34.588953 -58.429882        2000000.0   \n",
              "1          -34.586069,-58.414431 -34.586069 -58.414431         790000.0   \n",
              "2         -34.589723,-58.4325664 -34.589723 -58.432566         343000.0   \n",
              "\n",
              "   surface_total_in_m2  surface_covered_in_m2  price_usd_per_m2  floor  rooms  \\\n",
              "0                312.0                    NaN        6410.25641    NaN    NaN   \n",
              "1                121.0                  121.0        6528.92562    NaN    NaN   \n",
              "2                122.0                  108.0        2811.47541    NaN    2.0   \n",
              "\n",
              "   expenses  \\\n",
              "0       NaN   \n",
              "1       NaN   \n",
              "2       NaN   \n",
              "\n",
              "                                                                                                                                    properati_url  \\\n",
              "0                                                                               https://www.properati.com.ar/2os_venta_casa_palermo-viejo_rent-ba   \n",
              "1                       https://www.properati.com.ar/1cl7l_venta_local_palermo_santa-fe-av-al-3500_sotano_garage_subte-linea-d_deptos-temporarios   \n",
              "2  https://www.properati.com.ar/1cm8w_venta_local_palermo-soho_cabrera-jose-a-_5000_jardin_lavadero_patio_piscina_toilette_garage_ojo-propiedades   \n",
              "\n",
              "    barrio  comuna  \n",
              "0  PALERMO    14.0  \n",
              "1  PALERMO    14.0  \n",
              "2  PALERMO    14.0  "
            ]
          },
          "metadata": {
            "tags": []
          },
          "execution_count": 102
        }
      ]
    },
    {
      "cell_type": "markdown",
      "metadata": {
        "id": "OQy-GwBxMt2y",
        "colab_type": "text"
      },
      "source": [
        "## Categorías de propiedades\n",
        "En primer lugar vamos a ver qué categorías existen en el campo `property_type`. Y de esas categorías cuantos valores tenemos de cada uno.\n",
        "\n",
        "**3) Mostrá** las categorías de `property_type` y cuántas instancias hay de cada una.\n",
        "\n",
        "Recordá utilizar funciones del **dataframe** de pandas para realizar esto."
      ]
    },
    {
      "cell_type": "code",
      "metadata": {
        "id": "RmSoTpvuMt2z",
        "colab_type": "code",
        "colab": {
          "base_uri": "https://localhost:8080/",
          "height": 100
        },
        "outputId": "f48158bb-01ed-4711-e4df-66fc2e3da3c5"
      },
      "source": [
        "# mostrá las categorías del campo property_type y mostrá la cant. de valores en esta celda\n",
        "#df.property_type.unique()\n",
        "df.property_type.value_counts()\n"
      ],
      "execution_count": 103,
      "outputs": [
        {
          "output_type": "execute_result",
          "data": {
            "text/plain": [
              "apartment    14807\n",
              "house         1618\n",
              "PH            1463\n",
              "store         1091\n",
              "Name: property_type, dtype: int64"
            ]
          },
          "metadata": {
            "tags": []
          },
          "execution_count": 103
        }
      ]
    },
    {
      "cell_type": "code",
      "metadata": {
        "id": "TeMxhm8HE0gY",
        "colab_type": "code",
        "outputId": "8e1f291b-e383-4ff4-c10a-0c4de5363de1",
        "colab": {
          "base_uri": "https://localhost:8080/",
          "height": 100
        }
      },
      "source": [
        "df.columns"
      ],
      "execution_count": 104,
      "outputs": [
        {
          "output_type": "execute_result",
          "data": {
            "text/plain": [
              "Index(['created_on', 'operation', 'property_type', 'place_with_parent_names',\n",
              "       'lat-lon', 'lat', 'lon', 'price_aprox_usd', 'surface_total_in_m2',\n",
              "       'surface_covered_in_m2', 'price_usd_per_m2', 'floor', 'rooms',\n",
              "       'expenses', 'properati_url', 'barrio', 'comuna'],\n",
              "      dtype='object')"
            ]
          },
          "metadata": {
            "tags": []
          },
          "execution_count": 104
        }
      ]
    },
    {
      "cell_type": "markdown",
      "metadata": {
        "id": "xwV2gdMaMt22",
        "colab_type": "text"
      },
      "source": [
        "### Filtrando las categorías\n",
        "\n",
        "De las categorías existentes sólo queremos quedarnos con las que sean casas (house), departamentos (apartment) o PH (PH). \n",
        "\n",
        "Para esto, \n",
        "\n",
        "**4) filtrá** el `dataframe` original creando un **nuevo** `dataframe` llamado `df_filtered`. Este es el `dataframe` que seguirás usando a lo largo del análisis.\n"
      ]
    },
    {
      "cell_type": "code",
      "metadata": {
        "id": "D47OfFROMt23",
        "colab_type": "code",
        "outputId": "15ce43de-97c3-42c6-ee39-7b123ba0826a",
        "colab": {
          "base_uri": "https://localhost:8080/",
          "height": 84
        }
      },
      "source": [
        "# Filtrá el dataframe en esta celda\n",
        "df_filtered = df[df.property_type != \"store\"]\n",
        "df_filtered.property_type.value_counts()"
      ],
      "execution_count": 105,
      "outputs": [
        {
          "output_type": "execute_result",
          "data": {
            "text/plain": [
              "apartment    14807\n",
              "house         1618\n",
              "PH            1463\n",
              "Name: property_type, dtype: int64"
            ]
          },
          "metadata": {
            "tags": []
          },
          "execution_count": 105
        }
      ]
    },
    {
      "cell_type": "markdown",
      "metadata": {
        "id": "7DDwFLuFMt25",
        "colab_type": "text"
      },
      "source": [
        "### Visualizando las categorías\n",
        "**5)** Utilizando `seaborn` **creá un countplot** para visualizar las categorías de `df_filtered` en el campo `property_type` "
      ]
    },
    {
      "cell_type": "code",
      "metadata": {
        "id": "fW6s1el6Mt26",
        "colab_type": "code",
        "outputId": "fa9a258a-566b-46ca-bf80-ba2def9c781e",
        "colab": {
          "base_uri": "https://localhost:8080/",
          "height": 280
        }
      },
      "source": [
        "# Visualizá las categorías en esta celda\n",
        "%matplotlib inline\n",
        "ax = sns.countplot(x='property_type',  data=df_filtered)\n",
        "plt.show()"
      ],
      "execution_count": 106,
      "outputs": [
        {
          "output_type": "display_data",
          "data": {
            "image/png": "[encoded data removed]",
            "text/plain": [
              "<Figure size 432x288 with 1 Axes>"
            ]
          },
          "metadata": {
            "tags": []
          }
        }
      ]
    },
    {
      "cell_type": "markdown",
      "metadata": {
        "id": "dRdv9VyyMt29",
        "colab_type": "text"
      },
      "source": [
        "## Valores Faltantes"
      ]
    },
    {
      "cell_type": "markdown",
      "metadata": {
        "id": "645-wlZrMt2-",
        "colab_type": "text"
      },
      "source": [
        "Vamos a querer descartar aquellas instancias que tengan valores nulos en columnas importantes para el análisis del mercado.\n",
        "Estas columnas son las que informan **superficie (total o cubierta)**, **cantidad de ambientes**, **precio** y **precio por metro cuadrado**.\n",
        "\n",
        "**6) Quitá** del `dataframe` las instancias que no tengan ningún valor en los campos nombrados."
      ]
    },
    {
      "cell_type": "code",
      "metadata": {
        "id": "_4921aJ_Mt2_",
        "colab_type": "code",
        "outputId": "c5a04f2d-98a7-4b7f-a1ad-6537987e348b",
        "colab": {
          "base_uri": "https://localhost:8080/",
          "height": 120
        }
      },
      "source": [
        "# Quitá las instancias con valores nulos en esta celda\n",
        "df_filtered.dropna(subset=['surface_total_in_m2', 'surface_covered_in_m2', 'price_usd_per_m2', \"rooms\"], inplace=True) "
      ],
      "execution_count": 107,
      "outputs": [
        {
          "output_type": "stream",
          "text": [
            "/usr/local/lib/python3.6/dist-packages/ipykernel_launcher.py:1: SettingWithCopyWarning: \n",
            "A value is trying to be set on a copy of a slice from a DataFrame\n",
            "\n",
            "See the caveats in the documentation: https://pandas.pydata.org/pandas-docs/stable/user_guide/indexing.html#returning-a-view-versus-a-copy\n",
            "  \"\"\"Entry point for launching an IPython kernel.\n"
          ],
          "name": "stderr"
        }
      ]
    },
    {
      "cell_type": "markdown",
      "metadata": {
        "id": "LnrGv_GdMt3B",
        "colab_type": "text"
      },
      "source": [
        "**7)** A continuación **mostrá** cuantas instancias son las que descartaste a partir de quitar las que tenían valores nulos."
      ]
    },
    {
      "cell_type": "code",
      "metadata": {
        "id": "kdo537OJMt3C",
        "colab_type": "code",
        "outputId": "81f1393a-e020-43fd-d53c-b687ebaf22a4",
        "colab": {
          "base_uri": "https://localhost:8080/",
          "height": 33
        }
      },
      "source": [
        "# Mostrá en esta celda la cantidad de instancias descartadas\n",
        "df.shape"
      ],
      "execution_count": 108,
      "outputs": [
        {
          "output_type": "execute_result",
          "data": {
            "text/plain": [
              "(18979, 17)"
            ]
          },
          "metadata": {
            "tags": []
          },
          "execution_count": 108
        }
      ]
    },
    {
      "cell_type": "code",
      "metadata": {
        "id": "2w7BgeitH3yT",
        "colab_type": "code",
        "outputId": "7b1d7103-2da0-416a-b313-b393e711da66",
        "colab": {
          "base_uri": "https://localhost:8080/",
          "height": 33
        }
      },
      "source": [
        "df_filtered.shape"
      ],
      "execution_count": 109,
      "outputs": [
        {
          "output_type": "execute_result",
          "data": {
            "text/plain": [
              "(11975, 17)"
            ]
          },
          "metadata": {
            "tags": []
          },
          "execution_count": 109
        }
      ]
    },
    {
      "cell_type": "code",
      "metadata": {
        "id": "ozExdTiJIDIx",
        "colab_type": "code",
        "outputId": "e69c03db-4e56-4ab4-f29e-b68e12c98530",
        "colab": {
          "base_uri": "https://localhost:8080/",
          "height": 33
        }
      },
      "source": [
        "len(df) - len(df_filtered)"
      ],
      "execution_count": 110,
      "outputs": [
        {
          "output_type": "execute_result",
          "data": {
            "text/plain": [
              "7004"
            ]
          },
          "metadata": {
            "tags": []
          },
          "execution_count": 110
        }
      ]
    },
    {
      "cell_type": "markdown",
      "metadata": {
        "id": "Zwz54JhdMt3F",
        "colab_type": "text"
      },
      "source": [
        "Posiblemente existan otros atributos con valores faltantes en el dataset, pero que no son de tanta importancia. \n",
        "\n",
        "**8) Mostrá** qué otros atributos tienen valores faltantes en el `dataframe`."
      ]
    },
    {
      "cell_type": "code",
      "metadata": {
        "id": "Op4xMZr1Mt3F",
        "colab_type": "code",
        "outputId": "8bf5253e-741e-49e3-9376-acb0cb1ee574",
        "colab": {
          "base_uri": "https://localhost:8080/",
          "height": 318
        }
      },
      "source": [
        "# Mostrá en esta celda los otros atributos con valores faltantes\n",
        "df_filtered.isnull().sum()\n"
      ],
      "execution_count": 111,
      "outputs": [
        {
          "output_type": "execute_result",
          "data": {
            "text/plain": [
              "created_on                     0\n",
              "operation                      0\n",
              "property_type                  0\n",
              "place_with_parent_names        0\n",
              "lat-lon                        0\n",
              "lat                            0\n",
              "lon                            0\n",
              "price_aprox_usd                0\n",
              "surface_total_in_m2            0\n",
              "surface_covered_in_m2          0\n",
              "price_usd_per_m2               0\n",
              "floor                      10112\n",
              "rooms                          0\n",
              "expenses                    9703\n",
              "properati_url                  0\n",
              "barrio                         0\n",
              "comuna                         0\n",
              "dtype: int64"
            ]
          },
          "metadata": {
            "tags": []
          },
          "execution_count": 111
        }
      ]
    },
    {
      "cell_type": "markdown",
      "metadata": {
        "id": "xF87WeHFMt3I",
        "colab_type": "text"
      },
      "source": [
        "#### Desafío: planteá alguna estrategia posible para reemplazar los valores faltantes en el atributo `surface_total_in_m2`."
      ]
    },
    {
      "cell_type": "markdown",
      "metadata": {
        "id": "eiAZXAddIiig",
        "colab_type": "text"
      },
      "source": [
        "Cuando aparezca un valor nulo en el campo superficie total faltante en m2 y sea necesario reemplazarlo, podría verificar otras instancias de propiedades que se encuentren en el mismo barrio, cantidad de ambientes, precio y tipo de operación. Reemplazaría el valor nulo por el promedio de la superficies totales en m2 encontradas con esos criterios."
      ]
    },
    {
      "cell_type": "markdown",
      "metadata": {
        "id": "nTvwOL7gMt3J",
        "colab_type": "text"
      },
      "source": [
        "## Datos erróneos"
      ]
    },
    {
      "cell_type": "markdown",
      "metadata": {
        "id": "XNjSJyDQMt3K",
        "colab_type": "text"
      },
      "source": [
        "El siguiente paso es analizar errores que puede llegar a haber en el dataset. \n",
        "\n",
        "Por ejemplo, la **superficie total no puede ser menor que la cubierta**. Si esto sucede, podemos optar por eliminar esas filas o intentar corregir el problema. Veamos en primer lugar si esto sucede.\n",
        "\n",
        "**9) Mostrá** cuantas instancias existen que tengan el problema de este dato erróneo y guardalas en una variable llamada `wrong_surface_rows`"
      ]
    },
    {
      "cell_type": "code",
      "metadata": {
        "id": "u6tq8dFUMt3M",
        "colab_type": "code",
        "outputId": "fcae4668-629b-4e19-ce98-a135887ab586",
        "colab": {
          "base_uri": "https://localhost:8080/",
          "height": 33
        }
      },
      "source": [
        "# Mostrá en esta celda cuántas instancias tienen errores en la superficie\n",
        "wrong_surface_rows = df_filtered[df_filtered.surface_covered_in_m2 > df_filtered.surface_total_in_m2]\n",
        "len(wrong_surface_rows)"
      ],
      "execution_count": 112,
      "outputs": [
        {
          "output_type": "execute_result",
          "data": {
            "text/plain": [
              "73"
            ]
          },
          "metadata": {
            "tags": []
          },
          "execution_count": 112
        }
      ]
    },
    {
      "cell_type": "markdown",
      "metadata": {
        "id": "6swzVQvnMt3O",
        "colab_type": "text"
      },
      "source": [
        "Proponemos no borrar estas instancias erróneas, sino intercambiar los valores de **superficie total** con **superficie cubierta** en caso de que se cumpla la condición mencionada."
      ]
    },
    {
      "cell_type": "code",
      "metadata": {
        "id": "nbIKT1GSMt3P",
        "colab_type": "code",
        "outputId": "b2431cee-2151-4092-cc7d-8b853b9dce10",
        "colab": {
          "base_uri": "https://localhost:8080/",
          "height": 137
        }
      },
      "source": [
        "df_filtered.at[wrong_surface_rows.index, 'surface_total_in_m2'] = wrong_surface_rows.surface_covered_in_m2\n",
        "df_filtered.at[wrong_surface_rows.index, 'surface_covered_in_m2'] = wrong_surface_rows.surface_total_in_m2"
      ],
      "execution_count": 113,
      "outputs": [
        {
          "output_type": "stream",
          "text": [
            "/usr/local/lib/python3.6/dist-packages/pandas/core/indexing.py:966: SettingWithCopyWarning: \n",
            "A value is trying to be set on a copy of a slice from a DataFrame.\n",
            "Try using .loc[row_indexer,col_indexer] = value instead\n",
            "\n",
            "See the caveats in the documentation: https://pandas.pydata.org/pandas-docs/stable/user_guide/indexing.html#returning-a-view-versus-a-copy\n",
            "  self.obj[item] = s\n"
          ],
          "name": "stderr"
        }
      ]
    },
    {
      "cell_type": "markdown",
      "metadata": {
        "id": "dwyjoVd8Mt3R",
        "colab_type": "text"
      },
      "source": [
        "Por otro lado, sucede que las inmobiliarias cuando no cuentan con las coordenadas reales de las propiedades utilizan valores que no son correctos. Por ejemplo, el punto centro de cada barrio o puntos de interés como el Obelisco. Esto puede afectar el análisis relacionado con la ubicación de cada propiedad.\n",
        "\n",
        "Veamos en primer lugar si hay coordenadas que se repiten."
      ]
    },
    {
      "cell_type": "code",
      "metadata": {
        "id": "mmBtCYu-Mt3S",
        "colab_type": "code",
        "outputId": "9c35da36-f7dd-4652-f03c-132f60924742",
        "colab": {
          "base_uri": "https://localhost:8080/",
          "height": 217
        }
      },
      "source": [
        "conteo_puntos = df_filtered.groupby(['lat', 'lon']).size()\n",
        "conteo_puntos[conteo_puntos > 1].sort_values(ascending=False).head(10)"
      ],
      "execution_count": 114,
      "outputs": [
        {
          "output_type": "execute_result",
          "data": {
            "text/plain": [
              "lat         lon       \n",
              "-34.589546  -58.397364    149\n",
              "-34.571150  -58.423297    118\n",
              "-34.562084  -58.456686     77\n",
              "-34.620928  -58.445874     45\n",
              "-34.609821  -58.392606     36\n",
              "-34.597679  -58.443019     31\n",
              "-34.617719  -58.362056     31\n",
              "-34.621184  -58.373116     31\n",
              "-34.610122  -58.405941     31\n",
              "-34.598647  -58.439018     29\n",
              "dtype: int64"
            ]
          },
          "metadata": {
            "tags": []
          },
          "execution_count": 114
        }
      ]
    },
    {
      "cell_type": "markdown",
      "metadata": {
        "id": "7JG5dW1dMt3W",
        "colab_type": "text"
      },
      "source": [
        "Por ejemplo, para el caso del tercer punto, se puede verificar que corresponde a la esquina de Av. Cabildo y Juramento.\n",
        "Nos quedamos entonces con las propiedades con coordenadas que se repitan hasta 5 veces."
      ]
    },
    {
      "cell_type": "code",
      "metadata": {
        "id": "Ysx52shRMt3Y",
        "colab_type": "code",
        "colab": {}
      },
      "source": [
        "conteo_puntos.name = 'conteo'\n",
        "\n",
        "df_filtered = df_filtered.join(conteo_puntos, on=['lat', 'lon'])\n",
        "\n",
        "df_filtered = df_filtered[df_filtered.conteo <= 5]"
      ],
      "execution_count": 0,
      "outputs": []
    },
    {
      "cell_type": "markdown",
      "metadata": {
        "id": "qFOrJV2XMt3d",
        "colab_type": "text"
      },
      "source": [
        "Eliminamos el atributo `conteo` dado que ya no nos sirve."
      ]
    },
    {
      "cell_type": "code",
      "metadata": {
        "id": "qVmZpHKOMt3e",
        "colab_type": "code",
        "colab": {}
      },
      "source": [
        "df_filtered.drop('conteo', inplace=True, axis=1)"
      ],
      "execution_count": 0,
      "outputs": []
    },
    {
      "cell_type": "markdown",
      "metadata": {
        "id": "uvS2uY7KMt3g",
        "colab_type": "text"
      },
      "source": [
        "## Estudiando los barrios"
      ]
    },
    {
      "cell_type": "markdown",
      "metadata": {
        "id": "UCcKrabwMt3h",
        "colab_type": "text"
      },
      "source": [
        "### Barrios con más edificios y barrios con más casas\n",
        "Al saber qué barrios son los que tienen más cantidad de edificios en venta y cuáles son los que tienen más casas podemos darnos una idea de qué tipo de barrio es. Si es más residencial, con más población, poder adquisitivo, etc. \n",
        "Para eso vamos a empezar calculando los porcentajes de cada tipo de propiedad según el barrio."
      ]
    },
    {
      "cell_type": "code",
      "metadata": {
        "id": "b1HkwaU7Mt3i",
        "colab_type": "code",
        "outputId": "8451f804-9ac0-4010-b21b-3b369c1a0550",
        "colab": {
          "base_uri": "https://localhost:8080/",
          "height": 100
        }
      },
      "source": [
        "total_propiedades = df_filtered.groupby('barrio')['property_type'].count().values\n",
        "total_propiedades"
      ],
      "execution_count": 117,
      "outputs": [
        {
          "output_type": "execute_result",
          "data": {
            "text/plain": [
              "array([  35,  480,  558,  136,  736,   94,   91,  585,  114,   76,  190,\n",
              "        152,  449,   91,  120,   80,  196,   81,   36,  273, 1599,   66,\n",
              "        113,   60,   66,   66,  210, 1027,  408,  178,  124,  273,  123,\n",
              "         72,   45,  385,  108,  184,   79,   66,   78,  107,   83,   28,\n",
              "          9,   47,   11,  335])"
            ]
          },
          "metadata": {
            "tags": []
          },
          "execution_count": 117
        }
      ]
    },
    {
      "cell_type": "code",
      "metadata": {
        "id": "4XOqoc2YMt3k",
        "colab_type": "code",
        "colab": {}
      },
      "source": [
        "porcentaje_casas_ph = df_filtered[df_filtered.property_type.isin(['PH', 'house'])].groupby('barrio').count().property_type/total_propiedades\n",
        "porcentaje_edificios = df_filtered[df_filtered.property_type == 'apartment'].groupby('barrio').count().property_type/total_propiedades"
      ],
      "execution_count": 0,
      "outputs": []
    },
    {
      "cell_type": "code",
      "metadata": {
        "id": "xEKBGJzvMt3n",
        "colab_type": "code",
        "outputId": "2f42af8e-5b25-4990-e34b-029212fbcefd",
        "colab": {
          "base_uri": "https://localhost:8080/",
          "height": 284
        }
      },
      "source": [
        "print(\"Barrios con mayor porcentaje de edificios: \\n\", porcentaje_edificios.sort_values()[::-1][:5])\n",
        "print(\"Barrios con mayor porcentaje de casas y phs: \\n \", porcentaje_casas_ph.sort_values()[::-1][:5])"
      ],
      "execution_count": 119,
      "outputs": [
        {
          "output_type": "stream",
          "text": [
            "Barrios con mayor porcentaje de edificios: \n",
            " barrio\n",
            "PUERTO MADERO    0.995238\n",
            "RETIRO           0.992647\n",
            "SAN NICOLAS      0.989011\n",
            "RECOLETA         0.987342\n",
            "BELGRANO         0.952446\n",
            "Name: property_type, dtype: float64\n",
            "Barrios con mayor porcentaje de casas y phs: \n",
            "  barrio\n",
            "VERSALLES            0.622222\n",
            "MATADEROS            0.612500\n",
            "PARQUE AVELLANEDA    0.560606\n",
            "VILLA RIACHUELO      0.555556\n",
            "VILLA REAL           0.500000\n",
            "Name: property_type, dtype: float64\n"
          ],
          "name": "stdout"
        }
      ]
    },
    {
      "cell_type": "markdown",
      "metadata": {
        "id": "AVezrR1vMt3q",
        "colab_type": "text"
      },
      "source": [
        "Para darnos una idea de las diferencias entre los porcentajes de edificios y casas en estos barrios, vamos a graficarlos\n",
        "en forma de torta."
      ]
    },
    {
      "cell_type": "code",
      "metadata": {
        "id": "tD3aWR24Mt3r",
        "colab_type": "code",
        "outputId": "b0adfe68-f46e-4e64-9ee0-a50d22922cb9",
        "colab": {
          "base_uri": "https://localhost:8080/",
          "height": 403
        }
      },
      "source": [
        "barrios_casas = porcentaje_casas_ph.sort_values()[::-1][:5].index\n",
        "barrios_edificios = porcentaje_edificios.sort_values()[::-1][:5].index\n",
        "fig, axs = plt.subplots(1,2,figsize=(14,7))\n",
        "df_filtered[df_filtered.barrio.isin(barrios_edificios)].property_type.value_counts().plot(x=None,y=None, kind='pie', startangle=30, ax=axs[0],autopct='%1.2f%%')\n",
        "df_filtered[df_filtered.barrio.isin(barrios_casas)].property_type.value_counts().plot(x=None,y=None, kind='pie', ax=axs[1],autopct='%1.2f%%')"
      ],
      "execution_count": 120,
      "outputs": [
        {
          "output_type": "execute_result",
          "data": {
            "text/plain": [
              "<matplotlib.axes._subplots.AxesSubplot at 0x7f86c27cd198>"
            ]
          },
          "metadata": {
            "tags": []
          },
          "execution_count": 120
        },
        {
          "output_type": "display_data",
          "data": {
            "image/png": "[encoded data removed]",
            "text/plain": [
              "<Figure size 1008x504 with 2 Axes>"
            ]
          },
          "metadata": {
            "tags": []
          }
        }
      ]
    },
    {
      "cell_type": "markdown",
      "metadata": {
        "id": "gfR7W5_gMt3t",
        "colab_type": "text"
      },
      "source": [
        "### Barrios más caros y más baratos"
      ]
    },
    {
      "cell_type": "markdown",
      "metadata": {
        "id": "MTMm-yUjMt3u",
        "colab_type": "text"
      },
      "source": [
        "Veamos primero la distribución del precio por metro cuadrado para todo el dataset. De esta manera, vamos a remover valores que consideremos extremos.\n",
        "\n",
        "En el siguiente proyecto vamos a volver sobre este tema con más profundidad.\n",
        "\n",
        "**10)** Tomando el atributo `price_usd_per_m2` **calculá** su **mínimo**, **máximo**, **promedio (mean)**, **mediana (median)** y **desvío estándar (std)**"
      ]
    },
    {
      "cell_type": "code",
      "metadata": {
        "id": "5lyZaub1Mt3v",
        "colab_type": "code",
        "outputId": "25c4bd24-dc1b-4137-9f82-c4a08bdb271c",
        "colab": {
          "base_uri": "https://localhost:8080/",
          "height": 100
        }
      },
      "source": [
        "# Mostrá en esta celda los cálculos\n",
        "df_filtered.price_usd_per_m2.sort_values\n",
        "minimo = df_filtered['price_usd_per_m2'].min()\n",
        "maximo = df_filtered['price_usd_per_m2'].max()\n",
        "prom = df_filtered['price_usd_per_m2'].mean()\n",
        "med = df_filtered['price_usd_per_m2'].median()\n",
        "ds = df_filtered['price_usd_per_m2'].std()\n",
        "\n",
        "print(\"mínimo: \", minimo)\n",
        "print(\"máximo: \", maximo)\n",
        "print(\"promedio (mean): \", prom)\n",
        "print(\"mediana (median): \", med)\n",
        "print(\"desvío estándar (std): \", ds)"
      ],
      "execution_count": 121,
      "outputs": [
        {
          "output_type": "stream",
          "text": [
            "mínimo:  0.9583333333333334\n",
            "máximo:  142450.14102564106\n",
            "promedio (mean):  2785.6551438537067\n",
            "mediana (median):  2588.2352941176473\n",
            "desvío estándar (std):  1997.7721743224924\n"
          ],
          "name": "stdout"
        }
      ]
    },
    {
      "cell_type": "markdown",
      "metadata": {
        "id": "TMPVg0UyMt3x",
        "colab_type": "text"
      },
      "source": [
        "También podemos calcular otros estadísticos como los cuartiles. \n",
        "\n",
        "**11) Mostrá** el **primer y tercer cuartil** y luego también el **rango intercuartilíco**"
      ]
    },
    {
      "cell_type": "code",
      "metadata": {
        "id": "WqgHn3YxMt3y",
        "colab_type": "code",
        "outputId": "d08151e2-4ee8-48c8-8958-f29c411db900",
        "colab": {
          "base_uri": "https://localhost:8080/",
          "height": 67
        }
      },
      "source": [
        "# Mostrá los cuartiles en esta celda\n",
        "df_filtered.sort_values(by=[\"price_usd_per_m2\"])\n",
        "first_q = df_filtered['price_usd_per_m2'].quantile(.25)\n",
        "third_q = df_filtered['price_usd_per_m2'].quantile(.75)\n",
        "range_q = third_q - first_q\n",
        "print(first_q)\n",
        "print(third_q)\n",
        "print(range_q)"
      ],
      "execution_count": 122,
      "outputs": [
        {
          "output_type": "stream",
          "text": [
            "2039.2899147309618\n",
            "3203.982563899346\n",
            "1164.6926491683844\n"
          ],
          "name": "stdout"
        }
      ]
    },
    {
      "cell_type": "markdown",
      "metadata": {
        "id": "GCp2xuu_Mt31",
        "colab_type": "text"
      },
      "source": [
        "### Quitando valores extremos\n",
        "Eliminemos aquellas observaciones cuyo precio por metro cuadrado este fuera de los percentiles 10 y 90. De este modo intentaremos remover valores extremos de una manera sencilla para tener un análisis más robusto."
      ]
    },
    {
      "cell_type": "code",
      "metadata": {
        "id": "0GiJ0p3m34lp",
        "colab_type": "code",
        "outputId": "d01d0d7f-65d0-40cf-e07b-97858eda64ef",
        "colab": {
          "base_uri": "https://localhost:8080/",
          "height": 217
        }
      },
      "source": [
        "df_filtered.price_usd_per_m2\n"
      ],
      "execution_count": 123,
      "outputs": [
        {
          "output_type": "execute_result",
          "data": {
            "text/plain": [
              "18       2615.384615\n",
              "19       4269.230769\n",
              "22       2255.639098\n",
              "24       4029.850746\n",
              "29       3731.343284\n",
              "            ...     \n",
              "18973     653.333333\n",
              "18974    1090.909091\n",
              "18975     860.869565\n",
              "18977    1120.733556\n",
              "18978    1250.000000\n",
              "Name: price_usd_per_m2, Length: 10523, dtype: float64"
            ]
          },
          "metadata": {
            "tags": []
          },
          "execution_count": 123
        }
      ]
    },
    {
      "cell_type": "code",
      "metadata": {
        "id": "Vf-vL0FxMt33",
        "colab_type": "code",
        "colab": {}
      },
      "source": [
        "p10 = df_filtered['price_usd_per_m2'].quantile(.1)\n",
        "p90 = df_filtered['price_usd_per_m2'].quantile(.9)\n",
        "\n",
        "df_filtered = df_filtered[(df_filtered.price_usd_per_m2 >= p10) & (df_filtered.price_usd_per_m2 <= p90)]"
      ],
      "execution_count": 0,
      "outputs": []
    },
    {
      "cell_type": "code",
      "metadata": {
        "id": "ixv3D9nH5iMH",
        "colab_type": "code",
        "outputId": "c0528963-b2d4-4c38-cd90-3fcdf1fe25fb",
        "colab": {
          "base_uri": "https://localhost:8080/",
          "height": 217
        }
      },
      "source": [
        "df_filtered.price_usd_per_m2\n"
      ],
      "execution_count": 125,
      "outputs": [
        {
          "output_type": "execute_result",
          "data": {
            "text/plain": [
              "18       2615.384615\n",
              "22       2255.639098\n",
              "24       4029.850746\n",
              "29       3731.343284\n",
              "35       3093.750000\n",
              "            ...     \n",
              "18955    2636.363636\n",
              "18956    2636.363636\n",
              "18959    1610.555556\n",
              "18960    2300.000000\n",
              "18963    1600.000000\n",
              "Name: price_usd_per_m2, Length: 8417, dtype: float64"
            ]
          },
          "metadata": {
            "tags": []
          },
          "execution_count": 125
        }
      ]
    },
    {
      "cell_type": "markdown",
      "metadata": {
        "id": "o3zZYT09Mt36",
        "colab_type": "text"
      },
      "source": [
        "A partir de quitar estos valores van a cambiar los estadísticos que calculamos.\n",
        "\n",
        "**12) Volvé a calcular** los mismos estadísticos (min, max, promedio, etc) para ver los cambios.\n",
        "¿Por qué será que la **mediana** no cambia?"
      ]
    },
    {
      "cell_type": "code",
      "metadata": {
        "id": "97dgI_nyMt37",
        "colab_type": "code",
        "outputId": "9366a563-3806-49b1-99e1-c9907fff02d0",
        "colab": {
          "base_uri": "https://localhost:8080/",
          "height": 100
        }
      },
      "source": [
        "# Realizá los calculos en esta celda\n",
        "df_filtered.price_usd_per_m2.sort_values()\n",
        "minimo2 = df_filtered['price_usd_per_m2'].min()\n",
        "maximo2 = df_filtered['price_usd_per_m2'].max()\n",
        "prom2 = df_filtered['price_usd_per_m2'].mean()\n",
        "med2 = df_filtered['price_usd_per_m2'].median()\n",
        "ds2 = df_filtered['price_usd_per_m2'].std()\n",
        "\n",
        "print(\"mínimo: \", minimo2)\n",
        "print(\"máximo: \", maximo2)\n",
        "print(\"promedio (mean): \", prom2)\n",
        "print(\"mediana (median): \", med2)\n",
        "print(\"desvío estándar (std): \", ds2)"
      ],
      "execution_count": 126,
      "outputs": [
        {
          "output_type": "stream",
          "text": [
            "mínimo:  1552.9411764705883\n",
            "máximo:  4095.890410958904\n",
            "promedio (mean):  2632.2125686918466\n",
            "mediana (median):  2588.2352941176473\n",
            "desvío estándar (std):  607.7151385906491\n"
          ],
          "name": "stdout"
        }
      ]
    },
    {
      "cell_type": "markdown",
      "metadata": {
        "id": "rsaHhQqe3pRC",
        "colab_type": "text"
      },
      "source": [
        "La mediana no cambia porque es el valor en la posición central y sólo borramos valores de los extremos."
      ]
    },
    {
      "cell_type": "markdown",
      "metadata": {
        "id": "X9uNmqlSMt39",
        "colab_type": "text"
      },
      "source": [
        "Vamos a graficar ahora los barrios según el precio por metro cuadrado."
      ]
    },
    {
      "cell_type": "code",
      "metadata": {
        "id": "72Jc21zXMt3-",
        "colab_type": "code",
        "outputId": "d9d14b61-d512-4c0c-a72a-4192cce20ef5",
        "colab": {
          "base_uri": "https://localhost:8080/",
          "height": 379
        }
      },
      "source": [
        "plt.xticks(rotation = 90)\n",
        "barrios = df_filtered.groupby('barrio').mean().sort_values('price_usd_per_m2', ascending=False).index\n",
        "sns.barplot(x=\"barrio\", y=\"price_usd_per_m2\", order=barrios, data=df_filtered);"
      ],
      "execution_count": 127,
      "outputs": [
        {
          "output_type": "display_data",
          "data": {
            "image/png": "[encoded data removed]",
            "text/plain": [
              "<Figure size 432x288 with 1 Axes>"
            ]
          },
          "metadata": {
            "tags": []
          }
        }
      ]
    },
    {
      "cell_type": "markdown",
      "metadata": {
        "id": "0wC-UjaxMt4A",
        "colab_type": "text"
      },
      "source": [
        "#### Más caros"
      ]
    },
    {
      "cell_type": "code",
      "metadata": {
        "id": "ZRW8YQu3Mt4C",
        "colab_type": "code",
        "outputId": "f15d08c7-5056-4ebd-c624-b834631d135f",
        "colab": {
          "base_uri": "https://localhost:8080/",
          "height": 226
        }
      },
      "source": [
        "table = pd.pivot_table(df, values='price_usd_per_m2', index=['barrio'], aggfunc=np.mean)\n",
        "mas_caros = table.sort_values('price_usd_per_m2', ascending=False).iloc[:5]\n",
        "mas_caros"
      ],
      "execution_count": 128,
      "outputs": [
        {
          "output_type": "execute_result",
          "data": {
            "text/html": [
              "<div>\n",
              "<style scoped>\n",
              "    .dataframe tbody tr th:only-of-type {\n",
              "        vertical-align: middle;\n",
              "    }\n",
              "\n",
              "    .dataframe tbody tr th {\n",
              "        vertical-align: top;\n",
              "    }\n",
              "\n",
              "    .dataframe thead th {\n",
              "        text-align: right;\n",
              "    }\n",
              "</style>\n",
              "<table border=\"1\" class=\"dataframe\">\n",
              "  <thead>\n",
              "    <tr style=\"text-align: right;\">\n",
              "      <th></th>\n",
              "      <th>price_usd_per_m2</th>\n",
              "    </tr>\n",
              "    <tr>\n",
              "      <th>barrio</th>\n",
              "      <th></th>\n",
              "    </tr>\n",
              "  </thead>\n",
              "  <tbody>\n",
              "    <tr>\n",
              "      <th>PUERTO MADERO</th>\n",
              "      <td>6156.633183</td>\n",
              "    </tr>\n",
              "    <tr>\n",
              "      <th>PALERMO</th>\n",
              "      <td>3632.057960</td>\n",
              "    </tr>\n",
              "    <tr>\n",
              "      <th>RETIRO</th>\n",
              "      <td>3417.635657</td>\n",
              "    </tr>\n",
              "    <tr>\n",
              "      <th>RECOLETA</th>\n",
              "      <td>3346.748987</td>\n",
              "    </tr>\n",
              "    <tr>\n",
              "      <th>BELGRANO</th>\n",
              "      <td>3338.725206</td>\n",
              "    </tr>\n",
              "  </tbody>\n",
              "</table>\n",
              "</div>"
            ],
            "text/plain": [
              "               price_usd_per_m2\n",
              "barrio                         \n",
              "PUERTO MADERO       6156.633183\n",
              "PALERMO             3632.057960\n",
              "RETIRO              3417.635657\n",
              "RECOLETA            3346.748987\n",
              "BELGRANO            3338.725206"
            ]
          },
          "metadata": {
            "tags": []
          },
          "execution_count": 128
        }
      ]
    },
    {
      "cell_type": "markdown",
      "metadata": {
        "id": "qwUGlCsuMt4E",
        "colab_type": "text"
      },
      "source": [
        "#### Más baratos"
      ]
    },
    {
      "cell_type": "code",
      "metadata": {
        "id": "MeOYmqCOMt4F",
        "colab_type": "code",
        "outputId": "5556ef8c-2d42-4591-fa1c-92b132304c66",
        "colab": {
          "base_uri": "https://localhost:8080/",
          "height": 226
        }
      },
      "source": [
        "table = pd.pivot_table(df, values='price_usd_per_m2', index=['barrio'], aggfunc=np.mean)\n",
        "mas_baratos = table.sort_values('price_usd_per_m2', ascending=True).iloc[:5]\n",
        "mas_baratos"
      ],
      "execution_count": 129,
      "outputs": [
        {
          "output_type": "execute_result",
          "data": {
            "text/html": [
              "<div>\n",
              "<style scoped>\n",
              "    .dataframe tbody tr th:only-of-type {\n",
              "        vertical-align: middle;\n",
              "    }\n",
              "\n",
              "    .dataframe tbody tr th {\n",
              "        vertical-align: top;\n",
              "    }\n",
              "\n",
              "    .dataframe thead th {\n",
              "        text-align: right;\n",
              "    }\n",
              "</style>\n",
              "<table border=\"1\" class=\"dataframe\">\n",
              "  <thead>\n",
              "    <tr style=\"text-align: right;\">\n",
              "      <th></th>\n",
              "      <th>price_usd_per_m2</th>\n",
              "    </tr>\n",
              "    <tr>\n",
              "      <th>barrio</th>\n",
              "      <th></th>\n",
              "    </tr>\n",
              "  </thead>\n",
              "  <tbody>\n",
              "    <tr>\n",
              "      <th>VILLA SOLDATI</th>\n",
              "      <td>920.825753</td>\n",
              "    </tr>\n",
              "    <tr>\n",
              "      <th>VILLA LUGANO</th>\n",
              "      <td>1179.846071</td>\n",
              "    </tr>\n",
              "    <tr>\n",
              "      <th>VILLA RIACHUELO</th>\n",
              "      <td>1274.809950</td>\n",
              "    </tr>\n",
              "    <tr>\n",
              "      <th>PARQUE AVELLANEDA</th>\n",
              "      <td>1386.260577</td>\n",
              "    </tr>\n",
              "    <tr>\n",
              "      <th>NUEVA POMPEYA</th>\n",
              "      <td>1539.235869</td>\n",
              "    </tr>\n",
              "  </tbody>\n",
              "</table>\n",
              "</div>"
            ],
            "text/plain": [
              "                   price_usd_per_m2\n",
              "barrio                             \n",
              "VILLA SOLDATI            920.825753\n",
              "VILLA LUGANO            1179.846071\n",
              "VILLA RIACHUELO         1274.809950\n",
              "PARQUE AVELLANEDA       1386.260577\n",
              "NUEVA POMPEYA           1539.235869"
            ]
          },
          "metadata": {
            "tags": []
          },
          "execution_count": 129
        }
      ]
    },
    {
      "cell_type": "markdown",
      "metadata": {
        "id": "GcRGHzYqMt4I",
        "colab_type": "text"
      },
      "source": [
        "## Graficando propiedades de los barrios\n",
        "\n",
        "Ahora que ya sabemos cuales son los barrios más caros y cuales son los más baratos vamos a ver algunas comparaciones gráficas para entender mejor sus diferencias en diferentes atributos del dataset. Vamos a ver las distribuciones según:\n",
        "- Superficie total en m2\n",
        "- Cuartos totales \n",
        "- Precio en dolares por m2"
      ]
    },
    {
      "cell_type": "code",
      "metadata": {
        "id": "xdOpM1hkMt4I",
        "colab_type": "code",
        "colab": {}
      },
      "source": [
        "barrios_caros = mas_caros.index \n",
        "barrios_baratos = mas_baratos.index"
      ],
      "execution_count": 0,
      "outputs": []
    },
    {
      "cell_type": "code",
      "metadata": {
        "id": "dDJspEEPMt4M",
        "colab_type": "code",
        "outputId": "10a99483-45c0-469d-e840-96f0b7489757",
        "colab": {
          "base_uri": "https://localhost:8080/",
          "height": 297
        }
      },
      "source": [
        "g = sns.distplot(df_filtered[df_filtered.barrio.isin(barrios_baratos)].surface_total_in_m2, label=\"Barrios baratos\")\n",
        "sns.distplot(df_filtered[df_filtered.barrio.isin(barrios_caros)].surface_total_in_m2, label=\"Barrios caros\")\n",
        "g.set_xlim(0, 400)\n",
        "plt.legend()"
      ],
      "execution_count": 131,
      "outputs": [
        {
          "output_type": "execute_result",
          "data": {
            "text/plain": [
              "<matplotlib.legend.Legend at 0x7f86c3105e48>"
            ]
          },
          "metadata": {
            "tags": []
          },
          "execution_count": 131
        },
        {
          "output_type": "display_data",
          "data": {
            "image/png": "[encoded data removed]",
            "text/plain": [
              "<Figure size 432x288 with 1 Axes>"
            ]
          },
          "metadata": {
            "tags": []
          }
        }
      ]
    },
    {
      "cell_type": "code",
      "metadata": {
        "id": "um0bUt_uMt4O",
        "colab_type": "code",
        "outputId": "d06daf3b-bca8-42ba-8650-e7b845b7dbb6",
        "colab": {
          "base_uri": "https://localhost:8080/",
          "height": 296
        }
      },
      "source": [
        "g = sns.distplot(df_filtered[df_filtered.barrio.isin(barrios_baratos)].rooms, label=\"Barrios baratos\")\n",
        "sns.distplot(df_filtered[df_filtered.barrio.isin(barrios_caros)].rooms, label=\"Barrios caros\")\n",
        "g.set_xlim(0, 10)\n",
        "plt.legend()"
      ],
      "execution_count": 132,
      "outputs": [
        {
          "output_type": "execute_result",
          "data": {
            "text/plain": [
              "<matplotlib.legend.Legend at 0x7f86c5671748>"
            ]
          },
          "metadata": {
            "tags": []
          },
          "execution_count": 132
        },
        {
          "output_type": "display_data",
          "data": {
            "image/png": "[encoded data removed]",
            "text/plain": [
              "<Figure size 432x288 with 1 Axes>"
            ]
          },
          "metadata": {
            "tags": []
          }
        }
      ]
    },
    {
      "cell_type": "code",
      "metadata": {
        "id": "vo0vZaGxMt4S",
        "colab_type": "code",
        "outputId": "e513067f-04d8-4749-e31b-34e01a188e52",
        "colab": {
          "base_uri": "https://localhost:8080/",
          "height": 297
        }
      },
      "source": [
        "g = sns.distplot(df_filtered[df_filtered.barrio.isin(barrios_baratos)].price_usd_per_m2, label=\"Barrios baratos\")\n",
        "sns.distplot(df_filtered[df_filtered.barrio.isin(barrios_caros)].price_usd_per_m2, label=\"Barrios caros\")\n",
        "plt.legend()"
      ],
      "execution_count": 134,
      "outputs": [
        {
          "output_type": "execute_result",
          "data": {
            "text/plain": [
              "<matplotlib.legend.Legend at 0x7f86c30bb6d8>"
            ]
          },
          "metadata": {
            "tags": []
          },
          "execution_count": 134
        },
        {
          "output_type": "display_data",
          "data": {
            "image/png": "[encoded data removed]",
            "text/plain": [
              "<Figure size 432x288 with 1 Axes>"
            ]
          },
          "metadata": {
            "tags": []
          }
        }
      ]
    },
    {
      "cell_type": "markdown",
      "metadata": {
        "id": "eTWR71jvMt4V",
        "colab_type": "text"
      },
      "source": [
        "### Barrios que quieren ser otros"
      ]
    },
    {
      "cell_type": "markdown",
      "metadata": {
        "id": "8JrkIzALMt4X",
        "colab_type": "text"
      },
      "source": [
        "Basado en información de mercado, desde el portal Properati han señalado que las inmobiliarias suelen publicar las propiedades ubicadas en barrios que no necesariamente se corresponden con la ubicación geográfica real. Según mencionan en la nota ([blog)](http://blog.properati.com.ar/barrios-que-quieren-ser-otros/), esto corresponde a una lógica comercial en el corredor norte y a usos y costumbres en zona oeste.\n",
        "\n",
        "Analicemos qué sucede para nuestro dataset."
      ]
    },
    {
      "cell_type": "markdown",
      "metadata": {
        "id": "wO5LNUA-Mt4Y",
        "colab_type": "text"
      },
      "source": [
        "Dada la estructura del atributo `place_with_parent_names`, en primer lugar vamos a extraer el campo asociado al barrio publicado para poder comparar con el que surge de la cartografía oficial. Esto lo vamos a agregar en una nueva columna llamada `barrio_publicado`. \n",
        "\n",
        "De este modo, lo que vamos a analizar es como se relacionan las columnas `barrio` y `barrio publicado`. Si efectivamente hay barrios que quieren ser otros, esperaríamos ver propiedades ubicadas en geográficamente en un barrio distinto al que dice la publicación. Por ejemplo, si una propiedad está ubicada (dadas sus coordenadas) en Villa Crespo pero en la publicación dice Palermo, entonces decimos que hay indicios que Villa Crespo quiere ser Palermo.\n",
        "\n",
        "Viendo la estructura de este atributo, podemos notar que se compone por una sequencia de lugares separados por `|`. Por ejemplo, en `|Argentina|Capital Federal|Palermo|` vemos que primero está el país, luego la ciudad, luego el barrio y en algunos casos hay una jerarquía más, relacionado con zonas dentro del barrio (como Palermo Soho dentro de Palermo). \n",
        "\n",
        "De este modo, una estrategia posible para resolver esto es separar las jerarquías por `|` y extraer el elemento asociado al barrio. Por ejemplo, para `|Argentina|Capital Federal|Palermo|` queda `['', 'Argentina', 'Capital Federal', 'Palermo', '']`. Extrayendo el tercer elemento obtendremos el barrio independientemente de si hay lugares luego en la jerarquía. Aquellos que no tengan barrio no serán considerados puesto que estarían ubicados en Capital Federal y no sería informativo.\n",
        "\n",
        "Lo pasamos a mayúsculas y quitamos las tildes para poder comparar con el barrio oficial."
      ]
    },
    {
      "cell_type": "code",
      "metadata": {
        "id": "1bGFV2oRMt4a",
        "colab_type": "code",
        "outputId": "ca3d95da-a49e-4a04-e69d-b025edc7ed6c",
        "colab": {
          "base_uri": "https://localhost:8080/",
          "height": 33
        }
      },
      "source": [
        "df_filtered['place_with_parent_names'].apply(lambda x: len(x.split(\"|\"))).unique()"
      ],
      "execution_count": 135,
      "outputs": [
        {
          "output_type": "execute_result",
          "data": {
            "text/plain": [
              "array([5, 6, 4])"
            ]
          },
          "metadata": {
            "tags": []
          },
          "execution_count": 135
        }
      ]
    },
    {
      "cell_type": "markdown",
      "metadata": {
        "id": "4bgCnsu0Mt4f",
        "colab_type": "text"
      },
      "source": [
        "Como algunos tienen 4 elementos, debemos quitarlos."
      ]
    },
    {
      "cell_type": "code",
      "metadata": {
        "id": "tOpv4SUTMt4g",
        "colab_type": "code",
        "colab": {}
      },
      "source": [
        "split_place_filter = df_filtered['place_with_parent_names'].apply(lambda x: len(x.split(\"|\"))!=4)\n",
        "df_filtered = df_filtered.loc[split_place_filter]"
      ],
      "execution_count": 0,
      "outputs": []
    },
    {
      "cell_type": "code",
      "metadata": {
        "id": "LAZ3eNKmMt4j",
        "colab_type": "code",
        "colab": {}
      },
      "source": [
        "df_filtered['barrio_publicado'] = df_filtered['place_with_parent_names'].apply( lambda x: x.split(\"|\")[3].upper())\n",
        "df_filtered['barrio_publicado'] = df_filtered['barrio_publicado'].str.normalize('NFKD').str.encode('ascii', errors='ignore').str.decode('utf-8')"
      ],
      "execution_count": 0,
      "outputs": []
    },
    {
      "cell_type": "markdown",
      "metadata": {
        "id": "szfIVC-3Mt4n",
        "colab_type": "text"
      },
      "source": [
        "Comparemos entonces el barrio publicado con el real. Nos vamos a quedar con aquellas propiedades donde nos coincidan para luego hacer el conteo por barrio."
      ]
    },
    {
      "cell_type": "code",
      "metadata": {
        "id": "uQ8VqM5YMt4o",
        "colab_type": "code",
        "colab": {}
      },
      "source": [
        "barrios_match = (df_filtered['barrio_publicado'] != df_filtered['barrio'])\n",
        "df_filtered_barrio_not_match = df_filtered.loc[barrios_match]"
      ],
      "execution_count": 0,
      "outputs": []
    },
    {
      "cell_type": "markdown",
      "metadata": {
        "id": "BK--l8vkMt4q",
        "colab_type": "text"
      },
      "source": [
        "Con una tabla de doble entrada podemos identificar para cada barrio cuál es al que más quiere parecerse."
      ]
    },
    {
      "cell_type": "code",
      "metadata": {
        "id": "_AzVL-kQMt4r",
        "colab_type": "code",
        "colab": {
          "base_uri": "https://localhost:8080/",
          "height": 803
        },
        "outputId": "d10d80f0-4f7d-4a46-8e32-bfe434261e9e"
      },
      "source": [
        "table = pd.crosstab(df_filtered_barrio_not_match.barrio, df_filtered_barrio_not_match.barrio_publicado)\n",
        "table.idxmax(axis=1)"
      ],
      "execution_count": 139,
      "outputs": [
        {
          "output_type": "execute_result",
          "data": {
            "text/plain": [
              "barrio\n",
              "AGRONOMIA                VILLA PUEYRREDON\n",
              "ALMAGRO                         CABALLITO\n",
              "BALVANERA                            ONCE\n",
              "BARRACAS                        SAN TELMO\n",
              "BELGRANO                            NUNEZ\n",
              "BOCA                             BARRACAS\n",
              "BOEDO                             ALMAGRO\n",
              "CABALLITO               PARQUE CENTENARIO\n",
              "CHACARITA                      COLEGIALES\n",
              "COGHLAN                          BELGRANO\n",
              "COLEGIALES                       BELGRANO\n",
              "CONSTITUCION                    SAN TELMO\n",
              "FLORES                          CABALLITO\n",
              "FLORESTA                           FLORES\n",
              "LINIERS                         VERSALLES\n",
              "MATADEROS                      VILLA LURO\n",
              "MONSERRAT                       SAN TELMO\n",
              "MONTE CASTRO                 VILLA DEVOTO\n",
              "NUEVA POMPEYA            PARQUE PATRICIOS\n",
              "NUEZ                                NUNEZ\n",
              "PALERMO                          BELGRANO\n",
              "PARQUE AVELLANEDA                FLORESTA\n",
              "PARQUE CHACABUCO                CABALLITO\n",
              "PARQUE CHAS                 VILLA URQUIZA\n",
              "PARQUE PATRICIOS                    BOEDO\n",
              "PATERNAL                        AGRONOMIA\n",
              "RECOLETA                     BARRIO NORTE\n",
              "RETIRO                           RECOLETA\n",
              "SAAVEDRA                            NUNEZ\n",
              "SAN CRISTOBAL                       BOEDO\n",
              "SAN NICOLAS          CENTRO / MICROCENTRO\n",
              "SAN TELMO                        BARRACAS\n",
              "VELEZ SARSFIELD                  FLORESTA\n",
              "VILLA CRESPO                      PALERMO\n",
              "VILLA DEL PARQUE             VILLA DEVOTO\n",
              "VILLA DEVOTO             VILLA PUEYRREDON\n",
              "VILLA GRAL. MITRE     VILLA GENERAL MITRE\n",
              "VILLA LURO                      VERSALLES\n",
              "VILLA ORTUZAR               VILLA URQUIZA\n",
              "VILLA PUEYRREDON             VILLA DEVOTO\n",
              "VILLA REAL                      VERSALLES\n",
              "VILLA RIACHUELO              VILLA LUGANO\n",
              "VILLA SANTA RITA         VILLA DEL PARQUE\n",
              "VILLA SOLDATI                VILLA LUGANO\n",
              "VILLA URQUIZA                    BELGRANO\n",
              "dtype: object"
            ]
          },
          "metadata": {
            "tags": []
          },
          "execution_count": 139
        }
      ]
    },
    {
      "cell_type": "markdown",
      "metadata": {
        "id": "wgJNaXcqMt4t",
        "colab_type": "text"
      },
      "source": [
        "Podemos ver entonces que los barrios tienden a querer parecerse a barrios con precio con metro cuadrado más caro. Por ejemplo Villa Crespo con Palermo, Constitución con San Telmo y Villa Urquiza con Belgrano. \n",
        "\n",
        "Por otro lado, vemos también que los barrios suelen querer parecerse a sus barrios vecinos."
      ]
    }
  ]
}