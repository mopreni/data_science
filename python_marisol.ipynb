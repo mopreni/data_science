{
  "nbformat": 4,
  "nbformat_minor": 0,
  "metadata": {
    "colab": {
      "name": "python_marisol.ipynb",
      "provenance": [],
      "collapsed_sections": [],
      "authorship_tag": "ABX9TyPEYDkBnriFIMLkI1e6nBon",
      "include_colab_link": true
    },
    "kernelspec": {
      "name": "python3",
      "display_name": "Python 3"
    }
  },
  "cells": [
    {
      "cell_type": "markdown",
      "metadata": {
        "id": "view-in-github",
        "colab_type": "text"
      },
      "source": [
        "<a href=\"https://colab.research.google.com/github/mopreni/data_science/blob/master/python_marisol.ipynb\" target=\"_parent\"><img src=\"https://colab.research.google.com/assets/colab-badge.svg\" alt=\"Open In Colab\"/></a>"
      ]
    },
    {
      "cell_type": "code",
      "metadata": {
        "id": "03Y0pzvwM1w7",
        "colab_type": "code",
        "outputId": "9ff2a5fd-04bc-4976-d774-ca27f3ffe963",
        "colab": {
          "base_uri": "https://localhost:8080/",
          "height": 33
        }
      },
      "source": [
        "nombre='Esteban'\n",
        "nombre"
      ],
      "execution_count": 0,
      "outputs": [
        {
          "output_type": "execute_result",
          "data": {
            "text/plain": [
              "'Esteban'"
            ]
          },
          "metadata": {
            "tags": []
          },
          "execution_count": 3
        }
      ]
    },
    {
      "cell_type": "code",
      "metadata": {
        "id": "aAOb3IdpFktb",
        "colab_type": "code",
        "outputId": "12a9698d-1026-4aa4-e29b-2680ecb8b77b",
        "colab": {
          "base_uri": "https://localhost:8080/",
          "height": 178
        }
      },
      "source": [
        "nombre=Esteban\n",
        "nombre"
      ],
      "execution_count": 0,
      "outputs": [
        {
          "output_type": "error",
          "ename": "NameError",
          "evalue": "ignored",
          "traceback": [
            "\u001b[0;31m---------------------------------------------------------------------------\u001b[0m",
            "\u001b[0;31mNameError\u001b[0m                                 Traceback (most recent call last)",
            "\u001b[0;32m<ipython-input-4-1e4763c613d3>\u001b[0m in \u001b[0;36m<module>\u001b[0;34m()\u001b[0m\n\u001b[0;32m----> 1\u001b[0;31m \u001b[0mnombre\u001b[0m\u001b[0;34m=\u001b[0m\u001b[0mEsteban\u001b[0m\u001b[0;34m\u001b[0m\u001b[0;34m\u001b[0m\u001b[0m\n\u001b[0m\u001b[1;32m      2\u001b[0m \u001b[0mnombre\u001b[0m\u001b[0;34m\u001b[0m\u001b[0;34m\u001b[0m\u001b[0m\n",
            "\u001b[0;31mNameError\u001b[0m: name 'Esteban' is not defined"
          ]
        }
      ]
    },
    {
      "cell_type": "code",
      "metadata": {
        "id": "xE6xgZ7RFsbC",
        "colab_type": "code",
        "outputId": "71f7632e-c806-4f3d-86a8-7fe9cbf2856e",
        "colab": {
          "base_uri": "https://localhost:8080/",
          "height": 34
        }
      },
      "source": [
        "nombre=\"Esteban\"\n",
        "nombre"
      ],
      "execution_count": 0,
      "outputs": [
        {
          "output_type": "execute_result",
          "data": {
            "text/plain": [
              "'Esteban'"
            ]
          },
          "metadata": {
            "tags": []
          },
          "execution_count": 2
        }
      ]
    },
    {
      "cell_type": "code",
      "metadata": {
        "id": "WvBQSdK5GH6i",
        "colab_type": "code",
        "outputId": "ebc6ebac-9b2f-4625-9d4b-4fc15bd18d11",
        "colab": {
          "base_uri": "https://localhost:8080/",
          "height": 33
        }
      },
      "source": [
        "edad=31\n",
        "edad"
      ],
      "execution_count": 0,
      "outputs": [
        {
          "output_type": "execute_result",
          "data": {
            "text/plain": [
              "31"
            ]
          },
          "metadata": {
            "tags": []
          },
          "execution_count": 6
        }
      ]
    },
    {
      "cell_type": "code",
      "metadata": {
        "id": "vyQlYMlZGLqx",
        "colab_type": "code",
        "outputId": "818dbe6a-0b86-4e29-93b3-57a783d526b2",
        "colab": {
          "base_uri": "https://localhost:8080/",
          "height": 33
        }
      },
      "source": [
        "edad=31,3\n",
        "edad"
      ],
      "execution_count": 0,
      "outputs": [
        {
          "output_type": "execute_result",
          "data": {
            "text/plain": [
              "(31, 3)"
            ]
          },
          "metadata": {
            "tags": []
          },
          "execution_count": 7
        }
      ]
    },
    {
      "cell_type": "code",
      "metadata": {
        "id": "4z1AP4sBGQKq",
        "colab_type": "code",
        "outputId": "de9a34e0-fa33-42ea-c76a-7ee93f03e72d",
        "colab": {
          "base_uri": "https://localhost:8080/",
          "height": 34
        }
      },
      "source": [
        "edad=31.3\n",
        "edad"
      ],
      "execution_count": 0,
      "outputs": [
        {
          "output_type": "execute_result",
          "data": {
            "text/plain": [
              "31.3"
            ]
          },
          "metadata": {
            "tags": []
          },
          "execution_count": 4
        }
      ]
    },
    {
      "cell_type": "code",
      "metadata": {
        "id": "JgIXp0wvySlI",
        "colab_type": "code",
        "outputId": "4a0ac2a2-fe8f-4656-b1a2-266ea7c3e1f0",
        "colab": {
          "base_uri": "https://localhost:8080/",
          "height": 34
        }
      },
      "source": [
        "print(nombre, edad)\n"
      ],
      "execution_count": 0,
      "outputs": [
        {
          "output_type": "stream",
          "text": [
            "Esteban 31.3\n"
          ],
          "name": "stdout"
        }
      ]
    },
    {
      "cell_type": "code",
      "metadata": {
        "id": "Y76JswqhzqRx",
        "colab_type": "code",
        "outputId": "3e8efc48-f60a-44e7-aa0f-3648780026e6",
        "colab": {
          "base_uri": "https://localhost:8080/",
          "height": 34
        }
      },
      "source": [
        "print('Mi nombre es ', nombre, \" y tengo \", edad, \" años\")"
      ],
      "execution_count": 0,
      "outputs": [
        {
          "output_type": "stream",
          "text": [
            "Mi nombre es  Esteban  y tengo  31.3  años\n"
          ],
          "name": "stdout"
        }
      ]
    },
    {
      "cell_type": "code",
      "metadata": {
        "id": "7hAVTjsj1txQ",
        "colab_type": "code",
        "outputId": "3461f01a-e933-4625-8021-97d98cb206d4",
        "colab": {
          "base_uri": "https://localhost:8080/",
          "height": 34
        }
      },
      "source": [
        "print(\"Mi nombre es {}. Mi edad es {} años.\".format(nombre, edad))"
      ],
      "execution_count": 0,
      "outputs": [
        {
          "output_type": "stream",
          "text": [
            "Mi nombre es Esteban. Mi edad es 31.3 años.\n"
          ],
          "name": "stdout"
        }
      ]
    },
    {
      "cell_type": "markdown",
      "metadata": {
        "id": "N775Wa4g-WSz",
        "colab_type": "text"
      },
      "source": [
        "# **a) Googlear qué es un diccionario de Python y crear uno.**"
      ]
    },
    {
      "cell_type": "code",
      "metadata": {
        "id": "fLfzPNDsZImh",
        "colab_type": "code",
        "outputId": "60ee2e88-03dc-42ad-9c4f-ecfa8c14f110",
        "colab": {
          "base_uri": "https://localhost:8080/",
          "height": 34
        }
      },
      "source": [
        "# Los diccionarios mapean keys y valores\n",
        "un_dicc = {}\n",
        "#un diccionario con valores\n",
        "un_dicc_valores = {\"uno\": 1, \"dos\": 2, \"tres\": 3}\n",
        "un_dicc_valores"
      ],
      "execution_count": 0,
      "outputs": [
        {
          "output_type": "execute_result",
          "data": {
            "text/plain": [
              "{'dos': 2, 'tres': 3, 'uno': 1}"
            ]
          },
          "metadata": {
            "tags": []
          },
          "execution_count": 1
        }
      ]
    },
    {
      "cell_type": "markdown",
      "metadata": {
        "id": "lQekMIhXZooU",
        "colab_type": "text"
      },
      "source": [
        "# **b) ¿Qué hace la función range? Crear un ejemplo.**\n"
      ]
    },
    {
      "cell_type": "code",
      "metadata": {
        "id": "z5iVffX4aJYu",
        "colab_type": "code",
        "outputId": "9d821ee3-cb73-47c4-cc3d-48881a6337b1",
        "colab": {
          "base_uri": "https://localhost:8080/",
          "height": 84
        }
      },
      "source": [
        "#La función range crea una lista de elementos consecutivos desde el 0 hasta el elemento mencionado\n",
        "for i in range(4):\n",
        "    print(i)"
      ],
      "execution_count": 0,
      "outputs": [
        {
          "output_type": "stream",
          "text": [
            "0\n",
            "1\n",
            "2\n",
            "3\n"
          ],
          "name": "stdout"
        }
      ]
    },
    {
      "cell_type": "markdown",
      "metadata": {
        "id": "wafHmy6Y-feW",
        "colab_type": "text"
      },
      "source": [
        "\n",
        "# Copiar la edad del compañero/a que esté más cerca.\n",
        "1.   Obtener la diferencia entre tu edad y la de él/ella.\n",
        "2.   Decidir (usando Python) cuál edad es mayor.\n",
        "3.   Sumarle 50 años a la edad menor\n",
        "4.   ¿Sigue siendo mayor nuestra edad o edad_compa?"
      ]
    },
    {
      "cell_type": "code",
      "metadata": {
        "id": "z26bSW6JdZ_P",
        "colab_type": "code",
        "outputId": "3c35eafe-a593-4698-eb64-248ed5ab5cbb",
        "colab": {
          "base_uri": "https://localhost:8080/",
          "height": 34
        }
      },
      "source": [
        "mi_edad = 41\n",
        "edad_compa = 29\n",
        "mi_edad < edad_compa\n"
      ],
      "execution_count": 0,
      "outputs": [
        {
          "output_type": "execute_result",
          "data": {
            "text/plain": [
              "False"
            ]
          },
          "metadata": {
            "tags": []
          },
          "execution_count": 1
        }
      ]
    },
    {
      "cell_type": "code",
      "metadata": {
        "id": "ET2Ejn9sAlUU",
        "colab_type": "code",
        "outputId": "a17221b8-5698-438e-fcb8-277d9bdad76d",
        "colab": {
          "base_uri": "https://localhost:8080/",
          "height": 34
        }
      },
      "source": [
        "if mi_edad < edad_compa:\n",
        "  mi_edad = mi_edad + 50\n",
        "  print(\"la edad menor es mi edad: \", mi_edad)\n",
        "else:\n",
        "  edad_compa = edad_compa + 50\n",
        "  print(\"la edad menor es la edad de mi compañera: \", edad_compa)"
      ],
      "execution_count": 0,
      "outputs": [
        {
          "output_type": "stream",
          "text": [
            "la edad menor es la edad de mi compañera:  79\n"
          ],
          "name": "stdout"
        }
      ]
    },
    {
      "cell_type": "markdown",
      "metadata": {
        "id": "cRaVTNvm-w-D",
        "colab_type": "text"
      },
      "source": [
        "# Lista numérica\n",
        "1. Imprimir en pantalla los primeros 10 números naturales (0,...,9)\n",
        "2. ¿Siempre tendremos que escribir los números en una lista “a mano”?\n",
        "3. Imprimir únicamente los cinco primeros números pares.\n",
        "4. ¿Habrá una forma mejor de hacerlo?"
      ]
    },
    {
      "cell_type": "code",
      "metadata": {
        "id": "DcY8LV1Z-Uzr",
        "colab_type": "code",
        "outputId": "3a4567a2-ae9b-472a-f362-888f97541188",
        "colab": {
          "base_uri": "https://localhost:8080/",
          "height": 34
        }
      },
      "source": [
        "lista = [0,1,2,3,4,5,6,7,8,9]\n",
        "lista"
      ],
      "execution_count": 0,
      "outputs": [
        {
          "output_type": "execute_result",
          "data": {
            "text/plain": [
              "[0, 1, 2, 3, 4, 5, 6, 7, 8, 9]"
            ]
          },
          "metadata": {
            "tags": []
          },
          "execution_count": 6
        }
      ]
    },
    {
      "cell_type": "code",
      "metadata": {
        "id": "gjaJCrDVJHFc",
        "colab_type": "code",
        "outputId": "030355e0-3ffa-4c71-d802-52168d8ad066",
        "colab": {
          "base_uri": "https://localhost:8080/",
          "height": 34
        }
      },
      "source": [
        "lista2 = range(9)\n",
        "lista2"
      ],
      "execution_count": 0,
      "outputs": [
        {
          "output_type": "execute_result",
          "data": {
            "text/plain": [
              "range(0, 9)"
            ]
          },
          "metadata": {
            "tags": []
          },
          "execution_count": 7
        }
      ]
    },
    {
      "cell_type": "code",
      "metadata": {
        "id": "IGDnIdocJUrU",
        "colab_type": "code",
        "outputId": "3f48bf8f-9770-4b69-faeb-8126f8f1e7a7",
        "colab": {
          "base_uri": "https://localhost:8080/",
          "height": 168
        }
      },
      "source": [
        "for i in lista2: #range(4):\n",
        "    print(i)"
      ],
      "execution_count": 0,
      "outputs": [
        {
          "output_type": "stream",
          "text": [
            "0\n",
            "1\n",
            "2\n",
            "3\n",
            "4\n",
            "5\n",
            "6\n",
            "7\n",
            "8\n"
          ],
          "name": "stdout"
        }
      ]
    },
    {
      "cell_type": "code",
      "metadata": {
        "id": "T8ZdzowvJ0Sz",
        "colab_type": "code",
        "outputId": "3afd0d63-b470-4711-d5b6-e5b6a8eaa817",
        "colab": {
          "base_uri": "https://localhost:8080/",
          "height": 101
        }
      },
      "source": [
        "# li[start:end:step]\n",
        "for i in range(0, 10, 2):\n",
        "    print(i)"
      ],
      "execution_count": 0,
      "outputs": [
        {
          "output_type": "stream",
          "text": [
            "0\n",
            "2\n",
            "4\n",
            "6\n",
            "8\n"
          ],
          "name": "stdout"
        }
      ]
    }
  ]
}