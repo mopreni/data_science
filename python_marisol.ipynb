{
  "nbformat": 4,
  "nbformat_minor": 0,
  "metadata": {
    "colab": {
      "name": "Untitled1.ipynb",
      "provenance": [],
      "authorship_tag": "ABX9TyNunD4dfCIYSS2zDkQT5+4A",
      "include_colab_link": true
    },
    "kernelspec": {
      "name": "python3",
      "display_name": "Python 3"
    }
  },
  "cells": [
    {
      "cell_type": "markdown",
      "metadata": {
        "id": "view-in-github",
        "colab_type": "text"
      },
      "source": [
        "<a href=\"https://colab.research.google.com/github/mopreni/data_science/blob/master/python_marisol.ipynb\" target=\"_parent\"><img src=\"https://colab.research.google.com/assets/colab-badge.svg\" alt=\"Open In Colab\"/></a>"
      ]
    },
    {
      "cell_type": "code",
      "metadata": {
        "id": "03Y0pzvwM1w7",
        "colab_type": "code",
        "outputId": "9ff2a5fd-04bc-4976-d774-ca27f3ffe963",
        "colab": {
          "base_uri": "https://localhost:8080/",
          "height": 33
        }
      },
      "source": [
        "nombre='Esteban'\n",
        "nombre"
      ],
      "execution_count": 0,
      "outputs": [
        {
          "output_type": "execute_result",
          "data": {
            "text/plain": [
              "'Esteban'"
            ]
          },
          "metadata": {
            "tags": []
          },
          "execution_count": 3
        }
      ]
    },
    {
      "cell_type": "code",
      "metadata": {
        "id": "aAOb3IdpFktb",
        "colab_type": "code",
        "outputId": "12a9698d-1026-4aa4-e29b-2680ecb8b77b",
        "colab": {
          "base_uri": "https://localhost:8080/",
          "height": 178
        }
      },
      "source": [
        "nombre=Esteban\n",
        "nombre"
      ],
      "execution_count": 0,
      "outputs": [
        {
          "output_type": "error",
          "ename": "NameError",
          "evalue": "ignored",
          "traceback": [
            "\u001b[0;31m---------------------------------------------------------------------------\u001b[0m",
            "\u001b[0;31mNameError\u001b[0m                                 Traceback (most recent call last)",
            "\u001b[0;32m<ipython-input-4-1e4763c613d3>\u001b[0m in \u001b[0;36m<module>\u001b[0;34m()\u001b[0m\n\u001b[0;32m----> 1\u001b[0;31m \u001b[0mnombre\u001b[0m\u001b[0;34m=\u001b[0m\u001b[0mEsteban\u001b[0m\u001b[0;34m\u001b[0m\u001b[0;34m\u001b[0m\u001b[0m\n\u001b[0m\u001b[1;32m      2\u001b[0m \u001b[0mnombre\u001b[0m\u001b[0;34m\u001b[0m\u001b[0;34m\u001b[0m\u001b[0m\n",
            "\u001b[0;31mNameError\u001b[0m: name 'Esteban' is not defined"
          ]
        }
      ]
    },
    {
      "cell_type": "code",
      "metadata": {
        "id": "xE6xgZ7RFsbC",
        "colab_type": "code",
        "outputId": "71f7632e-c806-4f3d-86a8-7fe9cbf2856e",
        "colab": {
          "base_uri": "https://localhost:8080/",
          "height": 34
        }
      },
      "source": [
        "nombre=\"Esteban\"\n",
        "nombre"
      ],
      "execution_count": 0,
      "outputs": [
        {
          "output_type": "execute_result",
          "data": {
            "text/plain": [
              "'Esteban'"
            ]
          },
          "metadata": {
            "tags": []
          },
          "execution_count": 2
        }
      ]
    },
    {
      "cell_type": "code",
      "metadata": {
        "id": "WvBQSdK5GH6i",
        "colab_type": "code",
        "outputId": "ebc6ebac-9b2f-4625-9d4b-4fc15bd18d11",
        "colab": {
          "base_uri": "https://localhost:8080/",
          "height": 33
        }
      },
      "source": [
        "edad=31\n",
        "edad"
      ],
      "execution_count": 0,
      "outputs": [
        {
          "output_type": "execute_result",
          "data": {
            "text/plain": [
              "31"
            ]
          },
          "metadata": {
            "tags": []
          },
          "execution_count": 6
        }
      ]
    },
    {
      "cell_type": "code",
      "metadata": {
        "id": "vyQlYMlZGLqx",
        "colab_type": "code",
        "outputId": "818dbe6a-0b86-4e29-93b3-57a783d526b2",
        "colab": {
          "base_uri": "https://localhost:8080/",
          "height": 33
        }
      },
      "source": [
        "edad=31,3\n",
        "edad"
      ],
      "execution_count": 0,
      "outputs": [
        {
          "output_type": "execute_result",
          "data": {
            "text/plain": [
              "(31, 3)"
            ]
          },
          "metadata": {
            "tags": []
          },
          "execution_count": 7
        }
      ]
    },
    {
      "cell_type": "code",
      "metadata": {
        "id": "4z1AP4sBGQKq",
        "colab_type": "code",
        "outputId": "de9a34e0-fa33-42ea-c76a-7ee93f03e72d",
        "colab": {
          "base_uri": "https://localhost:8080/",
          "height": 34
        }
      },
      "source": [
        "edad=31.3\n",
        "edad"
      ],
      "execution_count": 0,
      "outputs": [
        {
          "output_type": "execute_result",
          "data": {
            "text/plain": [
              "31.3"
            ]
          },
          "metadata": {
            "tags": []
          },
          "execution_count": 4
        }
      ]
    },
    {
      "cell_type": "code",
      "metadata": {
        "id": "JgIXp0wvySlI",
        "colab_type": "code",
        "outputId": "4a0ac2a2-fe8f-4656-b1a2-266ea7c3e1f0",
        "colab": {
          "base_uri": "https://localhost:8080/",
          "height": 34
        }
      },
      "source": [
        "print(nombre, edad)\n"
      ],
      "execution_count": 0,
      "outputs": [
        {
          "output_type": "stream",
          "text": [
            "Esteban 31.3\n"
          ],
          "name": "stdout"
        }
      ]
    },
    {
      "cell_type": "code",
      "metadata": {
        "id": "Y76JswqhzqRx",
        "colab_type": "code",
        "outputId": "3e8efc48-f60a-44e7-aa0f-3648780026e6",
        "colab": {
          "base_uri": "https://localhost:8080/",
          "height": 34
        }
      },
      "source": [
        "print('Mi nombre es ', nombre, \" y tengo \", edad, \" años\")"
      ],
      "execution_count": 0,
      "outputs": [
        {
          "output_type": "stream",
          "text": [
            "Mi nombre es  Esteban  y tengo  31.3  años\n"
          ],
          "name": "stdout"
        }
      ]
    },
    {
      "cell_type": "code",
      "metadata": {
        "id": "7hAVTjsj1txQ",
        "colab_type": "code",
        "outputId": "3461f01a-e933-4625-8021-97d98cb206d4",
        "colab": {
          "base_uri": "https://localhost:8080/",
          "height": 34
        }
      },
      "source": [
        "print(\"Mi nombre es {}. Mi edad es {} años.\".format(nombre, edad))"
      ],
      "execution_count": 0,
      "outputs": [
        {
          "output_type": "stream",
          "text": [
            "Mi nombre es Esteban. Mi edad es 31.3 años.\n"
          ],
          "name": "stdout"
        }
      ]
    },
    {
      "cell_type": "markdown",
      "metadata": {
        "id": "N775Wa4g-WSz",
        "colab_type": "text"
      },
      "source": [
        "a) Googlear qué es un diccionario de Python y crear uno.\n",
        "b) ¿Qué hace la función range? Crear un ejemplo."
      ]
    },
    {
      "cell_type": "markdown",
      "metadata": {
        "id": "wafHmy6Y-feW",
        "colab_type": "text"
      },
      "source": [
        "Copiar la edad del compañero/a que esté más cerca.\n",
        "Ǽ. Obtener la diferencia entre tu edad y la de él/ella.\n",
        "ǽ. Decidir (usando Python) cuál edad es mayor.\n",
        "Ǿ. Sumarle Ȁǻ años a la edad menor\n",
        "¿Sigue siendo mayor nuestra edad o edad_compa?\n",
        "Supusimos que la edad menor era edad"
      ]
    },
    {
      "cell_type": "markdown",
      "metadata": {
        "id": "cRaVTNvm-w-D",
        "colab_type": "text"
      },
      "source": [
        " Lista numérica\n",
        "Ǽ. Imprimir en pantalla los primeros Ǽǻ números naturales (ǻ,...,Ȅ)\n",
        "¿Siempre tendremos que escribir los números en una lista “a mano”?\n",
        "ǽ. Imprimir únicamente los cinco primeros números pares.\n",
        "¿Habrá una forma mejor de hacerlo?"
      ]
    },
    {
      "cell_type": "code",
      "metadata": {
        "id": "DcY8LV1Z-Uzr",
        "colab_type": "code",
        "colab": {}
      },
      "source": [
        ""
      ],
      "execution_count": 0,
      "outputs": []
    }
  ]
}